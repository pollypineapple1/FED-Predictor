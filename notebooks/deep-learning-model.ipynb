{
 "cells": [
  {
   "cell_type": "markdown",
   "id": "5dd23c08-e49f-41b2-a00d-c5271d6f2e43",
   "metadata": {},
   "source": [
    "## Dataset preaparation"
   ]
  },
  {
   "cell_type": "markdown",
   "id": "57c68993-aa1a-4514-bd41-040fc845bcb6",
   "metadata": {},
   "source": [
    "#### Import necessary packages"
   ]
  },
  {
   "cell_type": "code",
   "execution_count": 910,
   "id": "7725f047-c8f5-4266-8fc8-2bb93afc002a",
   "metadata": {},
   "outputs": [],
   "source": [
    "import numpy as np\n",
    "import pandas as pd\n",
    "import os"
   ]
  },
  {
   "cell_type": "markdown",
   "id": "8fb884b7-c4f4-450e-b050-4661855dcf69",
   "metadata": {
    "editable": true,
    "slideshow": {
     "slide_type": ""
    },
    "tags": []
   },
   "source": [
    "#### Import Data form csv"
   ]
  },
  {
   "cell_type": "code",
   "execution_count": 911,
   "id": "e86afad7",
   "metadata": {},
   "outputs": [],
   "source": [
    "text=os.getenv('TEXT_DATA')\n",
    "rates=os.getenv('RATES_DATA')"
   ]
  },
  {
   "cell_type": "code",
   "execution_count": 912,
   "id": "85569552-8e17-4780-975b-2eb507bd46dc",
   "metadata": {},
   "outputs": [],
   "source": [
    "# Import files\n",
    "text_df=pd.read_csv(text)\n",
    "rates_df=pd.read_csv(rates)"
   ]
  },
  {
   "cell_type": "markdown",
   "id": "2874cbf3-b413-45fe-bb90-87f69b4ab216",
   "metadata": {},
   "source": [
    "#### Check the data"
   ]
  },
  {
   "cell_type": "code",
   "execution_count": 913,
   "id": "20618670-2c0b-4245-a9f2-683a0c444001",
   "metadata": {},
   "outputs": [
    {
     "data": {
      "text/html": [
       "<div>\n",
       "<style scoped>\n",
       "    .dataframe tbody tr th:only-of-type {\n",
       "        vertical-align: middle;\n",
       "    }\n",
       "\n",
       "    .dataframe tbody tr th {\n",
       "        vertical-align: top;\n",
       "    }\n",
       "\n",
       "    .dataframe thead th {\n",
       "        text-align: right;\n",
       "    }\n",
       "</style>\n",
       "<table border=\"1\" class=\"dataframe\">\n",
       "  <thead>\n",
       "    <tr style=\"text-align: right;\">\n",
       "      <th></th>\n",
       "      <th>Unnamed: 0</th>\n",
       "      <th>Date</th>\n",
       "      <th>Type</th>\n",
       "      <th>Text</th>\n",
       "    </tr>\n",
       "  </thead>\n",
       "  <tbody>\n",
       "    <tr>\n",
       "      <th>0</th>\n",
       "      <td>0</td>\n",
       "      <td>20230412</td>\n",
       "      <td>0</td>\n",
       "      <td>The Federal Reserve on Wednesday released the ...</td>\n",
       "    </tr>\n",
       "    <tr>\n",
       "      <th>1</th>\n",
       "      <td>1</td>\n",
       "      <td>20230412</td>\n",
       "      <td>0</td>\n",
       "      <td>The minutes for each regularly scheduled meeti...</td>\n",
       "    </tr>\n",
       "    <tr>\n",
       "      <th>2</th>\n",
       "      <td>2</td>\n",
       "      <td>20230412</td>\n",
       "      <td>0</td>\n",
       "      <td>The minutes can be viewed on the Board's website.</td>\n",
       "    </tr>\n",
       "    <tr>\n",
       "      <th>3</th>\n",
       "      <td>3</td>\n",
       "      <td>20230412</td>\n",
       "      <td>0</td>\n",
       "      <td>For media inquiries, e-mail [email protected] ...</td>\n",
       "    </tr>\n",
       "    <tr>\n",
       "      <th>4</th>\n",
       "      <td>4</td>\n",
       "      <td>20230412</td>\n",
       "      <td>0</td>\n",
       "      <td>Minutes of the Federal Open Market Committee\\r...</td>\n",
       "    </tr>\n",
       "  </tbody>\n",
       "</table>\n",
       "</div>"
      ],
      "text/plain": [
       "   Unnamed: 0      Date  Type  \\\n",
       "0           0  20230412     0   \n",
       "1           1  20230412     0   \n",
       "2           2  20230412     0   \n",
       "3           3  20230412     0   \n",
       "4           4  20230412     0   \n",
       "\n",
       "                                                Text  \n",
       "0  The Federal Reserve on Wednesday released the ...  \n",
       "1  The minutes for each regularly scheduled meeti...  \n",
       "2  The minutes can be viewed on the Board's website.  \n",
       "3  For media inquiries, e-mail [email protected] ...  \n",
       "4  Minutes of the Federal Open Market Committee\\r...  "
      ]
     },
     "execution_count": 913,
     "metadata": {},
     "output_type": "execute_result"
    }
   ],
   "source": [
    "text_df.head()"
   ]
  },
  {
   "cell_type": "code",
   "execution_count": 914,
   "id": "27712944-04bf-49bf-a7d6-4aa08b3941f7",
   "metadata": {},
   "outputs": [
    {
     "data": {
      "text/html": [
       "<div>\n",
       "<style scoped>\n",
       "    .dataframe tbody tr th:only-of-type {\n",
       "        vertical-align: middle;\n",
       "    }\n",
       "\n",
       "    .dataframe tbody tr th {\n",
       "        vertical-align: top;\n",
       "    }\n",
       "\n",
       "    .dataframe thead th {\n",
       "        text-align: right;\n",
       "    }\n",
       "</style>\n",
       "<table border=\"1\" class=\"dataframe\">\n",
       "  <thead>\n",
       "    <tr style=\"text-align: right;\">\n",
       "      <th></th>\n",
       "      <th>Release Date</th>\n",
       "      <th>Time</th>\n",
       "      <th>Actual</th>\n",
       "      <th>Forecast</th>\n",
       "      <th>Previous</th>\n",
       "    </tr>\n",
       "  </thead>\n",
       "  <tbody>\n",
       "    <tr>\n",
       "      <th>0</th>\n",
       "      <td>Nov 01, 2023</td>\n",
       "      <td>13:00</td>\n",
       "      <td>5.50%</td>\n",
       "      <td>5.50%</td>\n",
       "      <td>5.50%</td>\n",
       "    </tr>\n",
       "    <tr>\n",
       "      <th>1</th>\n",
       "      <td>Sep 20, 2023</td>\n",
       "      <td>13:00</td>\n",
       "      <td>5.50%</td>\n",
       "      <td>5.50%</td>\n",
       "      <td>5.50%</td>\n",
       "    </tr>\n",
       "    <tr>\n",
       "      <th>2</th>\n",
       "      <td>Jul 26, 2023</td>\n",
       "      <td>13:00</td>\n",
       "      <td>5.50%</td>\n",
       "      <td>5.50%</td>\n",
       "      <td>5.25%</td>\n",
       "    </tr>\n",
       "    <tr>\n",
       "      <th>3</th>\n",
       "      <td>Jun 14, 2023</td>\n",
       "      <td>13:00</td>\n",
       "      <td>5.25%</td>\n",
       "      <td>5.25%</td>\n",
       "      <td>5.25%</td>\n",
       "    </tr>\n",
       "    <tr>\n",
       "      <th>4</th>\n",
       "      <td>May 03, 2023</td>\n",
       "      <td>13:00</td>\n",
       "      <td>5.25%</td>\n",
       "      <td>5.25%</td>\n",
       "      <td>5.00%</td>\n",
       "    </tr>\n",
       "  </tbody>\n",
       "</table>\n",
       "</div>"
      ],
      "text/plain": [
       "   Release Date   Time Actual Forecast Previous\n",
       "0  Nov 01, 2023  13:00  5.50%    5.50%    5.50%\n",
       "1  Sep 20, 2023  13:00  5.50%    5.50%    5.50%\n",
       "2  Jul 26, 2023  13:00  5.50%    5.50%    5.25%\n",
       "3  Jun 14, 2023  13:00  5.25%    5.25%    5.25%\n",
       "4  May 03, 2023  13:00  5.25%    5.25%    5.00%"
      ]
     },
     "execution_count": 914,
     "metadata": {},
     "output_type": "execute_result"
    }
   ],
   "source": [
    "rates_df.head()"
   ]
  },
  {
   "cell_type": "code",
   "execution_count": 915,
   "id": "71154992-70f7-449c-8653-ec6c0dbf0e3a",
   "metadata": {},
   "outputs": [
    {
     "name": "stdout",
     "output_type": "stream",
     "text": [
      "<class 'pandas.core.frame.DataFrame'>\n",
      "RangeIndex: 9974 entries, 0 to 9973\n",
      "Data columns (total 4 columns):\n",
      " #   Column      Non-Null Count  Dtype \n",
      "---  ------      --------------  ----- \n",
      " 0   Unnamed: 0  9974 non-null   int64 \n",
      " 1   Date        9974 non-null   int64 \n",
      " 2   Type        9974 non-null   int64 \n",
      " 3   Text        9974 non-null   object\n",
      "dtypes: int64(3), object(1)\n",
      "memory usage: 311.8+ KB\n"
     ]
    }
   ],
   "source": [
    "text_df.info()"
   ]
  },
  {
   "cell_type": "code",
   "execution_count": 916,
   "id": "4eb64682-f82f-453d-9a9b-4abfc8d3b471",
   "metadata": {},
   "outputs": [
    {
     "name": "stdout",
     "output_type": "stream",
     "text": [
      "<class 'pandas.core.frame.DataFrame'>\n",
      "RangeIndex: 201 entries, 0 to 200\n",
      "Data columns (total 5 columns):\n",
      " #   Column        Non-Null Count  Dtype \n",
      "---  ------        --------------  ----- \n",
      " 0   Release Date  201 non-null    object\n",
      " 1   Time          201 non-null    object\n",
      " 2   Actual        201 non-null    object\n",
      " 3   Forecast      201 non-null    object\n",
      " 4   Previous      201 non-null    object\n",
      "dtypes: object(5)\n",
      "memory usage: 8.0+ KB\n"
     ]
    }
   ],
   "source": [
    "rates_df.info()"
   ]
  },
  {
   "cell_type": "markdown",
   "id": "49deb4a1-7419-45c9-aa50-619cfa81796f",
   "metadata": {},
   "source": [
    "#### Remove useless columns and format relevant ones"
   ]
  },
  {
   "cell_type": "code",
   "execution_count": 917,
   "id": "e453eff8-208f-481d-bca0-dc7d6882156e",
   "metadata": {},
   "outputs": [],
   "source": [
    "columns_to_keep = ['Release Date', 'Actual']\n",
    "rates_df=rates_df[columns_to_keep]\n",
    "rates_df=rates_df.rename(columns = {'Release Date' : 'date'})\n",
    "rates_df=rates_df.rename(columns={'Actual': 'rate'})"
   ]
  },
  {
   "cell_type": "code",
   "execution_count": 918,
   "id": "0321c597-6e29-4ab8-92d8-ead4300b86c7",
   "metadata": {},
   "outputs": [],
   "source": [
    "rates_df['date'] = rates_df['date'].astype(str)"
   ]
  },
  {
   "cell_type": "code",
   "execution_count": 919,
   "id": "0bc109f3-4321-47e0-8ea6-0a0bf397a765",
   "metadata": {},
   "outputs": [
    {
     "data": {
      "text/html": [
       "<div>\n",
       "<style scoped>\n",
       "    .dataframe tbody tr th:only-of-type {\n",
       "        vertical-align: middle;\n",
       "    }\n",
       "\n",
       "    .dataframe tbody tr th {\n",
       "        vertical-align: top;\n",
       "    }\n",
       "\n",
       "    .dataframe thead th {\n",
       "        text-align: right;\n",
       "    }\n",
       "</style>\n",
       "<table border=\"1\" class=\"dataframe\">\n",
       "  <thead>\n",
       "    <tr style=\"text-align: right;\">\n",
       "      <th></th>\n",
       "      <th>date</th>\n",
       "      <th>rate</th>\n",
       "    </tr>\n",
       "  </thead>\n",
       "  <tbody>\n",
       "    <tr>\n",
       "      <th>0</th>\n",
       "      <td>Nov 01, 2023</td>\n",
       "      <td>5.50%</td>\n",
       "    </tr>\n",
       "    <tr>\n",
       "      <th>1</th>\n",
       "      <td>Sep 20, 2023</td>\n",
       "      <td>5.50%</td>\n",
       "    </tr>\n",
       "    <tr>\n",
       "      <th>2</th>\n",
       "      <td>Jul 26, 2023</td>\n",
       "      <td>5.50%</td>\n",
       "    </tr>\n",
       "    <tr>\n",
       "      <th>3</th>\n",
       "      <td>Jun 14, 2023</td>\n",
       "      <td>5.25%</td>\n",
       "    </tr>\n",
       "    <tr>\n",
       "      <th>4</th>\n",
       "      <td>May 03, 2023</td>\n",
       "      <td>5.25%</td>\n",
       "    </tr>\n",
       "  </tbody>\n",
       "</table>\n",
       "</div>"
      ],
      "text/plain": [
       "           date   rate\n",
       "0  Nov 01, 2023  5.50%\n",
       "1  Sep 20, 2023  5.50%\n",
       "2  Jul 26, 2023  5.50%\n",
       "3  Jun 14, 2023  5.25%\n",
       "4  May 03, 2023  5.25%"
      ]
     },
     "execution_count": 919,
     "metadata": {},
     "output_type": "execute_result"
    }
   ],
   "source": [
    "rates_df.head()"
   ]
  },
  {
   "cell_type": "markdown",
   "id": "c1dd9378-ed7d-44c2-b253-d49f413a8349",
   "metadata": {},
   "source": [
    "Conversion to datetime"
   ]
  },
  {
   "cell_type": "code",
   "execution_count": 920,
   "id": "8b227b34-9cd2-4e23-b3ef-2cb00239bbd7",
   "metadata": {},
   "outputs": [],
   "source": [
    "rates_df['date'] = pd.to_datetime(rates_df['date'], format = '%b %d, %Y')"
   ]
  },
  {
   "cell_type": "code",
   "execution_count": 921,
   "id": "34995b17-7201-4487-80dc-83d3fc7b004d",
   "metadata": {},
   "outputs": [
    {
     "name": "stdout",
     "output_type": "stream",
     "text": [
      "<class 'pandas.core.frame.DataFrame'>\n",
      "RangeIndex: 201 entries, 0 to 200\n",
      "Data columns (total 2 columns):\n",
      " #   Column  Non-Null Count  Dtype         \n",
      "---  ------  --------------  -----         \n",
      " 0   date    201 non-null    datetime64[ns]\n",
      " 1   rate    201 non-null    object        \n",
      "dtypes: datetime64[ns](1), object(1)\n",
      "memory usage: 3.3+ KB\n"
     ]
    }
   ],
   "source": [
    "rates_df.info()"
   ]
  },
  {
   "cell_type": "code",
   "execution_count": 922,
   "id": "ebc6148b-e01e-4f05-99a3-62bbc4207484",
   "metadata": {},
   "outputs": [],
   "source": [
    "# ensure rates are number object\n",
    "rates_df['rate']=rates_df['rate'].str.strip('%').astype(float)"
   ]
  },
  {
   "cell_type": "code",
   "execution_count": 923,
   "id": "69eb1bf3-75d5-4f36-9b91-882300300517",
   "metadata": {},
   "outputs": [
    {
     "name": "stdout",
     "output_type": "stream",
     "text": [
      "<class 'pandas.core.frame.DataFrame'>\n",
      "RangeIndex: 201 entries, 0 to 200\n",
      "Data columns (total 2 columns):\n",
      " #   Column  Non-Null Count  Dtype         \n",
      "---  ------  --------------  -----         \n",
      " 0   date    201 non-null    datetime64[ns]\n",
      " 1   rate    201 non-null    float64       \n",
      "dtypes: datetime64[ns](1), float64(1)\n",
      "memory usage: 3.3 KB\n"
     ]
    }
   ],
   "source": [
    "rates_df.info()"
   ]
  },
  {
   "cell_type": "code",
   "execution_count": 924,
   "id": "8cc31017-b82e-43a0-8f3c-c1dd002b7086",
   "metadata": {},
   "outputs": [
    {
     "data": {
      "text/html": [
       "<div>\n",
       "<style scoped>\n",
       "    .dataframe tbody tr th:only-of-type {\n",
       "        vertical-align: middle;\n",
       "    }\n",
       "\n",
       "    .dataframe tbody tr th {\n",
       "        vertical-align: top;\n",
       "    }\n",
       "\n",
       "    .dataframe thead th {\n",
       "        text-align: right;\n",
       "    }\n",
       "</style>\n",
       "<table border=\"1\" class=\"dataframe\">\n",
       "  <thead>\n",
       "    <tr style=\"text-align: right;\">\n",
       "      <th></th>\n",
       "      <th>date</th>\n",
       "      <th>rate</th>\n",
       "    </tr>\n",
       "  </thead>\n",
       "  <tbody>\n",
       "    <tr>\n",
       "      <th>0</th>\n",
       "      <td>2023-11-01</td>\n",
       "      <td>5.50</td>\n",
       "    </tr>\n",
       "    <tr>\n",
       "      <th>1</th>\n",
       "      <td>2023-09-20</td>\n",
       "      <td>5.50</td>\n",
       "    </tr>\n",
       "    <tr>\n",
       "      <th>2</th>\n",
       "      <td>2023-07-26</td>\n",
       "      <td>5.50</td>\n",
       "    </tr>\n",
       "    <tr>\n",
       "      <th>3</th>\n",
       "      <td>2023-06-14</td>\n",
       "      <td>5.25</td>\n",
       "    </tr>\n",
       "    <tr>\n",
       "      <th>4</th>\n",
       "      <td>2023-05-03</td>\n",
       "      <td>5.25</td>\n",
       "    </tr>\n",
       "  </tbody>\n",
       "</table>\n",
       "</div>"
      ],
      "text/plain": [
       "        date  rate\n",
       "0 2023-11-01  5.50\n",
       "1 2023-09-20  5.50\n",
       "2 2023-07-26  5.50\n",
       "3 2023-06-14  5.25\n",
       "4 2023-05-03  5.25"
      ]
     },
     "execution_count": 924,
     "metadata": {},
     "output_type": "execute_result"
    }
   ],
   "source": [
    "rates_df.head()"
   ]
  },
  {
   "cell_type": "code",
   "execution_count": 925,
   "id": "d6225f3b-8a18-494b-8b6e-3b8275883528",
   "metadata": {},
   "outputs": [],
   "source": [
    "text_df['Date']=pd.to_datetime(text_df['Date'], format='%Y%m%d')\n",
    "text_df=text_df.rename(columns={'Date': 'date'})\n",
    "text_df=text_df.rename(columns={'Text': 'text'})\n",
    "text_df=text_df.rename(columns={'Type': 'type'})"
   ]
  },
  {
   "cell_type": "code",
   "execution_count": 926,
   "id": "084abe79-6f3f-4a5f-842a-7e93dbe1a4da",
   "metadata": {},
   "outputs": [],
   "source": [
    "# Eliminate redundant rates decisions for which we don't have text\n",
    "start_date_text_df = text_df['date'].min()\n",
    "rates_df = rates_df[rates_df['date'] >= start_date_text_df]"
   ]
  },
  {
   "cell_type": "code",
   "execution_count": 927,
   "id": "a013a21a-af42-46a2-8562-e168f087b5a4",
   "metadata": {},
   "outputs": [
    {
     "name": "stdout",
     "output_type": "stream",
     "text": [
      "<class 'pandas.core.frame.DataFrame'>\n",
      "Index: 72 entries, 0 to 71\n",
      "Data columns (total 2 columns):\n",
      " #   Column  Non-Null Count  Dtype         \n",
      "---  ------  --------------  -----         \n",
      " 0   date    72 non-null     datetime64[ns]\n",
      " 1   rate    72 non-null     float64       \n",
      "dtypes: datetime64[ns](1), float64(1)\n",
      "memory usage: 1.7 KB\n"
     ]
    }
   ],
   "source": [
    "rates_df.info()"
   ]
  },
  {
   "cell_type": "markdown",
   "id": "83f7b7e1-929a-424d-9bde-6bdc482fc24a",
   "metadata": {},
   "source": [
    "#### Convert type to text"
   ]
  },
  {
   "cell_type": "code",
   "execution_count": 928,
   "id": "ea5ddc3a-8709-4dc9-9c5b-faef5e77f606",
   "metadata": {},
   "outputs": [],
   "source": [
    "# convert classification to number\n",
    "text_df['type_text'] = text_df['type'].apply(lambda x: 'statement' if x == 0 else 'minutes')"
   ]
  },
  {
   "cell_type": "code",
   "execution_count": 929,
   "id": "ba7267a8-10ac-4183-a26e-12145d71433b",
   "metadata": {},
   "outputs": [],
   "source": [
    "text_df.drop(['Unnamed: 0','type'], axis=1, inplace=True)"
   ]
  },
  {
   "cell_type": "code",
   "execution_count": 930,
   "id": "df01cea3-bec3-46c5-9e74-ea00d1bbfa88",
   "metadata": {},
   "outputs": [
    {
     "name": "stdout",
     "output_type": "stream",
     "text": [
      "<class 'pandas.core.frame.DataFrame'>\n",
      "RangeIndex: 9974 entries, 0 to 9973\n",
      "Data columns (total 3 columns):\n",
      " #   Column     Non-Null Count  Dtype         \n",
      "---  ------     --------------  -----         \n",
      " 0   date       9974 non-null   datetime64[ns]\n",
      " 1   text       9974 non-null   object        \n",
      " 2   type_text  9974 non-null   object        \n",
      "dtypes: datetime64[ns](1), object(2)\n",
      "memory usage: 233.9+ KB\n"
     ]
    }
   ],
   "source": [
    "text_df.info()"
   ]
  },
  {
   "cell_type": "markdown",
   "id": "199607d5-8ebe-406d-b39f-e5a0d1d5c31a",
   "metadata": {},
   "source": [
    "#### Convert rates to text"
   ]
  },
  {
   "cell_type": "code",
   "execution_count": 931,
   "id": "7d467011-0c23-4fe4-93cc-11ef6cb12b48",
   "metadata": {},
   "outputs": [],
   "source": [
    "# convert numbers into up or down\n",
    "rates_df['rate_change'] = rates_df['rate'].diff()\n",
    "rates_df['rate_change_text'] = rates_df['rate_change'].apply(lambda x: 'up' if x > 0 else ('down' if x < 0 else 'no change')).astype(str)"
   ]
  },
  {
   "cell_type": "code",
   "execution_count": 932,
   "id": "2b559cc4-366c-4313-bd4d-36ae2cd5a6da",
   "metadata": {},
   "outputs": [
    {
     "data": {
      "text/html": [
       "<div>\n",
       "<style scoped>\n",
       "    .dataframe tbody tr th:only-of-type {\n",
       "        vertical-align: middle;\n",
       "    }\n",
       "\n",
       "    .dataframe tbody tr th {\n",
       "        vertical-align: top;\n",
       "    }\n",
       "\n",
       "    .dataframe thead th {\n",
       "        text-align: right;\n",
       "    }\n",
       "</style>\n",
       "<table border=\"1\" class=\"dataframe\">\n",
       "  <thead>\n",
       "    <tr style=\"text-align: right;\">\n",
       "      <th></th>\n",
       "      <th>date</th>\n",
       "      <th>rate</th>\n",
       "      <th>rate_change</th>\n",
       "      <th>rate_change_text</th>\n",
       "    </tr>\n",
       "  </thead>\n",
       "  <tbody>\n",
       "    <tr>\n",
       "      <th>0</th>\n",
       "      <td>2023-11-01</td>\n",
       "      <td>5.50</td>\n",
       "      <td>NaN</td>\n",
       "      <td>no change</td>\n",
       "    </tr>\n",
       "    <tr>\n",
       "      <th>1</th>\n",
       "      <td>2023-09-20</td>\n",
       "      <td>5.50</td>\n",
       "      <td>0.00</td>\n",
       "      <td>no change</td>\n",
       "    </tr>\n",
       "    <tr>\n",
       "      <th>2</th>\n",
       "      <td>2023-07-26</td>\n",
       "      <td>5.50</td>\n",
       "      <td>0.00</td>\n",
       "      <td>no change</td>\n",
       "    </tr>\n",
       "    <tr>\n",
       "      <th>3</th>\n",
       "      <td>2023-06-14</td>\n",
       "      <td>5.25</td>\n",
       "      <td>-0.25</td>\n",
       "      <td>down</td>\n",
       "    </tr>\n",
       "    <tr>\n",
       "      <th>4</th>\n",
       "      <td>2023-05-03</td>\n",
       "      <td>5.25</td>\n",
       "      <td>0.00</td>\n",
       "      <td>no change</td>\n",
       "    </tr>\n",
       "  </tbody>\n",
       "</table>\n",
       "</div>"
      ],
      "text/plain": [
       "        date  rate  rate_change rate_change_text\n",
       "0 2023-11-01  5.50          NaN        no change\n",
       "1 2023-09-20  5.50         0.00        no change\n",
       "2 2023-07-26  5.50         0.00        no change\n",
       "3 2023-06-14  5.25        -0.25             down\n",
       "4 2023-05-03  5.25         0.00        no change"
      ]
     },
     "execution_count": 932,
     "metadata": {},
     "output_type": "execute_result"
    }
   ],
   "source": [
    "rates_df.head()"
   ]
  },
  {
   "cell_type": "markdown",
   "id": "b0c172fd-732f-4f9b-9b31-df9bd57422ca",
   "metadata": {},
   "source": [
    "## Data Preprocessing"
   ]
  },
  {
   "cell_type": "code",
   "execution_count": 933,
   "id": "9723b011-6ea8-45bc-96be-e3742ccf5c10",
   "metadata": {},
   "outputs": [],
   "source": [
    "from datetime import timedelta\n",
    "\n",
    "from sklearn.preprocessing import OrdinalEncoder"
   ]
  },
  {
   "cell_type": "markdown",
   "id": "39edfb7e-3cfd-4bc2-8fd7-bf85b23c3a9f",
   "metadata": {},
   "source": [
    "### Sliding window technique"
   ]
  },
  {
   "cell_type": "markdown",
   "id": "d8c17931-1e55-4c1f-a810-1653054ce8d6",
   "metadata": {},
   "source": [
    "To avoid losing information that may be inherent to the sequentiality of the text, use sliding window technique to\n",
    "add all text relevant to one rate decision in a row. apply this only to press releases. keep minutes as a separate window\n"
   ]
  },
  {
   "cell_type": "code",
   "execution_count": 934,
   "id": "76cbe4a6-ede7-45a5-b1aa-78b398b923ce",
   "metadata": {},
   "outputs": [],
   "source": [
    "# sort data in cronological order \n",
    "rates_df.sort_values(by='date', inplace=True)\n",
    "text_df.sort_values(by='date', inplace=True)"
   ]
  },
  {
   "cell_type": "code",
   "execution_count": 935,
   "id": "c2dec865-29d9-46d9-a406-57e7f923a69f",
   "metadata": {},
   "outputs": [],
   "source": [
    "# Calculate the difference between consecutive rate decisions to determine dynamic window size\n",
    "rates_df['next_date'] = rates_df['date'].shift(-1)\n",
    "rates_df['date_diff'] = (rates_df['next_date'] - rates_df['date']).dt.days"
   ]
  },
  {
   "cell_type": "code",
   "execution_count": 936,
   "id": "87bb984e-91db-461e-9150-6351270e9d57",
   "metadata": {},
   "outputs": [
    {
     "data": {
      "text/html": [
       "<div>\n",
       "<style scoped>\n",
       "    .dataframe tbody tr th:only-of-type {\n",
       "        vertical-align: middle;\n",
       "    }\n",
       "\n",
       "    .dataframe tbody tr th {\n",
       "        vertical-align: top;\n",
       "    }\n",
       "\n",
       "    .dataframe thead th {\n",
       "        text-align: right;\n",
       "    }\n",
       "</style>\n",
       "<table border=\"1\" class=\"dataframe\">\n",
       "  <thead>\n",
       "    <tr style=\"text-align: right;\">\n",
       "      <th></th>\n",
       "      <th>date</th>\n",
       "      <th>rate</th>\n",
       "      <th>rate_change</th>\n",
       "      <th>rate_change_text</th>\n",
       "      <th>next_date</th>\n",
       "      <th>date_diff</th>\n",
       "    </tr>\n",
       "  </thead>\n",
       "  <tbody>\n",
       "    <tr>\n",
       "      <th>71</th>\n",
       "      <td>2015-01-28</td>\n",
       "      <td>0.25</td>\n",
       "      <td>0.0</td>\n",
       "      <td>no change</td>\n",
       "      <td>2015-03-18</td>\n",
       "      <td>49.0</td>\n",
       "    </tr>\n",
       "    <tr>\n",
       "      <th>70</th>\n",
       "      <td>2015-03-18</td>\n",
       "      <td>0.25</td>\n",
       "      <td>0.0</td>\n",
       "      <td>no change</td>\n",
       "      <td>2015-04-29</td>\n",
       "      <td>42.0</td>\n",
       "    </tr>\n",
       "    <tr>\n",
       "      <th>69</th>\n",
       "      <td>2015-04-29</td>\n",
       "      <td>0.25</td>\n",
       "      <td>0.0</td>\n",
       "      <td>no change</td>\n",
       "      <td>2015-06-17</td>\n",
       "      <td>49.0</td>\n",
       "    </tr>\n",
       "    <tr>\n",
       "      <th>68</th>\n",
       "      <td>2015-06-17</td>\n",
       "      <td>0.25</td>\n",
       "      <td>0.0</td>\n",
       "      <td>no change</td>\n",
       "      <td>2015-07-29</td>\n",
       "      <td>42.0</td>\n",
       "    </tr>\n",
       "    <tr>\n",
       "      <th>67</th>\n",
       "      <td>2015-07-29</td>\n",
       "      <td>0.25</td>\n",
       "      <td>0.0</td>\n",
       "      <td>no change</td>\n",
       "      <td>2015-09-17</td>\n",
       "      <td>50.0</td>\n",
       "    </tr>\n",
       "  </tbody>\n",
       "</table>\n",
       "</div>"
      ],
      "text/plain": [
       "         date  rate  rate_change rate_change_text  next_date  date_diff\n",
       "71 2015-01-28  0.25          0.0        no change 2015-03-18       49.0\n",
       "70 2015-03-18  0.25          0.0        no change 2015-04-29       42.0\n",
       "69 2015-04-29  0.25          0.0        no change 2015-06-17       49.0\n",
       "68 2015-06-17  0.25          0.0        no change 2015-07-29       42.0\n",
       "67 2015-07-29  0.25          0.0        no change 2015-09-17       50.0"
      ]
     },
     "execution_count": 936,
     "metadata": {},
     "output_type": "execute_result"
    }
   ],
   "source": [
    "rates_df.head()"
   ]
  },
  {
   "cell_type": "code",
   "execution_count": 937,
   "id": "89603726-8089-4ae2-9f84-54987eac9cde",
   "metadata": {},
   "outputs": [
    {
     "name": "stdout",
     "output_type": "stream",
     "text": [
      "        date  rate  rate_change rate_change_text next_date  date_diff\n",
      "0 2023-11-01   5.5          NaN        no change       NaT        NaN\n"
     ]
    }
   ],
   "source": [
    "# Check for NaNs since we are subtracting time deltas\n",
    "print(rates_df[pd.isna(rates_df['date_diff'])])"
   ]
  },
  {
   "cell_type": "code",
   "execution_count": 938,
   "id": "d2761a35-a1bb-4716-b268-13ceaa6ed93e",
   "metadata": {},
   "outputs": [],
   "source": [
    "rates_df['date_diff'] = rates_df['date_diff'].fillna(0).astype(int)"
   ]
  },
  {
   "cell_type": "code",
   "execution_count": 939,
   "id": "d2c32e90-efd6-404a-b56f-8b2e9442f31d",
   "metadata": {},
   "outputs": [
    {
     "name": "stdout",
     "output_type": "stream",
     "text": [
      "Empty DataFrame\n",
      "Columns: [date, rate, rate_change, rate_change_text, next_date, date_diff]\n",
      "Index: []\n"
     ]
    }
   ],
   "source": [
    "print(rates_df[pd.isna(rates_df['date_diff'])])"
   ]
  },
  {
   "cell_type": "code",
   "execution_count": 940,
   "id": "0594ccd6-6136-4d3f-beaa-e393b4007e92",
   "metadata": {},
   "outputs": [],
   "source": [
    "# isolate statements and minutes as they occurr at different times relative to previous decisions\n",
    "statement_df = text_df[text_df['type_text'] == 'statement']\n",
    "minutes_df = text_df[text_df['type_text'] == 'minutes']    "
   ]
  },
  {
   "cell_type": "code",
   "execution_count": 941,
   "id": "9656e2c4-91da-4b42-8f74-0371d7d0addd",
   "metadata": {},
   "outputs": [
    {
     "name": "stdout",
     "output_type": "stream",
     "text": [
      "<class 'pandas.core.frame.DataFrame'>\n",
      "Index: 1729 entries, 9973 to 0\n",
      "Data columns (total 3 columns):\n",
      " #   Column     Non-Null Count  Dtype         \n",
      "---  ------     --------------  -----         \n",
      " 0   date       1729 non-null   datetime64[ns]\n",
      " 1   text       1729 non-null   object        \n",
      " 2   type_text  1729 non-null   object        \n",
      "dtypes: datetime64[ns](1), object(2)\n",
      "memory usage: 54.0+ KB\n",
      "<class 'pandas.core.frame.DataFrame'>\n",
      "Index: 8245 entries, 9815 to 96\n",
      "Data columns (total 3 columns):\n",
      " #   Column     Non-Null Count  Dtype         \n",
      "---  ------     --------------  -----         \n",
      " 0   date       8245 non-null   datetime64[ns]\n",
      " 1   text       8245 non-null   object        \n",
      " 2   type_text  8245 non-null   object        \n",
      "dtypes: datetime64[ns](1), object(2)\n",
      "memory usage: 257.7+ KB\n"
     ]
    }
   ],
   "source": [
    "statement_df.info()\n",
    "minutes_df.info()"
   ]
  },
  {
   "cell_type": "code",
   "execution_count": 942,
   "id": "6a352cdc-b145-4b25-a420-f4bb80fa621d",
   "metadata": {},
   "outputs": [],
   "source": [
    "# group texts for each rate decision with a dynamic window size\n",
    "def group_text(rate_date, text_df, date_diff):\n",
    "    window_size = timedelta(days=date_diff)\n",
    "\n",
    "    # Filter texts that occurred before the rate decision\n",
    "    valid_texts = text_df[text_df['date'] < rate_date]\n",
    "\n",
    "    # Apply sliding window: Get texts within the specified window size before rate_date\n",
    "    texts_in_window = valid_texts[valid_texts['date'] >= rate_date - window_size]\n",
    "\n",
    "    # Combine the texts\n",
    "    grouped_texts = ' '.join(texts_in_window['text'])\n",
    "    \n",
    "    return grouped_texts\n"
   ]
  },
  {
   "cell_type": "code",
   "execution_count": 943,
   "id": "ac0eb48f-d872-4252-9a9d-de6aeece5c6a",
   "metadata": {},
   "outputs": [],
   "source": [
    "pairing_data  = []\n",
    "\n",
    "for _, rate_row in rates_df.iterrows():\n",
    "    rate_date = rate_row['date']\n",
    "    rate = rate_row['rate_change_text']\n",
    "    date_diff = rate_row['date_diff']\n",
    "\n",
    "    grouped_statements = group_text(rate_date, statement_df, date_diff)\n",
    "    grouped_minutes = group_text(rate_date, minutes_df, date_diff)\n",
    "    \n",
    "    # Add the data to pairing_df\n",
    "    pairing_data.append({\n",
    "        'decision': rate,\n",
    "        'date': rate_date,\n",
    "        'grouped_statements': grouped_statements,\n",
    "        'grouped_minutes': grouped_minutes,\n",
    "        'window_size_days': date_diff  # Store the dynamic window size for reference\n",
    "    })\n",
    "\n",
    "    \n",
    "    # Convert pairing_df to a DataFrame\n",
    "    pairing_df = pd.DataFrame(pairing_data)    "
   ]
  },
  {
   "cell_type": "code",
   "execution_count": 944,
   "id": "291f6a49-7752-49d9-b126-cee77a1e521d",
   "metadata": {},
   "outputs": [],
   "source": [
    "pairing_df = pairing_df.set_index(\"date\")"
   ]
  },
  {
   "cell_type": "code",
   "execution_count": 945,
   "id": "62bb692e-b44a-41a4-8787-d29efa5d120b",
   "metadata": {},
   "outputs": [],
   "source": [
    "pairing_df= pairing_df.drop(columns=['window_size_days'])"
   ]
  },
  {
   "cell_type": "code",
   "execution_count": 946,
   "id": "2f3350cf-93a5-43b8-916a-8008d7041a8d",
   "metadata": {},
   "outputs": [
    {
     "data": {
      "text/html": [
       "<div>\n",
       "<style scoped>\n",
       "    .dataframe tbody tr th:only-of-type {\n",
       "        vertical-align: middle;\n",
       "    }\n",
       "\n",
       "    .dataframe tbody tr th {\n",
       "        vertical-align: top;\n",
       "    }\n",
       "\n",
       "    .dataframe thead th {\n",
       "        text-align: right;\n",
       "    }\n",
       "</style>\n",
       "<table border=\"1\" class=\"dataframe\">\n",
       "  <thead>\n",
       "    <tr style=\"text-align: right;\">\n",
       "      <th></th>\n",
       "      <th>decision</th>\n",
       "      <th>grouped_statements</th>\n",
       "      <th>grouped_minutes</th>\n",
       "    </tr>\n",
       "    <tr>\n",
       "      <th>date</th>\n",
       "      <th></th>\n",
       "      <th></th>\n",
       "      <th></th>\n",
       "    </tr>\n",
       "  </thead>\n",
       "  <tbody>\n",
       "    <tr>\n",
       "      <th>2015-01-28</th>\n",
       "      <td>no change</td>\n",
       "      <td>\\r\\n       For media inquiries, call 202-452-2...</td>\n",
       "      <td></td>\n",
       "    </tr>\n",
       "    <tr>\n",
       "      <th>2015-03-18</th>\n",
       "      <td>no change</td>\n",
       "      <td>\\nSubmission of Tender\\nParticipants must subm...</td>\n",
       "      <td></td>\n",
       "    </tr>\n",
       "    <tr>\n",
       "      <th>2015-04-29</th>\n",
       "      <td>no change</td>\n",
       "      <td>\\r\\n       Information received since the Fede...</td>\n",
       "      <td>Michael Dotsey, Craig S. Hakkio, Evan F. Koeni...</td>\n",
       "    </tr>\n",
       "    <tr>\n",
       "      <th>2015-06-17</th>\n",
       "      <td>no change</td>\n",
       "      <td>\\r\\n       The Federal Open Market Committee o...</td>\n",
       "      <td></td>\n",
       "    </tr>\n",
       "    <tr>\n",
       "      <th>2015-07-29</th>\n",
       "      <td>no change</td>\n",
       "      <td>\\r\\n      Voting for the FOMC monetary policy ...</td>\n",
       "      <td>Glenn Follette and Paul A. Smith, Assistant Di...</td>\n",
       "    </tr>\n",
       "  </tbody>\n",
       "</table>\n",
       "</div>"
      ],
      "text/plain": [
       "             decision                                 grouped_statements  \\\n",
       "date                                                                       \n",
       "2015-01-28  no change  \\r\\n       For media inquiries, call 202-452-2...   \n",
       "2015-03-18  no change  \\nSubmission of Tender\\nParticipants must subm...   \n",
       "2015-04-29  no change  \\r\\n       Information received since the Fede...   \n",
       "2015-06-17  no change  \\r\\n       The Federal Open Market Committee o...   \n",
       "2015-07-29  no change  \\r\\n      Voting for the FOMC monetary policy ...   \n",
       "\n",
       "                                              grouped_minutes  \n",
       "date                                                           \n",
       "2015-01-28                                                     \n",
       "2015-03-18                                                     \n",
       "2015-04-29  Michael Dotsey, Craig S. Hakkio, Evan F. Koeni...  \n",
       "2015-06-17                                                     \n",
       "2015-07-29  Glenn Follette and Paul A. Smith, Assistant Di...  "
      ]
     },
     "execution_count": 946,
     "metadata": {},
     "output_type": "execute_result"
    }
   ],
   "source": [
    "pairing_df.head()"
   ]
  },
  {
   "cell_type": "markdown",
   "id": "336acc16-5814-42fb-b0ad-534e2496caea",
   "metadata": {},
   "source": [
    "#### One-hot-encode"
   ]
  },
  {
   "cell_type": "code",
   "execution_count": 947,
   "id": "fb7fe480-543f-426e-8784-d41d71c6eac0",
   "metadata": {},
   "outputs": [
    {
     "name": "stdout",
     "output_type": "stream",
     "text": [
      "decision\n",
      "no change    47\n",
      "down         20\n",
      "up            5\n",
      "Name: count, dtype: int64\n"
     ]
    }
   ],
   "source": [
    "print(pairing_df['decision'].value_counts())"
   ]
  },
  {
   "cell_type": "code",
   "execution_count": 948,
   "id": "b72d84dc-647e-40af-b198-87690596e871",
   "metadata": {},
   "outputs": [],
   "source": [
    "ordinal_encoder = OrdinalEncoder()"
   ]
  },
  {
   "cell_type": "code",
   "execution_count": 949,
   "id": "b8a5c7d4-94ad-4dce-a136-cf04bbbe9a5d",
   "metadata": {},
   "outputs": [
    {
     "data": {
      "text/plain": [
       "[array(['down', 'no change', 'up'], dtype=object)]"
      ]
     },
     "metadata": {},
     "output_type": "display_data"
    }
   ],
   "source": [
    "ordinal_encoder.fit(pairing_df[[\"decision\"]])\n",
    "display(ordinal_encoder.categories_)"
   ]
  },
  {
   "cell_type": "code",
   "execution_count": 950,
   "id": "507f3052-f463-47a8-b413-ad5852796a5e",
   "metadata": {},
   "outputs": [],
   "source": [
    "pairing_df[\"decision_encoded\"] = ordinal_encoder.transform(pairing_df[[\"decision\"]]).astype(int)"
   ]
  },
  {
   "cell_type": "code",
   "execution_count": 951,
   "id": "6d9359a8-bd77-4e58-8f8a-f74e54641b5f",
   "metadata": {},
   "outputs": [
    {
     "name": "stdout",
     "output_type": "stream",
     "text": [
      "decision_encoded\n",
      "1    47\n",
      "0    20\n",
      "2     5\n",
      "Name: count, dtype: int64\n"
     ]
    }
   ],
   "source": [
    "print(pairing_df['decision_encoded'].value_counts())"
   ]
  },
  {
   "cell_type": "code",
   "execution_count": 952,
   "id": "720c59ef-187d-4b4b-81ad-da5407ce5ae5",
   "metadata": {},
   "outputs": [
    {
     "data": {
      "text/html": [
       "<div>\n",
       "<style scoped>\n",
       "    .dataframe tbody tr th:only-of-type {\n",
       "        vertical-align: middle;\n",
       "    }\n",
       "\n",
       "    .dataframe tbody tr th {\n",
       "        vertical-align: top;\n",
       "    }\n",
       "\n",
       "    .dataframe thead th {\n",
       "        text-align: right;\n",
       "    }\n",
       "</style>\n",
       "<table border=\"1\" class=\"dataframe\">\n",
       "  <thead>\n",
       "    <tr style=\"text-align: right;\">\n",
       "      <th></th>\n",
       "      <th>decision</th>\n",
       "      <th>grouped_statements</th>\n",
       "      <th>grouped_minutes</th>\n",
       "      <th>decision_encoded</th>\n",
       "    </tr>\n",
       "    <tr>\n",
       "      <th>date</th>\n",
       "      <th></th>\n",
       "      <th></th>\n",
       "      <th></th>\n",
       "      <th></th>\n",
       "    </tr>\n",
       "  </thead>\n",
       "  <tbody>\n",
       "    <tr>\n",
       "      <th>2015-01-28</th>\n",
       "      <td>no change</td>\n",
       "      <td>\\r\\n       For media inquiries, call 202-452-2...</td>\n",
       "      <td></td>\n",
       "      <td>1</td>\n",
       "    </tr>\n",
       "    <tr>\n",
       "      <th>2015-03-18</th>\n",
       "      <td>no change</td>\n",
       "      <td>\\nSubmission of Tender\\nParticipants must subm...</td>\n",
       "      <td></td>\n",
       "      <td>1</td>\n",
       "    </tr>\n",
       "    <tr>\n",
       "      <th>2015-04-29</th>\n",
       "      <td>no change</td>\n",
       "      <td>\\r\\n       Information received since the Fede...</td>\n",
       "      <td>Michael Dotsey, Craig S. Hakkio, Evan F. Koeni...</td>\n",
       "      <td>1</td>\n",
       "    </tr>\n",
       "    <tr>\n",
       "      <th>2015-06-17</th>\n",
       "      <td>no change</td>\n",
       "      <td>\\r\\n       The Federal Open Market Committee o...</td>\n",
       "      <td></td>\n",
       "      <td>1</td>\n",
       "    </tr>\n",
       "    <tr>\n",
       "      <th>2015-07-29</th>\n",
       "      <td>no change</td>\n",
       "      <td>\\r\\n      Voting for the FOMC monetary policy ...</td>\n",
       "      <td>Glenn Follette and Paul A. Smith, Assistant Di...</td>\n",
       "      <td>1</td>\n",
       "    </tr>\n",
       "  </tbody>\n",
       "</table>\n",
       "</div>"
      ],
      "text/plain": [
       "             decision                                 grouped_statements  \\\n",
       "date                                                                       \n",
       "2015-01-28  no change  \\r\\n       For media inquiries, call 202-452-2...   \n",
       "2015-03-18  no change  \\nSubmission of Tender\\nParticipants must subm...   \n",
       "2015-04-29  no change  \\r\\n       Information received since the Fede...   \n",
       "2015-06-17  no change  \\r\\n       The Federal Open Market Committee o...   \n",
       "2015-07-29  no change  \\r\\n      Voting for the FOMC monetary policy ...   \n",
       "\n",
       "                                              grouped_minutes  \\\n",
       "date                                                            \n",
       "2015-01-28                                                      \n",
       "2015-03-18                                                      \n",
       "2015-04-29  Michael Dotsey, Craig S. Hakkio, Evan F. Koeni...   \n",
       "2015-06-17                                                      \n",
       "2015-07-29  Glenn Follette and Paul A. Smith, Assistant Di...   \n",
       "\n",
       "            decision_encoded  \n",
       "date                          \n",
       "2015-01-28                 1  \n",
       "2015-03-18                 1  \n",
       "2015-04-29                 1  \n",
       "2015-06-17                 1  \n",
       "2015-07-29                 1  "
      ]
     },
     "execution_count": 952,
     "metadata": {},
     "output_type": "execute_result"
    }
   ],
   "source": [
    "pairing_df.head()"
   ]
  },
  {
   "cell_type": "markdown",
   "id": "a19301fa-9b4b-4692-9fb1-d5c06570cb76",
   "metadata": {},
   "source": [
    "## Deep Learning Model"
   ]
  },
  {
   "cell_type": "markdown",
   "id": "837157cc-9d4f-4be1-9bab-218974772267",
   "metadata": {},
   "source": [
    "The model of choice are FinBERT for feature extraction (transforming text into numerical embeddings) and BiLSTM for sequence modeling and prediction\n",
    "\n",
    "FinBERT is a domain-specific NLP trained on financial data. BiLSTM works well with sequences; it can recognize patterns over time"
   ]
  },
  {
   "cell_type": "code",
   "execution_count": 953,
   "id": "68fbc026-8333-40e6-a77e-064d5b0ad63a",
   "metadata": {
    "scrolled": true
   },
   "outputs": [],
   "source": [
    "import torch\n",
    "from transformers import AutoTokenizer, AutoModel, pipeline\n",
    "\n",
    "from sklearn.model_selection import train_test_split\n",
    "from sklearn.model_selection import KFold\n",
    "\n",
    "import torch.nn as nn\n",
    "import torch.optim as optim\n",
    "\n",
    "from sklearn.metrics import accuracy_score"
   ]
  },
  {
   "cell_type": "markdown",
   "id": "3c31303d-a064-420f-8854-9172dfcb4abc",
   "metadata": {},
   "source": [
    "#### Vectorization (FinBERT)"
   ]
  },
  {
   "cell_type": "markdown",
   "id": "c1ce509e-aff7-40d5-91a1-aa1d59fbfa5a",
   "metadata": {},
   "source": [
    "No preprocessing for symbols, stopwords or spaces are needed. FinBERT is a pre-trained vectorizer that knows how to handle domain-specific raw text"
   ]
  },
  {
   "cell_type": "code",
   "execution_count": 954,
   "id": "c466c242-723e-45de-87e6-e04b339234a8",
   "metadata": {},
   "outputs": [],
   "source": [
    "tokenizer = AutoTokenizer.from_pretrained(\"ProsusAI/finbert\")\n",
    "model = AutoModel.from_pretrained(\"ProsusAI/finbert\")"
   ]
  },
  {
   "cell_type": "code",
   "execution_count": 955,
   "id": "5129060f-a356-4a26-9dce-cbd546371b69",
   "metadata": {},
   "outputs": [],
   "source": [
    "# vectorization using FinBERT\n",
    "\n",
    "def get_finbert_embedding(text):\n",
    "    # Ensure text is not empty or NaN\n",
    "    if not text or text == \"nan\" or pd.isna(text):\n",
    "        return np.zeros((768,))  # Return a zero-vector if input is empty or NaN\n",
    "    \n",
    "    # Proceed with tokenization and embedding generation\n",
    "    inputs = tokenizer(text, padding=True, truncation=True, return_tensors=\"pt\", max_length=512)\n",
    "    with torch.no_grad():\n",
    "        outputs = model(**inputs)\n",
    "    \n",
    "    return outputs.last_hidden_state[:, 0, :].numpy()  "
   ]
  },
  {
   "cell_type": "code",
   "execution_count": 956,
   "id": "fe737d4a-7eb5-4c0e-bf1c-e602541b4d9c",
   "metadata": {},
   "outputs": [],
   "source": [
    "pairing_df['statement_embedding'] = pairing_df['grouped_statements'].apply(lambda x: get_finbert_embedding(str(x)))\n",
    "pairing_df['minutes_embedding'] = pairing_df['grouped_minutes'].apply(lambda x: get_finbert_embedding(str(x)))"
   ]
  },
  {
   "cell_type": "code",
   "execution_count": 957,
   "id": "fc4bf9b3-4ac8-4dfe-a191-5a0eb03e277e",
   "metadata": {},
   "outputs": [],
   "source": [
    "final_df=pairing_df[['decision_encoded','statement_embedding','minutes_embedding']]"
   ]
  },
  {
   "cell_type": "code",
   "execution_count": 958,
   "id": "f3430460-138f-4220-be6f-36b140ba4c63",
   "metadata": {},
   "outputs": [
    {
     "data": {
      "text/html": [
       "<div>\n",
       "<style scoped>\n",
       "    .dataframe tbody tr th:only-of-type {\n",
       "        vertical-align: middle;\n",
       "    }\n",
       "\n",
       "    .dataframe tbody tr th {\n",
       "        vertical-align: top;\n",
       "    }\n",
       "\n",
       "    .dataframe thead th {\n",
       "        text-align: right;\n",
       "    }\n",
       "</style>\n",
       "<table border=\"1\" class=\"dataframe\">\n",
       "  <thead>\n",
       "    <tr style=\"text-align: right;\">\n",
       "      <th></th>\n",
       "      <th>decision_encoded</th>\n",
       "      <th>statement_embedding</th>\n",
       "      <th>minutes_embedding</th>\n",
       "    </tr>\n",
       "    <tr>\n",
       "      <th>date</th>\n",
       "      <th></th>\n",
       "      <th></th>\n",
       "      <th></th>\n",
       "    </tr>\n",
       "  </thead>\n",
       "  <tbody>\n",
       "    <tr>\n",
       "      <th>2015-01-28</th>\n",
       "      <td>1</td>\n",
       "      <td>[[-0.24246012, 0.67152435, -0.20416914, -0.289...</td>\n",
       "      <td>[0.0, 0.0, 0.0, 0.0, 0.0, 0.0, 0.0, 0.0, 0.0, ...</td>\n",
       "    </tr>\n",
       "  </tbody>\n",
       "</table>\n",
       "</div>"
      ],
      "text/plain": [
       "            decision_encoded  \\\n",
       "date                           \n",
       "2015-01-28                 1   \n",
       "\n",
       "                                          statement_embedding  \\\n",
       "date                                                            \n",
       "2015-01-28  [[-0.24246012, 0.67152435, -0.20416914, -0.289...   \n",
       "\n",
       "                                            minutes_embedding  \n",
       "date                                                           \n",
       "2015-01-28  [0.0, 0.0, 0.0, 0.0, 0.0, 0.0, 0.0, 0.0, 0.0, ...  "
      ]
     },
     "execution_count": 958,
     "metadata": {},
     "output_type": "execute_result"
    }
   ],
   "source": [
    "final_df.head(1)"
   ]
  },
  {
   "cell_type": "markdown",
   "id": "e132dbd5-8ef8-4a50-8985-d1a136e9920d",
   "metadata": {},
   "source": [
    "#### Modeling (BiLSTM)"
   ]
  },
  {
   "cell_type": "markdown",
   "id": "5ec5d25e-3047-4f37-97df-8601609cfbc4",
   "metadata": {},
   "source": [
    "Since BilSTM works with sequential data, we need to merge the embeddings, standardize lenght and then splito into test and training set"
   ]
  },
  {
   "cell_type": "code",
   "execution_count": 959,
   "id": "3cbfd5a1-24a5-4eb5-8e25-92287f7cd071",
   "metadata": {},
   "outputs": [
    {
     "name": "stderr",
     "output_type": "stream",
     "text": [
      "/tmp/ipykernel_84098/4280570965.py:3: SettingWithCopyWarning: \n",
      "A value is trying to be set on a copy of a slice from a DataFrame.\n",
      "Try using .loc[row_indexer,col_indexer] = value instead\n",
      "\n",
      "See the caveats in the documentation: https://pandas.pydata.org/pandas-docs/stable/user_guide/indexing.html#returning-a-view-versus-a-copy\n",
      "  final_df['combined_embedding'] = final_df.apply(\n"
     ]
    }
   ],
   "source": [
    "# since we are dealing with NaNs in minutes_embedding, we add a conditionality when stacking the two arrays\n",
    "# this makes sure the size of the array is the same even if we generat a 1D 0 array for NaNs previously\n",
    "final_df['combined_embedding'] = final_df.apply(\n",
    "    lambda row: np.hstack((row['statement_embedding'].squeeze(), \n",
    "                           (row['minutes_embedding'].squeeze() if isinstance(row['minutes_embedding'], np.ndarray) else np.zeros(768)))), \n",
    "    axis=1\n",
    ")"
   ]
  },
  {
   "cell_type": "code",
   "execution_count": 960,
   "id": "6c29a3e8-88be-4b87-be09-ec0a7e6d3d19",
   "metadata": {},
   "outputs": [],
   "source": [
    "final_df= final_df.drop(columns=['statement_embedding', 'minutes_embedding'])"
   ]
  },
  {
   "cell_type": "code",
   "execution_count": 961,
   "id": "99476d38-798e-4f25-b037-6d6006d55739",
   "metadata": {},
   "outputs": [
    {
     "data": {
      "text/html": [
       "<div>\n",
       "<style scoped>\n",
       "    .dataframe tbody tr th:only-of-type {\n",
       "        vertical-align: middle;\n",
       "    }\n",
       "\n",
       "    .dataframe tbody tr th {\n",
       "        vertical-align: top;\n",
       "    }\n",
       "\n",
       "    .dataframe thead th {\n",
       "        text-align: right;\n",
       "    }\n",
       "</style>\n",
       "<table border=\"1\" class=\"dataframe\">\n",
       "  <thead>\n",
       "    <tr style=\"text-align: right;\">\n",
       "      <th></th>\n",
       "      <th>decision_encoded</th>\n",
       "      <th>combined_embedding</th>\n",
       "    </tr>\n",
       "    <tr>\n",
       "      <th>date</th>\n",
       "      <th></th>\n",
       "      <th></th>\n",
       "    </tr>\n",
       "  </thead>\n",
       "  <tbody>\n",
       "    <tr>\n",
       "      <th>2015-01-28</th>\n",
       "      <td>1</td>\n",
       "      <td>[-0.24246011674404144, 0.6715243458747864, -0....</td>\n",
       "    </tr>\n",
       "  </tbody>\n",
       "</table>\n",
       "</div>"
      ],
      "text/plain": [
       "            decision_encoded  \\\n",
       "date                           \n",
       "2015-01-28                 1   \n",
       "\n",
       "                                           combined_embedding  \n",
       "date                                                           \n",
       "2015-01-28  [-0.24246011674404144, 0.6715243458747864, -0....  "
      ]
     },
     "execution_count": 961,
     "metadata": {},
     "output_type": "execute_result"
    }
   ],
   "source": [
    "final_df.head(1)"
   ]
  },
  {
   "cell_type": "code",
   "execution_count": 962,
   "id": "50b92b2d-5b82-4918-91fe-68ab12d83678",
   "metadata": {},
   "outputs": [],
   "source": [
    "# convert the columns to np arays\n",
    "X = np.vstack(final_df['combined_embedding'].values)\n",
    "y = final_df['decision_encoded'].values"
   ]
  },
  {
   "cell_type": "code",
   "execution_count": 963,
   "id": "0a04b12d-a3ec-4a40-a96c-3d3d4cbf0e28",
   "metadata": {},
   "outputs": [],
   "source": [
    "X_train, X_test, y_train, y_test = train_test_split(X, y, test_size=0.2, random_state=42)"
   ]
  },
  {
   "cell_type": "markdown",
   "id": "83bbb55c-b1a5-4d96-823c-7399dc59ed7b",
   "metadata": {},
   "source": [
    "Initialize Model"
   ]
  },
  {
   "cell_type": "code",
   "execution_count": 964,
   "id": "c50d5752-cd54-463a-b8cc-a8a4617a7569",
   "metadata": {},
   "outputs": [],
   "source": [
    "# we build the model through a Class function because it's easier to separate tasks and use the model modularly\n",
    "# we also store various statistics this way within class comands so we do not have to worry about it\n",
    "\n",
    "class BiLSTM(nn.Module):\n",
    "    def __init__(self, input_dim, hidden_dim, output_dim):\n",
    "        super(BiLSTM, self).__init__()\n",
    "        self.lstm = nn.LSTM(input_dim, hidden_dim, batch_first=True, bidirectional=True)\n",
    "        self.fc = nn.Linear(hidden_dim * 2, output_dim)  # Multiply by 2 for bidirectional\n",
    "        self.relu = nn.ReLU()\n",
    "\n",
    "    def forward(self, x):\n",
    "        lstm_out, _ = self.lstm(x)\n",
    "        last_out = lstm_out[:, -1, :]  # Take the last time step's output\n",
    "        return self.fc(self.relu(last_out))"
   ]
  },
  {
   "cell_type": "code",
   "execution_count": 965,
   "id": "a7e6b7d8-2a12-4999-9e5f-e92c34d12125",
   "metadata": {},
   "outputs": [],
   "source": [
    "def initialize_model(input_dim, hidden_dim, output_dim):\n",
    "    \"\"\"\n",
    "    Initializes the BiLSTM model.\n",
    "    Arguments:\n",
    "    - input_dim: Dimensionality of the input features.\n",
    "    - hidden_dim: Dimensionality of the hidden layers.\n",
    "    - output_dim: Number of classes for classification.\n",
    "    \n",
    "    Returns:\n",
    "    - model: An instance of the BiLSTM model.\n",
    "    \"\"\"\n",
    "    model = BiLSTM(input_dim, hidden_dim, output_dim)\n",
    "    return model"
   ]
  },
  {
   "cell_type": "code",
   "execution_count": 966,
   "id": "90fbdbd7-bdf2-405e-a8cd-e4099ddd19dc",
   "metadata": {},
   "outputs": [],
   "source": [
    "# Convert data to PyTorch tensors\n",
    "X_train_tensor = torch.tensor(X_train, dtype=torch.float32)\n",
    "y_train_tensor = torch.tensor(y_train, dtype=torch.long)  # Ensure correct shape"
   ]
  },
  {
   "cell_type": "code",
   "execution_count": 967,
   "id": "3a34dbad-27ac-496c-963a-20f2ca6fd605",
   "metadata": {},
   "outputs": [
    {
     "name": "stdout",
     "output_type": "stream",
     "text": [
      "torch.Size([57, 1536])\n",
      "torch.Size([57])\n"
     ]
    }
   ],
   "source": [
    "print(X_train_tensor.shape)\n",
    "print(y_train_tensor.shape)"
   ]
  },
  {
   "cell_type": "code",
   "execution_count": 968,
   "id": "b8c1461d-d1ed-4145-834f-ff2e2170cbfa",
   "metadata": {},
   "outputs": [],
   "source": [
    "# BiLSTM will need 3D tensors. our tensors only have 2Ds for X\n",
    "# conversely, only 1D tensor for y with integer data, and not float\n",
    "X_train_tensor = X_train_tensor.unsqueeze(1)"
   ]
  },
  {
   "cell_type": "code",
   "execution_count": 969,
   "id": "bc9e3a49-db7a-4552-9b2c-89e59f618188",
   "metadata": {},
   "outputs": [
    {
     "name": "stdout",
     "output_type": "stream",
     "text": [
      "torch.Size([57, 1, 1536])\n",
      "torch.Size([57])\n"
     ]
    }
   ],
   "source": [
    "print(X_train_tensor.shape)\n",
    "print(y_train_tensor.shape)"
   ]
  },
  {
   "cell_type": "markdown",
   "id": "53f58a27-ced1-429b-b361-eee60cc82ac8",
   "metadata": {},
   "source": [
    "Compile Model"
   ]
  },
  {
   "cell_type": "code",
   "execution_count": 1,
   "id": "53e9cffd-764a-40ae-8cbb-a004614b4489",
   "metadata": {},
   "outputs": [
    {
     "ename": "NameError",
     "evalue": "name 'y_train' is not defined",
     "output_type": "error",
     "traceback": [
      "\u001b[0;31m---------------------------------------------------------------------------\u001b[0m",
      "\u001b[0;31mNameError\u001b[0m                                 Traceback (most recent call last)",
      "Cell \u001b[0;32mIn[1], line 2\u001b[0m\n\u001b[1;32m      1\u001b[0m \u001b[38;5;66;03m# Count occurrences in y_train\u001b[39;00m\n\u001b[0;32m----> 2\u001b[0m class_counts \u001b[38;5;241m=\u001b[39m \u001b[43my_train\u001b[49m\u001b[38;5;241m.\u001b[39mvalue_counts()\u001b[38;5;241m.\u001b[39msort_index()\u001b[38;5;241m.\u001b[39mvalues  \u001b[38;5;66;03m# Ensure ordering is correct\u001b[39;00m\n\u001b[1;32m      4\u001b[0m \u001b[38;5;66;03m# Compute class weights\u001b[39;00m\n\u001b[1;32m      5\u001b[0m class_weights \u001b[38;5;241m=\u001b[39m torch\u001b[38;5;241m.\u001b[39mtensor([\u001b[38;5;241m1\u001b[39m \u001b[38;5;241m/\u001b[39m count \u001b[38;5;28;01mfor\u001b[39;00m count \u001b[38;5;129;01min\u001b[39;00m class_counts], dtype\u001b[38;5;241m=\u001b[39mtorch\u001b[38;5;241m.\u001b[39mfloat32)\n",
      "\u001b[0;31mNameError\u001b[0m: name 'y_train' is not defined"
     ]
    }
   ],
   "source": [
    "# Count occurrences in y_train\n",
    "class_counts = y_train.value_counts().sort_index().values  # Ensure ordering is correct\n",
    "\n",
    "# Compute class weights\n",
    "class_weights = torch.tensor([1 / count for count in class_counts], dtype=torch.float32)\n",
    "\n",
    "print(\"Class Counts (Train Set Only):\", class_counts)\n",
    "print(\"Class Weights:\", class_weights)"
   ]
  },
  {
   "cell_type": "code",
   "execution_count": 972,
   "id": "b5ff4b9a-230d-416e-8715-1a24d151dc56",
   "metadata": {},
   "outputs": [],
   "source": [
    "# Parameters for optimization (lstm and fc) are saved by the class with which we generate model so no need to \n",
    "# specify again\n",
    "def compile_model(model, learning_rate=0.001):\n",
    "    \"\"\"\n",
    "    Compiles the model by defining the loss function and optimizer.\n",
    "    Arguments:\n",
    "    - model: The model to compile.\n",
    "    - learning_rate: Learning rate for the optimizer.\n",
    "    \n",
    "    Returns:\n",
    "    - criterion: The loss function (CrossEntropyLoss by default).\n",
    "    - optimizer: The optimizer (Adam).\n",
    "    \"\"\"\n",
    "    criterion = nn.CrossEntropyLoss(weight=class_weights)\n",
    "    optimizer = optim.Adam(model.parameters(), lr=learning_rate)\n",
    "    return criterion, optimizer"
   ]
  },
  {
   "cell_type": "markdown",
   "id": "9520c849-5015-4f2a-a309-91dd095ed62a",
   "metadata": {},
   "source": [
    "#### Training"
   ]
  },
  {
   "cell_type": "code",
   "execution_count": 973,
   "id": "2b1407f8-2cb2-409e-b97b-68a918966f28",
   "metadata": {},
   "outputs": [],
   "source": [
    "def evaluate_model(model, X_test_tensor, y_test_tensor):\n",
    "    model.eval()  # Set the model to evaluation mode\n",
    "    with torch.no_grad():  # Disable gradient computation for efficiency\n",
    "        outputs = model(X_test_tensor)  # Get the model's output\n",
    "\n",
    "        logits = outputs  # These are the raw predictions (logits)\n",
    "\n",
    "        # Get the predicted class (highest logit)\n",
    "        predicted_labels = torch.argmax(logits, dim=1)\n",
    "        \n",
    "    # Compute accuracy by comparing predicted labels to true labels\n",
    "    accuracy = accuracy_score(y_test_tensor.numpy(), predicted_labels.numpy())\n",
    "    return accuracy"
   ]
  },
  {
   "cell_type": "code",
   "execution_count": 974,
   "id": "574afbb5-9f1d-43b9-bab2-64cd7fe56e23",
   "metadata": {},
   "outputs": [],
   "source": [
    "# Train model using k-fold\n",
    "def train_model(X, y, input_dim, hidden_dim, output_dim, k):\n",
    "    fold_accuracies =[]\n",
    "    \n",
    "    for fold, (train_idx, val_idx) in enumerate(kf.split(X, y)):\n",
    "        print(f\"Training fold {fold + 1}/{k}...\")\n",
    "\n",
    "        # Split data into training and validation sets for this fold\n",
    "        X_train_fold, X_val_fold = X[train_idx], X[val_idx]\n",
    "        y_train_fold, y_val_fold = y[train_idx], y[val_idx]\n",
    "\n",
    "        # Convert to PyTorch tensors\n",
    "        X_train_fold_tensor = torch.tensor(X_train_fold, dtype=torch.float32)\n",
    "        y_train_fold_tensor = torch.tensor(y_train_fold, dtype=torch.long)\n",
    "        X_val_fold_tensor = torch.tensor(X_val_fold, dtype=torch.float32)\n",
    "        y_val_fold_tensor = torch.tensor(y_val_fold, dtype=torch.long)\n",
    "\n",
    "        # Initialize the model, criterion, and optimizer\n",
    "        model = initialize_model(input_dim=input_dim, hidden_dim=hidden_dim, output_dim=output_dim)\n",
    "        criterion, optimizer = compile_model(model)\n",
    "\n",
    "        # Train the model on this fold\n",
    "        model.train()  # Set model to training mode\n",
    "        for epoch in range(epochs):\n",
    "            optimizer.zero_grad()\n",
    "            outputs = model(X_train_fold_tensor)\n",
    "            loss = criterion(outputs, y_train_fold_tensor)\n",
    "            loss.backward()\n",
    "            optimizer.step()\n",
    "\n",
    "        # Evaluate the model on the validation set\n",
    "        accuracy = evaluate_model(model, X_val_fold_tensor, y_val_fold_tensor)\n",
    "        print(f\"Fold {fold + 1} Accuracy: {accuracy:.4f}\")\n",
    "\n",
    "        # Save the accuracy for this fold\n",
    "        fold_accuracies.append(accuracy)\n",
    "\n",
    "    # Calculate average accuracy across all folds\n",
    "    average_accuracy = np.mean(fold_accuracies)\n",
    "    print(f\"\\nAverage Cross-Validation Accuracy: {average_accuracy:.4f}\")\n",
    "\n",
    "    return model, average_accuracy"
   ]
  },
  {
   "cell_type": "code",
   "execution_count": 975,
   "id": "dedeec19-7b23-4793-9825-899211f09d79",
   "metadata": {},
   "outputs": [],
   "source": [
    "# Model parameters\n",
    "input_dim = X_train.shape[1]  # Same as embedding size\n",
    "hidden_dim = 128\n",
    "output_dim = 3  # For multiclass classification (up, down, no change)"
   ]
  },
  {
   "cell_type": "code",
   "execution_count": 976,
   "id": "14ac393f-fa00-4a2d-8fce-d785ca811ae6",
   "metadata": {},
   "outputs": [],
   "source": [
    "# due to the very small size of the dataset we will use k-fold CV\n",
    "k = 5 \n",
    "kf = KFold(n_splits=k, shuffle=True, random_state=42)"
   ]
  },
  {
   "cell_type": "code",
   "execution_count": 977,
   "id": "9415d0b0-19de-4da7-8cb3-5a2f73c09411",
   "metadata": {},
   "outputs": [],
   "source": [
    "# hyperparameters \n",
    "learning_rate = 0.001"
   ]
  },
  {
   "cell_type": "code",
   "execution_count": 978,
   "id": "f5da7837-ed87-4665-b2dd-67ae85337f8e",
   "metadata": {
    "scrolled": true
   },
   "outputs": [
    {
     "name": "stderr",
     "output_type": "stream",
     "text": [
      "/tmp/ipykernel_84098/191328093.py:13: UserWarning: To copy construct from a tensor, it is recommended to use sourceTensor.clone().detach() or sourceTensor.clone().detach().requires_grad_(True), rather than torch.tensor(sourceTensor).\n",
      "  X_train_fold_tensor = torch.tensor(X_train_fold, dtype=torch.float32)\n",
      "/tmp/ipykernel_84098/191328093.py:14: UserWarning: To copy construct from a tensor, it is recommended to use sourceTensor.clone().detach() or sourceTensor.clone().detach().requires_grad_(True), rather than torch.tensor(sourceTensor).\n",
      "  y_train_fold_tensor = torch.tensor(y_train_fold, dtype=torch.long)\n",
      "/tmp/ipykernel_84098/191328093.py:15: UserWarning: To copy construct from a tensor, it is recommended to use sourceTensor.clone().detach() or sourceTensor.clone().detach().requires_grad_(True), rather than torch.tensor(sourceTensor).\n",
      "  X_val_fold_tensor = torch.tensor(X_val_fold, dtype=torch.float32)\n",
      "/tmp/ipykernel_84098/191328093.py:16: UserWarning: To copy construct from a tensor, it is recommended to use sourceTensor.clone().detach() or sourceTensor.clone().detach().requires_grad_(True), rather than torch.tensor(sourceTensor).\n",
      "  y_val_fold_tensor = torch.tensor(y_val_fold, dtype=torch.long)\n"
     ]
    },
    {
     "name": "stdout",
     "output_type": "stream",
     "text": [
      "Training fold 1/5...\n",
      "Fold 1 Accuracy: 0.4167\n",
      "Training fold 2/5...\n"
     ]
    },
    {
     "name": "stderr",
     "output_type": "stream",
     "text": [
      "/tmp/ipykernel_84098/191328093.py:13: UserWarning: To copy construct from a tensor, it is recommended to use sourceTensor.clone().detach() or sourceTensor.clone().detach().requires_grad_(True), rather than torch.tensor(sourceTensor).\n",
      "  X_train_fold_tensor = torch.tensor(X_train_fold, dtype=torch.float32)\n",
      "/tmp/ipykernel_84098/191328093.py:14: UserWarning: To copy construct from a tensor, it is recommended to use sourceTensor.clone().detach() or sourceTensor.clone().detach().requires_grad_(True), rather than torch.tensor(sourceTensor).\n",
      "  y_train_fold_tensor = torch.tensor(y_train_fold, dtype=torch.long)\n",
      "/tmp/ipykernel_84098/191328093.py:15: UserWarning: To copy construct from a tensor, it is recommended to use sourceTensor.clone().detach() or sourceTensor.clone().detach().requires_grad_(True), rather than torch.tensor(sourceTensor).\n",
      "  X_val_fold_tensor = torch.tensor(X_val_fold, dtype=torch.float32)\n",
      "/tmp/ipykernel_84098/191328093.py:16: UserWarning: To copy construct from a tensor, it is recommended to use sourceTensor.clone().detach() or sourceTensor.clone().detach().requires_grad_(True), rather than torch.tensor(sourceTensor).\n",
      "  y_val_fold_tensor = torch.tensor(y_val_fold, dtype=torch.long)\n"
     ]
    },
    {
     "name": "stdout",
     "output_type": "stream",
     "text": [
      "Fold 2 Accuracy: 0.6667\n",
      "Training fold 3/5...\n"
     ]
    },
    {
     "name": "stderr",
     "output_type": "stream",
     "text": [
      "/tmp/ipykernel_84098/191328093.py:13: UserWarning: To copy construct from a tensor, it is recommended to use sourceTensor.clone().detach() or sourceTensor.clone().detach().requires_grad_(True), rather than torch.tensor(sourceTensor).\n",
      "  X_train_fold_tensor = torch.tensor(X_train_fold, dtype=torch.float32)\n",
      "/tmp/ipykernel_84098/191328093.py:14: UserWarning: To copy construct from a tensor, it is recommended to use sourceTensor.clone().detach() or sourceTensor.clone().detach().requires_grad_(True), rather than torch.tensor(sourceTensor).\n",
      "  y_train_fold_tensor = torch.tensor(y_train_fold, dtype=torch.long)\n",
      "/tmp/ipykernel_84098/191328093.py:15: UserWarning: To copy construct from a tensor, it is recommended to use sourceTensor.clone().detach() or sourceTensor.clone().detach().requires_grad_(True), rather than torch.tensor(sourceTensor).\n",
      "  X_val_fold_tensor = torch.tensor(X_val_fold, dtype=torch.float32)\n",
      "/tmp/ipykernel_84098/191328093.py:16: UserWarning: To copy construct from a tensor, it is recommended to use sourceTensor.clone().detach() or sourceTensor.clone().detach().requires_grad_(True), rather than torch.tensor(sourceTensor).\n",
      "  y_val_fold_tensor = torch.tensor(y_val_fold, dtype=torch.long)\n"
     ]
    },
    {
     "name": "stdout",
     "output_type": "stream",
     "text": [
      "Fold 3 Accuracy: 0.7273\n",
      "Training fold 4/5...\n"
     ]
    },
    {
     "name": "stderr",
     "output_type": "stream",
     "text": [
      "/tmp/ipykernel_84098/191328093.py:13: UserWarning: To copy construct from a tensor, it is recommended to use sourceTensor.clone().detach() or sourceTensor.clone().detach().requires_grad_(True), rather than torch.tensor(sourceTensor).\n",
      "  X_train_fold_tensor = torch.tensor(X_train_fold, dtype=torch.float32)\n",
      "/tmp/ipykernel_84098/191328093.py:14: UserWarning: To copy construct from a tensor, it is recommended to use sourceTensor.clone().detach() or sourceTensor.clone().detach().requires_grad_(True), rather than torch.tensor(sourceTensor).\n",
      "  y_train_fold_tensor = torch.tensor(y_train_fold, dtype=torch.long)\n",
      "/tmp/ipykernel_84098/191328093.py:15: UserWarning: To copy construct from a tensor, it is recommended to use sourceTensor.clone().detach() or sourceTensor.clone().detach().requires_grad_(True), rather than torch.tensor(sourceTensor).\n",
      "  X_val_fold_tensor = torch.tensor(X_val_fold, dtype=torch.float32)\n",
      "/tmp/ipykernel_84098/191328093.py:16: UserWarning: To copy construct from a tensor, it is recommended to use sourceTensor.clone().detach() or sourceTensor.clone().detach().requires_grad_(True), rather than torch.tensor(sourceTensor).\n",
      "  y_val_fold_tensor = torch.tensor(y_val_fold, dtype=torch.long)\n"
     ]
    },
    {
     "name": "stdout",
     "output_type": "stream",
     "text": [
      "Fold 4 Accuracy: 0.5455\n",
      "Training fold 5/5...\n"
     ]
    },
    {
     "name": "stderr",
     "output_type": "stream",
     "text": [
      "/tmp/ipykernel_84098/191328093.py:13: UserWarning: To copy construct from a tensor, it is recommended to use sourceTensor.clone().detach() or sourceTensor.clone().detach().requires_grad_(True), rather than torch.tensor(sourceTensor).\n",
      "  X_train_fold_tensor = torch.tensor(X_train_fold, dtype=torch.float32)\n",
      "/tmp/ipykernel_84098/191328093.py:14: UserWarning: To copy construct from a tensor, it is recommended to use sourceTensor.clone().detach() or sourceTensor.clone().detach().requires_grad_(True), rather than torch.tensor(sourceTensor).\n",
      "  y_train_fold_tensor = torch.tensor(y_train_fold, dtype=torch.long)\n",
      "/tmp/ipykernel_84098/191328093.py:15: UserWarning: To copy construct from a tensor, it is recommended to use sourceTensor.clone().detach() or sourceTensor.clone().detach().requires_grad_(True), rather than torch.tensor(sourceTensor).\n",
      "  X_val_fold_tensor = torch.tensor(X_val_fold, dtype=torch.float32)\n",
      "/tmp/ipykernel_84098/191328093.py:16: UserWarning: To copy construct from a tensor, it is recommended to use sourceTensor.clone().detach() or sourceTensor.clone().detach().requires_grad_(True), rather than torch.tensor(sourceTensor).\n",
      "  y_val_fold_tensor = torch.tensor(y_val_fold, dtype=torch.long)\n"
     ]
    },
    {
     "name": "stdout",
     "output_type": "stream",
     "text": [
      "Fold 5 Accuracy: 0.5455\n",
      "\n",
      "Average Cross-Validation Accuracy: 0.5803\n"
     ]
    }
   ],
   "source": [
    "model, average_accuracy = train_model(X_train_tensor, y_train_tensor, input_dim, hidden_dim, output_dim, k)"
   ]
  },
  {
   "cell_type": "code",
   "execution_count": 984,
   "id": "10550ced-af69-42e2-9d1f-8bd88f39d496",
   "metadata": {},
   "outputs": [],
   "source": [
    "X_test_tensor = torch.tensor(X_test, dtype=torch.float32).unsqueeze(1)\n",
    "y_test_tensor = torch.tensor(y_test, dtype=torch.long)"
   ]
  },
  {
   "cell_type": "code",
   "execution_count": 985,
   "id": "e2ef23b9-38de-4b71-a0af-6a80caa93426",
   "metadata": {},
   "outputs": [
    {
     "name": "stdout",
     "output_type": "stream",
     "text": [
      "torch.Size([15, 1, 1536])\n",
      "torch.Size([15])\n"
     ]
    }
   ],
   "source": [
    "print(X_test_tensor.shape)\n",
    "print(y_test_tensor.shape)"
   ]
  },
  {
   "cell_type": "code",
   "execution_count": 986,
   "id": "c91a630b-2c06-42cb-8ae3-975192b768a4",
   "metadata": {},
   "outputs": [],
   "source": [
    "outputs = model(X_test_tensor)"
   ]
  },
  {
   "cell_type": "code",
   "execution_count": 987,
   "id": "c80f0479-15bd-4c6f-b01f-cbaf1e589f6a",
   "metadata": {},
   "outputs": [
    {
     "name": "stdout",
     "output_type": "stream",
     "text": [
      "Test Set Accuracy: 0.8000\n"
     ]
    }
   ],
   "source": [
    "accuracy = evaluate_model(model, X_test_tensor, y_test_tensor)\n",
    "print(f\"Test Set Accuracy: {accuracy:.4f}\")"
   ]
  },
  {
   "cell_type": "code",
   "execution_count": 1,
   "id": "e3a15f07",
   "metadata": {},
   "outputs": [],
   "source": [
    "# The model quality will be limited by the few instances of dependent variable available, and by their skewness. There are only 5 cases of up against 40 hold decisions.\n",
    "# Weighting classes while compiling the model and using cross validation can at time mitigate these issues but more observatrions are needed to improve the model performance"
   ]
  }
 ],
 "metadata": {
  "kernelspec": {
   "display_name": "Python 3 (ipykernel)",
   "language": "python",
   "name": "python3"
  },
  "language_info": {
   "codemirror_mode": {
    "name": "ipython",
    "version": 3
   },
   "file_extension": ".py",
   "mimetype": "text/x-python",
   "name": "python",
   "nbconvert_exporter": "python",
   "pygments_lexer": "ipython3",
   "version": "3.10.6"
  },
  "widgets": {
   "application/vnd.jupyter.widget-state+json": {
    "state": {},
    "version_major": 2,
    "version_minor": 0
   }
  }
 },
 "nbformat": 4,
 "nbformat_minor": 5
}
