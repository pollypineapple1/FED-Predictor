{
 "cells": [
  {
   "cell_type": "markdown",
   "id": "5dd23c08-e49f-41b2-a00d-c5271d6f2e43",
   "metadata": {},
   "source": [
    "## Dataset preaparation"
   ]
  },
  {
   "cell_type": "markdown",
   "id": "57c68993-aa1a-4514-bd41-040fc845bcb6",
   "metadata": {},
   "source": [
    "#### Import necessary packages"
   ]
  },
  {
   "cell_type": "code",
   "execution_count": 632,
   "id": "7725f047-c8f5-4266-8fc8-2bb93afc002a",
   "metadata": {},
   "outputs": [],
   "source": [
    "import numpy as np\n",
    "import pandas as pd"
   ]
  },
  {
   "cell_type": "markdown",
   "id": "8fb884b7-c4f4-450e-b050-4661855dcf69",
   "metadata": {
    "editable": true,
    "slideshow": {
     "slide_type": ""
    },
    "tags": []
   },
   "source": [
    "#### Import Data form csv"
   ]
  },
  {
   "cell_type": "code",
   "execution_count": 633,
   "id": "9a35a97a-b002-4fbb-bf33-62b8a7cb8b14",
   "metadata": {},
   "outputs": [],
   "source": [
    "# Define the paths to the files to import\n",
    "text='/home/antonio/code/pollypineapple1/FED-Predictor/raw_data/Fed_Scrape-2015-2023.csv'\n",
    "rates='/home/antonio/code/pollypineapple1/FED-Predictor/raw_data/US Fed Rate.csv'"
   ]
  },
  {
   "cell_type": "code",
   "execution_count": 634,
   "id": "85569552-8e17-4780-975b-2eb507bd46dc",
   "metadata": {},
   "outputs": [],
   "source": [
    "# Import files\n",
    "text_df=pd.read_csv(text)\n",
    "rates_df=pd.read_csv(rates)"
   ]
  },
  {
   "cell_type": "markdown",
   "id": "2874cbf3-b413-45fe-bb90-87f69b4ab216",
   "metadata": {},
   "source": [
    "#### Check the data"
   ]
  },
  {
   "cell_type": "code",
   "execution_count": 635,
   "id": "20618670-2c0b-4245-a9f2-683a0c444001",
   "metadata": {},
   "outputs": [
    {
     "data": {
      "text/html": [
       "<div>\n",
       "<style scoped>\n",
       "    .dataframe tbody tr th:only-of-type {\n",
       "        vertical-align: middle;\n",
       "    }\n",
       "\n",
       "    .dataframe tbody tr th {\n",
       "        vertical-align: top;\n",
       "    }\n",
       "\n",
       "    .dataframe thead th {\n",
       "        text-align: right;\n",
       "    }\n",
       "</style>\n",
       "<table border=\"1\" class=\"dataframe\">\n",
       "  <thead>\n",
       "    <tr style=\"text-align: right;\">\n",
       "      <th></th>\n",
       "      <th>Unnamed: 0</th>\n",
       "      <th>Date</th>\n",
       "      <th>Type</th>\n",
       "      <th>Text</th>\n",
       "    </tr>\n",
       "  </thead>\n",
       "  <tbody>\n",
       "    <tr>\n",
       "      <th>0</th>\n",
       "      <td>0</td>\n",
       "      <td>20230412</td>\n",
       "      <td>0</td>\n",
       "      <td>The Federal Reserve on Wednesday released the ...</td>\n",
       "    </tr>\n",
       "    <tr>\n",
       "      <th>1</th>\n",
       "      <td>1</td>\n",
       "      <td>20230412</td>\n",
       "      <td>0</td>\n",
       "      <td>The minutes for each regularly scheduled meeti...</td>\n",
       "    </tr>\n",
       "    <tr>\n",
       "      <th>2</th>\n",
       "      <td>2</td>\n",
       "      <td>20230412</td>\n",
       "      <td>0</td>\n",
       "      <td>The minutes can be viewed on the Board's website.</td>\n",
       "    </tr>\n",
       "    <tr>\n",
       "      <th>3</th>\n",
       "      <td>3</td>\n",
       "      <td>20230412</td>\n",
       "      <td>0</td>\n",
       "      <td>For media inquiries, e-mail [email protected] ...</td>\n",
       "    </tr>\n",
       "    <tr>\n",
       "      <th>4</th>\n",
       "      <td>4</td>\n",
       "      <td>20230412</td>\n",
       "      <td>0</td>\n",
       "      <td>Minutes of the Federal Open Market Committee\\r...</td>\n",
       "    </tr>\n",
       "  </tbody>\n",
       "</table>\n",
       "</div>"
      ],
      "text/plain": [
       "   Unnamed: 0      Date  Type  \\\n",
       "0           0  20230412     0   \n",
       "1           1  20230412     0   \n",
       "2           2  20230412     0   \n",
       "3           3  20230412     0   \n",
       "4           4  20230412     0   \n",
       "\n",
       "                                                Text  \n",
       "0  The Federal Reserve on Wednesday released the ...  \n",
       "1  The minutes for each regularly scheduled meeti...  \n",
       "2  The minutes can be viewed on the Board's website.  \n",
       "3  For media inquiries, e-mail [email protected] ...  \n",
       "4  Minutes of the Federal Open Market Committee\\r...  "
      ]
     },
     "execution_count": 635,
     "metadata": {},
     "output_type": "execute_result"
    }
   ],
   "source": [
    "text_df.head()"
   ]
  },
  {
   "cell_type": "code",
   "execution_count": 636,
   "id": "27712944-04bf-49bf-a7d6-4aa08b3941f7",
   "metadata": {},
   "outputs": [
    {
     "data": {
      "text/html": [
       "<div>\n",
       "<style scoped>\n",
       "    .dataframe tbody tr th:only-of-type {\n",
       "        vertical-align: middle;\n",
       "    }\n",
       "\n",
       "    .dataframe tbody tr th {\n",
       "        vertical-align: top;\n",
       "    }\n",
       "\n",
       "    .dataframe thead th {\n",
       "        text-align: right;\n",
       "    }\n",
       "</style>\n",
       "<table border=\"1\" class=\"dataframe\">\n",
       "  <thead>\n",
       "    <tr style=\"text-align: right;\">\n",
       "      <th></th>\n",
       "      <th>Release Date</th>\n",
       "      <th>Time</th>\n",
       "      <th>Actual</th>\n",
       "      <th>Forecast</th>\n",
       "      <th>Previous</th>\n",
       "    </tr>\n",
       "  </thead>\n",
       "  <tbody>\n",
       "    <tr>\n",
       "      <th>0</th>\n",
       "      <td>Nov 01, 2023</td>\n",
       "      <td>13:00</td>\n",
       "      <td>5.50%</td>\n",
       "      <td>5.50%</td>\n",
       "      <td>5.50%</td>\n",
       "    </tr>\n",
       "    <tr>\n",
       "      <th>1</th>\n",
       "      <td>Sep 20, 2023</td>\n",
       "      <td>13:00</td>\n",
       "      <td>5.50%</td>\n",
       "      <td>5.50%</td>\n",
       "      <td>5.50%</td>\n",
       "    </tr>\n",
       "    <tr>\n",
       "      <th>2</th>\n",
       "      <td>Jul 26, 2023</td>\n",
       "      <td>13:00</td>\n",
       "      <td>5.50%</td>\n",
       "      <td>5.50%</td>\n",
       "      <td>5.25%</td>\n",
       "    </tr>\n",
       "    <tr>\n",
       "      <th>3</th>\n",
       "      <td>Jun 14, 2023</td>\n",
       "      <td>13:00</td>\n",
       "      <td>5.25%</td>\n",
       "      <td>5.25%</td>\n",
       "      <td>5.25%</td>\n",
       "    </tr>\n",
       "    <tr>\n",
       "      <th>4</th>\n",
       "      <td>May 03, 2023</td>\n",
       "      <td>13:00</td>\n",
       "      <td>5.25%</td>\n",
       "      <td>5.25%</td>\n",
       "      <td>5.00%</td>\n",
       "    </tr>\n",
       "  </tbody>\n",
       "</table>\n",
       "</div>"
      ],
      "text/plain": [
       "   Release Date   Time Actual Forecast Previous\n",
       "0  Nov 01, 2023  13:00  5.50%    5.50%    5.50%\n",
       "1  Sep 20, 2023  13:00  5.50%    5.50%    5.50%\n",
       "2  Jul 26, 2023  13:00  5.50%    5.50%    5.25%\n",
       "3  Jun 14, 2023  13:00  5.25%    5.25%    5.25%\n",
       "4  May 03, 2023  13:00  5.25%    5.25%    5.00%"
      ]
     },
     "execution_count": 636,
     "metadata": {},
     "output_type": "execute_result"
    }
   ],
   "source": [
    "rates_df.head()"
   ]
  },
  {
   "cell_type": "code",
   "execution_count": 637,
   "id": "71154992-70f7-449c-8653-ec6c0dbf0e3a",
   "metadata": {},
   "outputs": [
    {
     "name": "stdout",
     "output_type": "stream",
     "text": [
      "<class 'pandas.core.frame.DataFrame'>\n",
      "RangeIndex: 9974 entries, 0 to 9973\n",
      "Data columns (total 4 columns):\n",
      " #   Column      Non-Null Count  Dtype \n",
      "---  ------      --------------  ----- \n",
      " 0   Unnamed: 0  9974 non-null   int64 \n",
      " 1   Date        9974 non-null   int64 \n",
      " 2   Type        9974 non-null   int64 \n",
      " 3   Text        9974 non-null   object\n",
      "dtypes: int64(3), object(1)\n",
      "memory usage: 311.8+ KB\n"
     ]
    }
   ],
   "source": [
    "text_df.info()"
   ]
  },
  {
   "cell_type": "code",
   "execution_count": 638,
   "id": "4eb64682-f82f-453d-9a9b-4abfc8d3b471",
   "metadata": {},
   "outputs": [
    {
     "name": "stdout",
     "output_type": "stream",
     "text": [
      "<class 'pandas.core.frame.DataFrame'>\n",
      "RangeIndex: 201 entries, 0 to 200\n",
      "Data columns (total 5 columns):\n",
      " #   Column        Non-Null Count  Dtype \n",
      "---  ------        --------------  ----- \n",
      " 0   Release Date  201 non-null    object\n",
      " 1   Time          201 non-null    object\n",
      " 2   Actual        201 non-null    object\n",
      " 3   Forecast      201 non-null    object\n",
      " 4   Previous      201 non-null    object\n",
      "dtypes: object(5)\n",
      "memory usage: 8.0+ KB\n"
     ]
    }
   ],
   "source": [
    "rates_df.info()"
   ]
  },
  {
   "cell_type": "markdown",
   "id": "49deb4a1-7419-45c9-aa50-619cfa81796f",
   "metadata": {},
   "source": [
    "#### Remove useless columns and format relevant ones"
   ]
  },
  {
   "cell_type": "code",
   "execution_count": 639,
   "id": "e453eff8-208f-481d-bca0-dc7d6882156e",
   "metadata": {},
   "outputs": [],
   "source": [
    "columns_to_keep = ['Release Date', 'Actual']\n",
    "rates_df=rates_df[columns_to_keep]\n",
    "rates_df=rates_df.rename(columns = {'Release Date' : 'date'})"
   ]
  },
  {
   "cell_type": "code",
   "execution_count": 640,
   "id": "0321c597-6e29-4ab8-92d8-ead4300b86c7",
   "metadata": {},
   "outputs": [],
   "source": [
    "rates_df['date'] = rates_df['date'].astype(str)"
   ]
  },
  {
   "cell_type": "code",
   "execution_count": 641,
   "id": "0bc109f3-4321-47e0-8ea6-0a0bf397a765",
   "metadata": {},
   "outputs": [
    {
     "data": {
      "text/html": [
       "<div>\n",
       "<style scoped>\n",
       "    .dataframe tbody tr th:only-of-type {\n",
       "        vertical-align: middle;\n",
       "    }\n",
       "\n",
       "    .dataframe tbody tr th {\n",
       "        vertical-align: top;\n",
       "    }\n",
       "\n",
       "    .dataframe thead th {\n",
       "        text-align: right;\n",
       "    }\n",
       "</style>\n",
       "<table border=\"1\" class=\"dataframe\">\n",
       "  <thead>\n",
       "    <tr style=\"text-align: right;\">\n",
       "      <th></th>\n",
       "      <th>date</th>\n",
       "      <th>Actual</th>\n",
       "    </tr>\n",
       "  </thead>\n",
       "  <tbody>\n",
       "    <tr>\n",
       "      <th>0</th>\n",
       "      <td>Nov 01, 2023</td>\n",
       "      <td>5.50%</td>\n",
       "    </tr>\n",
       "    <tr>\n",
       "      <th>1</th>\n",
       "      <td>Sep 20, 2023</td>\n",
       "      <td>5.50%</td>\n",
       "    </tr>\n",
       "    <tr>\n",
       "      <th>2</th>\n",
       "      <td>Jul 26, 2023</td>\n",
       "      <td>5.50%</td>\n",
       "    </tr>\n",
       "    <tr>\n",
       "      <th>3</th>\n",
       "      <td>Jun 14, 2023</td>\n",
       "      <td>5.25%</td>\n",
       "    </tr>\n",
       "    <tr>\n",
       "      <th>4</th>\n",
       "      <td>May 03, 2023</td>\n",
       "      <td>5.25%</td>\n",
       "    </tr>\n",
       "  </tbody>\n",
       "</table>\n",
       "</div>"
      ],
      "text/plain": [
       "           date Actual\n",
       "0  Nov 01, 2023  5.50%\n",
       "1  Sep 20, 2023  5.50%\n",
       "2  Jul 26, 2023  5.50%\n",
       "3  Jun 14, 2023  5.25%\n",
       "4  May 03, 2023  5.25%"
      ]
     },
     "execution_count": 641,
     "metadata": {},
     "output_type": "execute_result"
    }
   ],
   "source": [
    "rates_df.head()"
   ]
  },
  {
   "cell_type": "markdown",
   "id": "c1dd9378-ed7d-44c2-b253-d49f413a8349",
   "metadata": {},
   "source": [
    "Conversion to datetime"
   ]
  },
  {
   "cell_type": "code",
   "execution_count": 642,
   "id": "8b227b34-9cd2-4e23-b3ef-2cb00239bbd7",
   "metadata": {},
   "outputs": [],
   "source": [
    "rates_df['date'] = pd.to_datetime(rates_df['date'], format = '%b %d, %Y')"
   ]
  },
  {
   "cell_type": "code",
   "execution_count": 643,
   "id": "34995b17-7201-4487-80dc-83d3fc7b004d",
   "metadata": {},
   "outputs": [
    {
     "name": "stdout",
     "output_type": "stream",
     "text": [
      "<class 'pandas.core.frame.DataFrame'>\n",
      "RangeIndex: 201 entries, 0 to 200\n",
      "Data columns (total 2 columns):\n",
      " #   Column  Non-Null Count  Dtype         \n",
      "---  ------  --------------  -----         \n",
      " 0   date    201 non-null    datetime64[ns]\n",
      " 1   Actual  201 non-null    object        \n",
      "dtypes: datetime64[ns](1), object(1)\n",
      "memory usage: 3.3+ KB\n"
     ]
    }
   ],
   "source": [
    "rates_df.info()"
   ]
  },
  {
   "cell_type": "code",
   "execution_count": 644,
   "id": "8e2f8d0d-d520-43a6-a328-1d63f0812096",
   "metadata": {},
   "outputs": [],
   "source": [
    "rates_df=rates_df.rename(columns={'Actual': 'rate'})"
   ]
  },
  {
   "cell_type": "code",
   "execution_count": 645,
   "id": "ebc6148b-e01e-4f05-99a3-62bbc4207484",
   "metadata": {},
   "outputs": [],
   "source": [
    "# ensure rates are number object\n",
    "rates_df['rate']=rates_df['rate'].str.strip('%').astype(float)"
   ]
  },
  {
   "cell_type": "code",
   "execution_count": 646,
   "id": "69eb1bf3-75d5-4f36-9b91-882300300517",
   "metadata": {},
   "outputs": [
    {
     "name": "stdout",
     "output_type": "stream",
     "text": [
      "<class 'pandas.core.frame.DataFrame'>\n",
      "RangeIndex: 201 entries, 0 to 200\n",
      "Data columns (total 2 columns):\n",
      " #   Column  Non-Null Count  Dtype         \n",
      "---  ------  --------------  -----         \n",
      " 0   date    201 non-null    datetime64[ns]\n",
      " 1   rate    201 non-null    float64       \n",
      "dtypes: datetime64[ns](1), float64(1)\n",
      "memory usage: 3.3 KB\n"
     ]
    }
   ],
   "source": [
    "rates_df.info()"
   ]
  },
  {
   "cell_type": "code",
   "execution_count": 647,
   "id": "8cc31017-b82e-43a0-8f3c-c1dd002b7086",
   "metadata": {},
   "outputs": [
    {
     "data": {
      "text/html": [
       "<div>\n",
       "<style scoped>\n",
       "    .dataframe tbody tr th:only-of-type {\n",
       "        vertical-align: middle;\n",
       "    }\n",
       "\n",
       "    .dataframe tbody tr th {\n",
       "        vertical-align: top;\n",
       "    }\n",
       "\n",
       "    .dataframe thead th {\n",
       "        text-align: right;\n",
       "    }\n",
       "</style>\n",
       "<table border=\"1\" class=\"dataframe\">\n",
       "  <thead>\n",
       "    <tr style=\"text-align: right;\">\n",
       "      <th></th>\n",
       "      <th>date</th>\n",
       "      <th>rate</th>\n",
       "    </tr>\n",
       "  </thead>\n",
       "  <tbody>\n",
       "    <tr>\n",
       "      <th>0</th>\n",
       "      <td>2023-11-01</td>\n",
       "      <td>5.50</td>\n",
       "    </tr>\n",
       "    <tr>\n",
       "      <th>1</th>\n",
       "      <td>2023-09-20</td>\n",
       "      <td>5.50</td>\n",
       "    </tr>\n",
       "    <tr>\n",
       "      <th>2</th>\n",
       "      <td>2023-07-26</td>\n",
       "      <td>5.50</td>\n",
       "    </tr>\n",
       "    <tr>\n",
       "      <th>3</th>\n",
       "      <td>2023-06-14</td>\n",
       "      <td>5.25</td>\n",
       "    </tr>\n",
       "    <tr>\n",
       "      <th>4</th>\n",
       "      <td>2023-05-03</td>\n",
       "      <td>5.25</td>\n",
       "    </tr>\n",
       "  </tbody>\n",
       "</table>\n",
       "</div>"
      ],
      "text/plain": [
       "        date  rate\n",
       "0 2023-11-01  5.50\n",
       "1 2023-09-20  5.50\n",
       "2 2023-07-26  5.50\n",
       "3 2023-06-14  5.25\n",
       "4 2023-05-03  5.25"
      ]
     },
     "execution_count": 647,
     "metadata": {},
     "output_type": "execute_result"
    }
   ],
   "source": [
    "rates_df.head()"
   ]
  },
  {
   "cell_type": "code",
   "execution_count": 648,
   "id": "d6225f3b-8a18-494b-8b6e-3b8275883528",
   "metadata": {},
   "outputs": [],
   "source": [
    "text_df['Date']=pd.to_datetime(text_df['Date'], format='%Y%m%d')\n",
    "text_df=text_df.rename(columns={'Date': 'date'})\n",
    "text_df=text_df.rename(columns={'Text': 'text'})\n",
    "text_df=text_df.rename(columns={'Type': 'type'})"
   ]
  },
  {
   "cell_type": "code",
   "execution_count": 649,
   "id": "15cf8675-52fa-4aa4-9ee9-8677ca89f931",
   "metadata": {},
   "outputs": [],
   "source": [
    "text_df.drop(['Unnamed: 0'], axis=1, inplace=True)"
   ]
  },
  {
   "cell_type": "markdown",
   "id": "83f7b7e1-929a-424d-9bde-6bdc482fc24a",
   "metadata": {},
   "source": [
    "#### Convert type to text"
   ]
  },
  {
   "cell_type": "code",
   "execution_count": 650,
   "id": "ea5ddc3a-8709-4dc9-9c5b-faef5e77f606",
   "metadata": {},
   "outputs": [],
   "source": [
    "# convert classification to number\n",
    "text_df['type_text'] = text_df['type'].apply(lambda x: 'statement' if x == 0 else 'minutes')"
   ]
  },
  {
   "cell_type": "code",
   "execution_count": 651,
   "id": "df01cea3-bec3-46c5-9e74-ea00d1bbfa88",
   "metadata": {},
   "outputs": [
    {
     "name": "stdout",
     "output_type": "stream",
     "text": [
      "<class 'pandas.core.frame.DataFrame'>\n",
      "RangeIndex: 9974 entries, 0 to 9973\n",
      "Data columns (total 4 columns):\n",
      " #   Column     Non-Null Count  Dtype         \n",
      "---  ------     --------------  -----         \n",
      " 0   date       9974 non-null   datetime64[ns]\n",
      " 1   type       9974 non-null   int64         \n",
      " 2   text       9974 non-null   object        \n",
      " 3   type_text  9974 non-null   object        \n",
      "dtypes: datetime64[ns](1), int64(1), object(2)\n",
      "memory usage: 311.8+ KB\n"
     ]
    }
   ],
   "source": [
    "text_df.info()"
   ]
  },
  {
   "cell_type": "markdown",
   "id": "199607d5-8ebe-406d-b39f-e5a0d1d5c31a",
   "metadata": {},
   "source": [
    "#### Convert rates to text"
   ]
  },
  {
   "cell_type": "code",
   "execution_count": 652,
   "id": "7d467011-0c23-4fe4-93cc-11ef6cb12b48",
   "metadata": {},
   "outputs": [],
   "source": [
    "# convert numbers into up or down\n",
    "rates_df['rate_change'] = rates_df['rate'].diff()\n",
    "rates_df['rate_change_text'] = rates_df['rate_change'].apply(lambda x: 'up' if x > 0 else ('down' if x < 0 else 'no change')).astype(str)"
   ]
  },
  {
   "cell_type": "code",
   "execution_count": 653,
   "id": "2b559cc4-366c-4313-bd4d-36ae2cd5a6da",
   "metadata": {},
   "outputs": [
    {
     "data": {
      "text/html": [
       "<div>\n",
       "<style scoped>\n",
       "    .dataframe tbody tr th:only-of-type {\n",
       "        vertical-align: middle;\n",
       "    }\n",
       "\n",
       "    .dataframe tbody tr th {\n",
       "        vertical-align: top;\n",
       "    }\n",
       "\n",
       "    .dataframe thead th {\n",
       "        text-align: right;\n",
       "    }\n",
       "</style>\n",
       "<table border=\"1\" class=\"dataframe\">\n",
       "  <thead>\n",
       "    <tr style=\"text-align: right;\">\n",
       "      <th></th>\n",
       "      <th>date</th>\n",
       "      <th>rate</th>\n",
       "      <th>rate_change</th>\n",
       "      <th>rate_change_text</th>\n",
       "    </tr>\n",
       "  </thead>\n",
       "  <tbody>\n",
       "    <tr>\n",
       "      <th>0</th>\n",
       "      <td>2023-11-01</td>\n",
       "      <td>5.50</td>\n",
       "      <td>NaN</td>\n",
       "      <td>no change</td>\n",
       "    </tr>\n",
       "    <tr>\n",
       "      <th>1</th>\n",
       "      <td>2023-09-20</td>\n",
       "      <td>5.50</td>\n",
       "      <td>0.00</td>\n",
       "      <td>no change</td>\n",
       "    </tr>\n",
       "    <tr>\n",
       "      <th>2</th>\n",
       "      <td>2023-07-26</td>\n",
       "      <td>5.50</td>\n",
       "      <td>0.00</td>\n",
       "      <td>no change</td>\n",
       "    </tr>\n",
       "    <tr>\n",
       "      <th>3</th>\n",
       "      <td>2023-06-14</td>\n",
       "      <td>5.25</td>\n",
       "      <td>-0.25</td>\n",
       "      <td>down</td>\n",
       "    </tr>\n",
       "    <tr>\n",
       "      <th>4</th>\n",
       "      <td>2023-05-03</td>\n",
       "      <td>5.25</td>\n",
       "      <td>0.00</td>\n",
       "      <td>no change</td>\n",
       "    </tr>\n",
       "  </tbody>\n",
       "</table>\n",
       "</div>"
      ],
      "text/plain": [
       "        date  rate  rate_change rate_change_text\n",
       "0 2023-11-01  5.50          NaN        no change\n",
       "1 2023-09-20  5.50         0.00        no change\n",
       "2 2023-07-26  5.50         0.00        no change\n",
       "3 2023-06-14  5.25        -0.25             down\n",
       "4 2023-05-03  5.25         0.00        no change"
      ]
     },
     "execution_count": 653,
     "metadata": {},
     "output_type": "execute_result"
    }
   ],
   "source": [
    "rates_df.head()"
   ]
  },
  {
   "cell_type": "markdown",
   "id": "2f68821d-bf9a-45bf-83ef-fdb788da9ed9",
   "metadata": {},
   "source": [
    "#### Merge the two dataframes based on Date"
   ]
  },
  {
   "cell_type": "markdown",
   "id": "34803ae9-d4f6-4d4d-ab72-195dd8798d68",
   "metadata": {},
   "source": [
    "Sort by dates"
   ]
  },
  {
   "cell_type": "code",
   "execution_count": 654,
   "id": "5c7c3200-88f5-4415-b930-177fb27de3ce",
   "metadata": {},
   "outputs": [],
   "source": [
    "sorted_rates=rates_df.sort_values(by='date')\n",
    "sorted_text=text_df.sort_values(by='date')"
   ]
  },
  {
   "cell_type": "code",
   "execution_count": 655,
   "id": "f70c5cec-728c-4287-b866-d961965a7610",
   "metadata": {},
   "outputs": [
    {
     "data": {
      "text/html": [
       "<div>\n",
       "<style scoped>\n",
       "    .dataframe tbody tr th:only-of-type {\n",
       "        vertical-align: middle;\n",
       "    }\n",
       "\n",
       "    .dataframe tbody tr th {\n",
       "        vertical-align: top;\n",
       "    }\n",
       "\n",
       "    .dataframe thead th {\n",
       "        text-align: right;\n",
       "    }\n",
       "</style>\n",
       "<table border=\"1\" class=\"dataframe\">\n",
       "  <thead>\n",
       "    <tr style=\"text-align: right;\">\n",
       "      <th></th>\n",
       "      <th>date</th>\n",
       "      <th>rate</th>\n",
       "      <th>rate_change</th>\n",
       "      <th>rate_change_text</th>\n",
       "    </tr>\n",
       "  </thead>\n",
       "  <tbody>\n",
       "    <tr>\n",
       "      <th>200</th>\n",
       "      <td>1990-07-13</td>\n",
       "      <td>8.00</td>\n",
       "      <td>0.25</td>\n",
       "      <td>up</td>\n",
       "    </tr>\n",
       "    <tr>\n",
       "      <th>199</th>\n",
       "      <td>1990-10-29</td>\n",
       "      <td>7.75</td>\n",
       "      <td>0.25</td>\n",
       "      <td>up</td>\n",
       "    </tr>\n",
       "    <tr>\n",
       "      <th>198</th>\n",
       "      <td>1990-11-14</td>\n",
       "      <td>7.50</td>\n",
       "      <td>0.25</td>\n",
       "      <td>up</td>\n",
       "    </tr>\n",
       "    <tr>\n",
       "      <th>197</th>\n",
       "      <td>1990-12-07</td>\n",
       "      <td>7.25</td>\n",
       "      <td>0.25</td>\n",
       "      <td>up</td>\n",
       "    </tr>\n",
       "    <tr>\n",
       "      <th>196</th>\n",
       "      <td>1990-12-19</td>\n",
       "      <td>7.00</td>\n",
       "      <td>0.25</td>\n",
       "      <td>up</td>\n",
       "    </tr>\n",
       "  </tbody>\n",
       "</table>\n",
       "</div>"
      ],
      "text/plain": [
       "          date  rate  rate_change rate_change_text\n",
       "200 1990-07-13  8.00         0.25               up\n",
       "199 1990-10-29  7.75         0.25               up\n",
       "198 1990-11-14  7.50         0.25               up\n",
       "197 1990-12-07  7.25         0.25               up\n",
       "196 1990-12-19  7.00         0.25               up"
      ]
     },
     "execution_count": 655,
     "metadata": {},
     "output_type": "execute_result"
    }
   ],
   "source": [
    "sorted_rates.head()"
   ]
  },
  {
   "cell_type": "code",
   "execution_count": 656,
   "id": "31725cb4-a0ed-4685-b43c-0c4b7c98b1f6",
   "metadata": {},
   "outputs": [
    {
     "data": {
      "text/html": [
       "<div>\n",
       "<style scoped>\n",
       "    .dataframe tbody tr th:only-of-type {\n",
       "        vertical-align: middle;\n",
       "    }\n",
       "\n",
       "    .dataframe tbody tr th {\n",
       "        vertical-align: top;\n",
       "    }\n",
       "\n",
       "    .dataframe thead th {\n",
       "        text-align: right;\n",
       "    }\n",
       "</style>\n",
       "<table border=\"1\" class=\"dataframe\">\n",
       "  <thead>\n",
       "    <tr style=\"text-align: right;\">\n",
       "      <th></th>\n",
       "      <th>date</th>\n",
       "      <th>type</th>\n",
       "      <th>text</th>\n",
       "      <th>type_text</th>\n",
       "    </tr>\n",
       "  </thead>\n",
       "  <tbody>\n",
       "    <tr>\n",
       "      <th>9973</th>\n",
       "      <td>2015-01-07</td>\n",
       "      <td>0</td>\n",
       "      <td>\\r\\n       For media inquiries, call 202-452-2...</td>\n",
       "      <td>statement</td>\n",
       "    </tr>\n",
       "    <tr>\n",
       "      <th>9969</th>\n",
       "      <td>2015-01-07</td>\n",
       "      <td>0</td>\n",
       "      <td>\\r\\n       The Federal Reserve Board and the F...</td>\n",
       "      <td>statement</td>\n",
       "    </tr>\n",
       "    <tr>\n",
       "      <th>9972</th>\n",
       "      <td>2015-01-07</td>\n",
       "      <td>0</td>\n",
       "      <td>\\nMinutes of the Federal Open Market Committee...</td>\n",
       "      <td>statement</td>\n",
       "    </tr>\n",
       "    <tr>\n",
       "      <th>9971</th>\n",
       "      <td>2015-01-07</td>\n",
       "      <td>0</td>\n",
       "      <td>\\r\\n       FOMC minutes can be viewed on the B...</td>\n",
       "      <td>statement</td>\n",
       "    </tr>\n",
       "    <tr>\n",
       "      <th>9970</th>\n",
       "      <td>2015-01-07</td>\n",
       "      <td>0</td>\n",
       "      <td>\\r\\n       The minutes for each regularly sche...</td>\n",
       "      <td>statement</td>\n",
       "    </tr>\n",
       "  </tbody>\n",
       "</table>\n",
       "</div>"
      ],
      "text/plain": [
       "           date  type                                               text  \\\n",
       "9973 2015-01-07     0  \\r\\n       For media inquiries, call 202-452-2...   \n",
       "9969 2015-01-07     0  \\r\\n       The Federal Reserve Board and the F...   \n",
       "9972 2015-01-07     0  \\nMinutes of the Federal Open Market Committee...   \n",
       "9971 2015-01-07     0  \\r\\n       FOMC minutes can be viewed on the B...   \n",
       "9970 2015-01-07     0  \\r\\n       The minutes for each regularly sche...   \n",
       "\n",
       "      type_text  \n",
       "9973  statement  \n",
       "9969  statement  \n",
       "9972  statement  \n",
       "9971  statement  \n",
       "9970  statement  "
      ]
     },
     "execution_count": 656,
     "metadata": {},
     "output_type": "execute_result"
    }
   ],
   "source": [
    "sorted_text.head()"
   ]
  },
  {
   "cell_type": "markdown",
   "id": "93b5fc45-8068-430c-bb5b-fe8202c5eb24",
   "metadata": {},
   "source": [
    "Merge based on date. >> Direction backward << to ensure rates decisions are paired with previous text"
   ]
  },
  {
   "cell_type": "code",
   "execution_count": 657,
   "id": "5b456351-207b-4e64-8875-c2ebc4d59056",
   "metadata": {},
   "outputs": [],
   "source": [
    "df_merged = pd.merge_asof(sorted_text, sorted_rates, on='date')"
   ]
  },
  {
   "cell_type": "code",
   "execution_count": 658,
   "id": "6d367a31-9d98-4fa3-89ef-47262315510a",
   "metadata": {},
   "outputs": [
    {
     "data": {
      "text/html": [
       "<div>\n",
       "<style scoped>\n",
       "    .dataframe tbody tr th:only-of-type {\n",
       "        vertical-align: middle;\n",
       "    }\n",
       "\n",
       "    .dataframe tbody tr th {\n",
       "        vertical-align: top;\n",
       "    }\n",
       "\n",
       "    .dataframe thead th {\n",
       "        text-align: right;\n",
       "    }\n",
       "</style>\n",
       "<table border=\"1\" class=\"dataframe\">\n",
       "  <thead>\n",
       "    <tr style=\"text-align: right;\">\n",
       "      <th></th>\n",
       "      <th>date</th>\n",
       "      <th>type</th>\n",
       "      <th>text</th>\n",
       "      <th>type_text</th>\n",
       "      <th>rate</th>\n",
       "      <th>rate_change</th>\n",
       "      <th>rate_change_text</th>\n",
       "    </tr>\n",
       "  </thead>\n",
       "  <tbody>\n",
       "    <tr>\n",
       "      <th>0</th>\n",
       "      <td>2015-01-07</td>\n",
       "      <td>0</td>\n",
       "      <td>\\r\\n       For media inquiries, call 202-452-2...</td>\n",
       "      <td>statement</td>\n",
       "      <td>0.25</td>\n",
       "      <td>0.0</td>\n",
       "      <td>no change</td>\n",
       "    </tr>\n",
       "    <tr>\n",
       "      <th>1</th>\n",
       "      <td>2015-01-07</td>\n",
       "      <td>0</td>\n",
       "      <td>\\r\\n       The Federal Reserve Board and the F...</td>\n",
       "      <td>statement</td>\n",
       "      <td>0.25</td>\n",
       "      <td>0.0</td>\n",
       "      <td>no change</td>\n",
       "    </tr>\n",
       "    <tr>\n",
       "      <th>2</th>\n",
       "      <td>2015-01-07</td>\n",
       "      <td>0</td>\n",
       "      <td>\\nMinutes of the Federal Open Market Committee...</td>\n",
       "      <td>statement</td>\n",
       "      <td>0.25</td>\n",
       "      <td>0.0</td>\n",
       "      <td>no change</td>\n",
       "    </tr>\n",
       "    <tr>\n",
       "      <th>3</th>\n",
       "      <td>2015-01-07</td>\n",
       "      <td>0</td>\n",
       "      <td>\\r\\n       FOMC minutes can be viewed on the B...</td>\n",
       "      <td>statement</td>\n",
       "      <td>0.25</td>\n",
       "      <td>0.0</td>\n",
       "      <td>no change</td>\n",
       "    </tr>\n",
       "    <tr>\n",
       "      <th>4</th>\n",
       "      <td>2015-01-07</td>\n",
       "      <td>0</td>\n",
       "      <td>\\r\\n       The minutes for each regularly sche...</td>\n",
       "      <td>statement</td>\n",
       "      <td>0.25</td>\n",
       "      <td>0.0</td>\n",
       "      <td>no change</td>\n",
       "    </tr>\n",
       "  </tbody>\n",
       "</table>\n",
       "</div>"
      ],
      "text/plain": [
       "        date  type                                               text  \\\n",
       "0 2015-01-07     0  \\r\\n       For media inquiries, call 202-452-2...   \n",
       "1 2015-01-07     0  \\r\\n       The Federal Reserve Board and the F...   \n",
       "2 2015-01-07     0  \\nMinutes of the Federal Open Market Committee...   \n",
       "3 2015-01-07     0  \\r\\n       FOMC minutes can be viewed on the B...   \n",
       "4 2015-01-07     0  \\r\\n       The minutes for each regularly sche...   \n",
       "\n",
       "   type_text  rate  rate_change rate_change_text  \n",
       "0  statement  0.25          0.0        no change  \n",
       "1  statement  0.25          0.0        no change  \n",
       "2  statement  0.25          0.0        no change  \n",
       "3  statement  0.25          0.0        no change  \n",
       "4  statement  0.25          0.0        no change  "
      ]
     },
     "execution_count": 658,
     "metadata": {},
     "output_type": "execute_result"
    }
   ],
   "source": [
    "df_merged.head()"
   ]
  },
  {
   "cell_type": "code",
   "execution_count": 659,
   "id": "5a397a5e-039c-49dc-ba42-9905eeb2611b",
   "metadata": {},
   "outputs": [
    {
     "name": "stdout",
     "output_type": "stream",
     "text": [
      "<class 'pandas.core.frame.DataFrame'>\n",
      "RangeIndex: 9974 entries, 0 to 9973\n",
      "Data columns (total 7 columns):\n",
      " #   Column            Non-Null Count  Dtype         \n",
      "---  ------            --------------  -----         \n",
      " 0   date              9974 non-null   datetime64[ns]\n",
      " 1   type              9974 non-null   int64         \n",
      " 2   text              9974 non-null   object        \n",
      " 3   type_text         9974 non-null   object        \n",
      " 4   rate              9974 non-null   float64       \n",
      " 5   rate_change       9974 non-null   float64       \n",
      " 6   rate_change_text  9974 non-null   object        \n",
      "dtypes: datetime64[ns](1), float64(2), int64(1), object(3)\n",
      "memory usage: 545.6+ KB\n"
     ]
    }
   ],
   "source": [
    "df_merged.info()"
   ]
  },
  {
   "cell_type": "code",
   "execution_count": 660,
   "id": "6398a08d-2ceb-40c5-998b-70fa10eed8db",
   "metadata": {},
   "outputs": [],
   "source": [
    "columns_to_keep = ['date', 'type_text', 'text','rate_change_text']\n",
    "df_merged=df_merged[columns_to_keep]"
   ]
  },
  {
   "cell_type": "code",
   "execution_count": 661,
   "id": "8dca0e44-4333-4da5-aa25-b779290f0bf0",
   "metadata": {},
   "outputs": [
    {
     "name": "stdout",
     "output_type": "stream",
     "text": [
      "<class 'pandas.core.frame.DataFrame'>\n",
      "RangeIndex: 9974 entries, 0 to 9973\n",
      "Data columns (total 4 columns):\n",
      " #   Column            Non-Null Count  Dtype         \n",
      "---  ------            --------------  -----         \n",
      " 0   date              9974 non-null   datetime64[ns]\n",
      " 1   type_text         9974 non-null   object        \n",
      " 2   text              9974 non-null   object        \n",
      " 3   rate_change_text  9974 non-null   object        \n",
      "dtypes: datetime64[ns](1), object(3)\n",
      "memory usage: 311.8+ KB\n"
     ]
    }
   ],
   "source": [
    "df_merged.info()"
   ]
  },
  {
   "cell_type": "markdown",
   "id": "1704df33-eb27-4208-9a38-aef297850683",
   "metadata": {},
   "source": [
    "## Data Preprocessing"
   ]
  },
  {
   "cell_type": "markdown",
   "id": "fb70ea2d-59f9-4a0f-8c91-b23ca3204e58",
   "metadata": {},
   "source": [
    "#### Import necessary packages"
   ]
  },
  {
   "cell_type": "code",
   "execution_count": 662,
   "id": "e51d8d1c-0d8a-4fc7-a3b9-74973c7efdbb",
   "metadata": {},
   "outputs": [],
   "source": [
    "import string\n",
    "import re\n",
    "\n",
    "import nltk\n",
    "#punkt_tab is needed over punkt because of working with tabular data (dataframe)\n",
    "#nltk.download('punkt_tab')\n",
    "from nltk.tokenize import word_tokenize\n",
    "\n",
    "from nltk.corpus import stopwords\n",
    "from nltk.stem import WordNetLemmatizer\n",
    "\n",
    "from sklearn.preprocessing import OrdinalEncoder"
   ]
  },
  {
   "cell_type": "markdown",
   "id": "1ed4202a-b9be-46c2-b489-8a588234234e",
   "metadata": {},
   "source": [
    "### Text Variables Preocessing"
   ]
  },
  {
   "cell_type": "markdown",
   "id": "7801c922-3b25-4faf-8f42-914a3f974863",
   "metadata": {},
   "source": [
    "#### Cleaning"
   ]
  },
  {
   "cell_type": "code",
   "execution_count": 663,
   "id": "c275386d-d932-4a6b-87f5-91d23abf80f1",
   "metadata": {},
   "outputs": [],
   "source": [
    "# Remove all the whitespaces at the beginning and the end of a string\n",
    "# strip()\n",
    "df_cleaned = df_merged.copy()\n",
    "df_cleaned['text']=df_merged['text'].str.strip()"
   ]
  },
  {
   "cell_type": "code",
   "execution_count": 664,
   "id": "55f0b9ff-81ef-4df6-93f5-5a4535db9d06",
   "metadata": {},
   "outputs": [],
   "source": [
    "# Text modeling algorithms are case-sensitive\n",
    "# lower()\n",
    "df_cleaned['text']=df_cleaned['text'].str.lower()"
   ]
  },
  {
   "cell_type": "code",
   "execution_count": 665,
   "id": "807756e4-d682-4d4f-a082-84f68197d15c",
   "metadata": {},
   "outputs": [],
   "source": [
    "# Remove numbers and symbols to ensure better text clustering and keyphrases collection\n",
    "# replace(r'[^a-zA-Z\\s]')\n",
    "# a-zA-Z: Matches all lowercase (a-z) and uppercase (A-Z) alphabetic characters\n",
    "# \\s: Matches any whitespace character (space, tab, newline)\n",
    "# [^...]: Matches anything NOT included in the brackets. This removes everything that isn't a letter or whitespace\n",
    "df_cleaned['text'] = df_cleaned['text'].str.replace(r'[^a-zA-Z\\s]', \"\", regex=True)"
   ]
  },
  {
   "cell_type": "code",
   "execution_count": 666,
   "id": "11a3f05a-8c90-41fd-a6a2-e2b4fb381d24",
   "metadata": {},
   "outputs": [
    {
     "data": {
      "text/plain": [
       "0                             for media inquiries call \n",
       "1     the federal reserve board and the federal open...\n",
       "2     minutes of the federal open market committee\\r...\n",
       "3     fomc minutes can be viewed on the boards websi...\n",
       "4     the minutes for each regularly scheduled meeti...\n",
       "5                             for media inquiries call \n",
       "6                              the minutes are attached\n",
       "7     the federal reserve board on tuesday released ...\n",
       "8     iv subject to reasonable limitations on the am...\n",
       "9                               b the selected bank may\n",
       "10    i reject bids that as determined in its sole d...\n",
       "11    ii accept treasury securities or cash as colla...\n",
       "12    iii accept agency securities as collateral onl...\n",
       "13    a the selected bank for the soma to undertake ...\n",
       "14    iii subject to reasonable limitations on the t...\n",
       "15    b any federal reserve bank that maintains cust...\n",
       "16    i undertake repo transactions in eligible secu...\n",
       "17    ii undertake intraday reverse repo transaction...\n",
       "18     in order to ensure the effective conduct of o...\n",
       "19    ii at a minimum lending fee consistent with th...\n",
       "Name: text, dtype: object"
      ]
     },
     "execution_count": 666,
     "metadata": {},
     "output_type": "execute_result"
    }
   ],
   "source": [
    "df_cleaned['text'].head(20)"
   ]
  },
  {
   "cell_type": "markdown",
   "id": "6831b3fd-afde-4b1d-ad3a-ddb34b28d099",
   "metadata": {},
   "source": [
    "#### Tokenizing"
   ]
  },
  {
   "cell_type": "code",
   "execution_count": 667,
   "id": "27135965-b5b3-4b8c-bf24-4de52b002dbe",
   "metadata": {},
   "outputs": [],
   "source": [
    "df_tokenized=df_cleaned.copy()"
   ]
  },
  {
   "cell_type": "code",
   "execution_count": 668,
   "id": "3f1d4eb7-7806-41b3-9bc6-18e5685f7c9d",
   "metadata": {},
   "outputs": [],
   "source": [
    "df_tokenized['text']=df_tokenized['text'].apply(word_tokenize)"
   ]
  },
  {
   "cell_type": "code",
   "execution_count": 669,
   "id": "a79839ec-c623-4d7d-a622-564ab9043679",
   "metadata": {},
   "outputs": [
    {
     "data": {
      "text/plain": [
       "0                        [for, media, inquiries, call]\n",
       "1    [the, federal, reserve, board, and, the, feder...\n",
       "2    [minutes, of, the, federal, open, market, comm...\n",
       "3    [fomc, minutes, can, be, viewed, on, the, boar...\n",
       "4    [the, minutes, for, each, regularly, scheduled...\n",
       "Name: text, dtype: object"
      ]
     },
     "execution_count": 669,
     "metadata": {},
     "output_type": "execute_result"
    }
   ],
   "source": [
    "df_tokenized['text'].head()"
   ]
  },
  {
   "cell_type": "markdown",
   "id": "11d9f992-5006-442a-b2f5-b6146ab926b9",
   "metadata": {},
   "source": [
    "#### Stopwords"
   ]
  },
  {
   "cell_type": "markdown",
   "id": "4b4390d3-c363-427d-acea-c4b9caaa7320",
   "metadata": {},
   "source": [
    "### Do i remove stopwords in this case?"
   ]
  },
  {
   "cell_type": "code",
   "execution_count": 670,
   "id": "6bb8ddd3-3ba6-45d1-b969-4049dfb613a6",
   "metadata": {},
   "outputs": [],
   "source": [
    "# removes defined stopwords\n",
    "#   uses nltk.corpus to define stopwords\n",
    "#   iterates over each word (alredy tokenized) to filter out stopwords\n",
    "\n",
    "def remove_stopwords(tokens):\n",
    "    stop_words = set(stopwords.words('english'))\n",
    "    return [word for word in tokens if word.lower() not in stop_words]"
   ]
  },
  {
   "cell_type": "code",
   "execution_count": 671,
   "id": "eecc7368-3adf-4e7b-bebd-6e1c2f758e40",
   "metadata": {},
   "outputs": [],
   "source": [
    "df_stopwords = df_tokenized.copy()"
   ]
  },
  {
   "cell_type": "code",
   "execution_count": 672,
   "id": "4067f5f5-7428-4df8-ae17-fbe92c5c2451",
   "metadata": {},
   "outputs": [],
   "source": [
    "df_stopwords['text'] = df_stopwords['text'].apply(remove_stopwords)"
   ]
  },
  {
   "cell_type": "code",
   "execution_count": 673,
   "id": "3535a79e-6264-4aa0-9f56-4e21ad0a5d29",
   "metadata": {},
   "outputs": [
    {
     "name": "stdout",
     "output_type": "stream",
     "text": [
      "Tokenized Lenght:  647423\n",
      "Stopwords Lenght:  408075\n"
     ]
    }
   ],
   "source": [
    "# Check for lenght differences\n",
    "tokenized_lenght = df_tokenized['text'].apply(len)\n",
    "stopwords_lenght = df_stopwords['text'].apply(len)\n",
    "\n",
    "print('Tokenized Lenght: ', tokenized_lenght.sum())\n",
    "print('Stopwords Lenght: ', stopwords_lenght.sum())"
   ]
  },
  {
   "cell_type": "markdown",
   "id": "1672333c-e2a4-4e4c-9f7c-0b0bcc9dff2e",
   "metadata": {},
   "source": [
    "#### Lemmatizing"
   ]
  },
  {
   "cell_type": "code",
   "execution_count": 674,
   "id": "f6a26171-cd4d-4933-b9a1-1422e250fed3",
   "metadata": {},
   "outputs": [],
   "source": [
    "# lemmatizes tokenized words in a list\n",
    "#   uses nltk.corpus to define stopwords\n",
    "#   iterates over each word (alredy tokenized) to filter out stopwords\n",
    "\n",
    "def lemmatize_tokens(tokens):\n",
    "    lemmatizer = WordNetLemmatizer()\n",
    "    return [WordNetLemmatizer().lemmatize(word) for word in tokens]"
   ]
  },
  {
   "cell_type": "code",
   "execution_count": 675,
   "id": "1cb5499e-630c-48b3-80bd-09722d98ca57",
   "metadata": {},
   "outputs": [],
   "source": [
    "df_lemmatized=df_tokenized.copy()\n",
    "df_lemmatized['text'] = df_lemmatized['text'].apply(lemmatize_tokens)"
   ]
  },
  {
   "cell_type": "code",
   "execution_count": 676,
   "id": "0bfe2f2f-f184-4aab-ab21-a9fc717ff83b",
   "metadata": {},
   "outputs": [
    {
     "name": "stdout",
     "output_type": "stream",
     "text": [
      "Original Lenght:  647423\n",
      "Lemmatized Lenght:  647423\n"
     ]
    }
   ],
   "source": [
    "stopwords_lenght = df_tokenized['text'].apply(len)\n",
    "lemmatized_length = df_lemmatized['text'].apply(len)\n",
    "\n",
    "print('Original Lenght: ', stopwords_lenght.sum())\n",
    "print('Lemmatized Lenght: ', lemmatized_length.sum())"
   ]
  },
  {
   "cell_type": "code",
   "execution_count": 677,
   "id": "14bab4d6-94e1-4283-afe9-eb7504efc3ca",
   "metadata": {},
   "outputs": [
    {
     "name": "stdout",
     "output_type": "stream",
     "text": [
      "Original Tokens (First Row): ['for', 'media', 'inquiries', 'call']\n",
      "Lemmatized Tokens (First Row): ['for', 'medium', 'inquiry', 'call']\n"
     ]
    }
   ],
   "source": [
    "# Check if lemmatization actually changed any tokens by comparing original and lemmatized text for the first row\n",
    "print(f\"Original Tokens (First Row): {df_tokenized['text'].iloc[0]}\")\n",
    "print(f\"Lemmatized Tokens (First Row): {df_lemmatized['text'].iloc[0]}\")"
   ]
  },
  {
   "cell_type": "markdown",
   "id": "ecfee1fb-fcfb-4ffb-9ca0-8be71d51ba75",
   "metadata": {},
   "source": [
    "### Other Variables Processing"
   ]
  },
  {
   "cell_type": "markdown",
   "id": "2b495194-ec0b-427c-9de7-ccd64b8c648e",
   "metadata": {},
   "source": [
    "#### One-hot-encode"
   ]
  },
  {
   "cell_type": "code",
   "execution_count": 678,
   "id": "7dffa7d3-d3a1-4254-a299-6495fb7fc3f0",
   "metadata": {},
   "outputs": [
    {
     "name": "stdout",
     "output_type": "stream",
     "text": [
      "<class 'pandas.core.frame.DataFrame'>\n",
      "RangeIndex: 9974 entries, 0 to 9973\n",
      "Data columns (total 4 columns):\n",
      " #   Column            Non-Null Count  Dtype         \n",
      "---  ------            --------------  -----         \n",
      " 0   date              9974 non-null   datetime64[ns]\n",
      " 1   type_text         9974 non-null   object        \n",
      " 2   text              9974 non-null   object        \n",
      " 3   rate_change_text  9974 non-null   object        \n",
      "dtypes: datetime64[ns](1), object(3)\n",
      "memory usage: 311.8+ KB\n"
     ]
    }
   ],
   "source": [
    "df_lemmatized.info()"
   ]
  },
  {
   "cell_type": "code",
   "execution_count": 679,
   "id": "c25f2f82-57fb-4f1d-8bcb-fc03a5e1ed23",
   "metadata": {},
   "outputs": [
    {
     "name": "stdout",
     "output_type": "stream",
     "text": [
      "rate_change_text\n",
      "no change    6353\n",
      "down         2952\n",
      "up            669\n",
      "Name: count, dtype: int64\n",
      "type_text\n",
      "minutes      8245\n",
      "statement    1729\n",
      "Name: count, dtype: int64\n"
     ]
    }
   ],
   "source": [
    "print(df_lemmatized['rate_change_text'].value_counts())\n",
    "print(df_lemmatized['type_text'].value_counts())"
   ]
  },
  {
   "cell_type": "code",
   "execution_count": 680,
   "id": "e50f7621-bfec-46a8-81b6-50486af91be6",
   "metadata": {},
   "outputs": [],
   "source": [
    "ordinal_encoder = OrdinalEncoder()"
   ]
  },
  {
   "cell_type": "code",
   "execution_count": 681,
   "id": "0a6578d9-ef8c-4eea-873a-8138838d4c66",
   "metadata": {},
   "outputs": [
    {
     "data": {
      "text/plain": [
       "[array(['down', 'no change', 'up'], dtype=object)]"
      ]
     },
     "metadata": {},
     "output_type": "display_data"
    }
   ],
   "source": [
    "ordinal_encoder.fit(df_lemmatized[[\"rate_change_text\"]])\n",
    "display(ordinal_encoder.categories_)"
   ]
  },
  {
   "cell_type": "code",
   "execution_count": 682,
   "id": "b45ebbbc-0da9-4239-8298-d0936fe392b5",
   "metadata": {},
   "outputs": [],
   "source": [
    "df_lemmatized[\"rate_decision_encoded\"] = ordinal_encoder.transform(df_lemmatized[[\"rate_change_text\"]]).astype(int)"
   ]
  },
  {
   "cell_type": "code",
   "execution_count": 683,
   "id": "7826c398-4301-487c-9bb7-ac49996ecb86",
   "metadata": {},
   "outputs": [
    {
     "name": "stdout",
     "output_type": "stream",
     "text": [
      "rate_decision_encoded\n",
      "1    6353\n",
      "0    2952\n",
      "2     669\n",
      "Name: count, dtype: int64\n"
     ]
    }
   ],
   "source": [
    "print(df_lemmatized['rate_decision_encoded'].value_counts())"
   ]
  },
  {
   "cell_type": "code",
   "execution_count": 684,
   "id": "038a0f7d-d34b-4d62-a143-007b1f67822c",
   "metadata": {},
   "outputs": [
    {
     "data": {
      "text/plain": [
       "[array(['minutes', 'statement'], dtype=object)]"
      ]
     },
     "metadata": {},
     "output_type": "display_data"
    }
   ],
   "source": [
    "ordinal_encoder.fit(df_lemmatized[[\"type_text\"]])\n",
    "display(ordinal_encoder.categories_)"
   ]
  },
  {
   "cell_type": "code",
   "execution_count": 685,
   "id": "e4fc5802-ec06-4632-89bb-635ef64f3a48",
   "metadata": {},
   "outputs": [],
   "source": [
    "df_lemmatized['type_encoded'] = ordinal_encoder.transform(df_lemmatized[['type_text']]).astype(int)"
   ]
  },
  {
   "cell_type": "code",
   "execution_count": 686,
   "id": "d9380202-17d7-4ae7-9ad9-4ccb1e7fe1d1",
   "metadata": {},
   "outputs": [
    {
     "name": "stdout",
     "output_type": "stream",
     "text": [
      "type_encoded\n",
      "0    8245\n",
      "1    1729\n",
      "Name: count, dtype: int64\n"
     ]
    }
   ],
   "source": [
    "print(df_lemmatized['type_encoded'].value_counts())"
   ]
  },
  {
   "cell_type": "code",
   "execution_count": 687,
   "id": "fb50f6bb-46c0-48ae-b82a-d460583f79c5",
   "metadata": {},
   "outputs": [
    {
     "name": "stdout",
     "output_type": "stream",
     "text": [
      "<class 'pandas.core.frame.DataFrame'>\n",
      "RangeIndex: 9974 entries, 0 to 9973\n",
      "Data columns (total 6 columns):\n",
      " #   Column                 Non-Null Count  Dtype         \n",
      "---  ------                 --------------  -----         \n",
      " 0   date                   9974 non-null   datetime64[ns]\n",
      " 1   type_text              9974 non-null   object        \n",
      " 2   text                   9974 non-null   object        \n",
      " 3   rate_change_text       9974 non-null   object        \n",
      " 4   rate_decision_encoded  9974 non-null   int64         \n",
      " 5   type_encoded           9974 non-null   int64         \n",
      "dtypes: datetime64[ns](1), int64(2), object(3)\n",
      "memory usage: 467.7+ KB\n"
     ]
    }
   ],
   "source": [
    "df_lemmatized.info()"
   ]
  },
  {
   "cell_type": "code",
   "execution_count": 688,
   "id": "0836e509-161e-47fa-8507-bc81ef92ba70",
   "metadata": {},
   "outputs": [],
   "source": [
    "columns_to_keep = ['date', 'type_encoded', 'text', 'rate_decision_encoded']\n",
    "df_encoded=df_lemmatized[columns_to_keep]"
   ]
  },
  {
   "cell_type": "code",
   "execution_count": 689,
   "id": "42458934-6176-4030-89a4-1d99dc7412d4",
   "metadata": {},
   "outputs": [
    {
     "name": "stdout",
     "output_type": "stream",
     "text": [
      "<class 'pandas.core.frame.DataFrame'>\n",
      "RangeIndex: 9974 entries, 0 to 9973\n",
      "Data columns (total 4 columns):\n",
      " #   Column                 Non-Null Count  Dtype         \n",
      "---  ------                 --------------  -----         \n",
      " 0   date                   9974 non-null   datetime64[ns]\n",
      " 1   type_encoded           9974 non-null   int64         \n",
      " 2   text                   9974 non-null   object        \n",
      " 3   rate_decision_encoded  9974 non-null   int64         \n",
      "dtypes: datetime64[ns](1), int64(2), object(1)\n",
      "memory usage: 311.8+ KB\n"
     ]
    }
   ],
   "source": [
    "df_encoded.info()"
   ]
  },
  {
   "cell_type": "code",
   "execution_count": 690,
   "id": "6c6879fb-c60d-4850-b85a-3e52c432d5ec",
   "metadata": {},
   "outputs": [
    {
     "data": {
      "text/plain": [
       "0                         [for, medium, inquiry, call]\n",
       "1    [the, federal, reserve, board, and, the, feder...\n",
       "2    [minute, of, the, federal, open, market, commi...\n",
       "3    [fomc, minute, can, be, viewed, on, the, board...\n",
       "4    [the, minute, for, each, regularly, scheduled,...\n",
       "Name: text, dtype: object"
      ]
     },
     "execution_count": 690,
     "metadata": {},
     "output_type": "execute_result"
    }
   ],
   "source": [
    "df_encoded['text'].head()"
   ]
  },
  {
   "cell_type": "code",
   "execution_count": 691,
   "id": "6386d949-0a86-4081-bc44-a1ef288ed2a3",
   "metadata": {},
   "outputs": [
    {
     "name": "stderr",
     "output_type": "stream",
     "text": [
      "/tmp/ipykernel_4769/1241547755.py:3: SettingWithCopyWarning: \n",
      "A value is trying to be set on a copy of a slice from a DataFrame.\n",
      "Try using .loc[row_indexer,col_indexer] = value instead\n",
      "\n",
      "See the caveats in the documentation: https://pandas.pydata.org/pandas-docs/stable/user_guide/indexing.html#returning-a-view-versus-a-copy\n",
      "  df_final['text']=df_encoded['text'].apply(lambda x: ' '.join(x))\n"
     ]
    }
   ],
   "source": [
    "# model of chocie requires input as single string, not tokenized)\n",
    "df_final=df_encoded\n",
    "df_final['text']=df_encoded['text'].apply(lambda x: ' '.join(x))"
   ]
  },
  {
   "cell_type": "code",
   "execution_count": 692,
   "id": "ce4fbbb3-1d44-435b-915d-69c014921c85",
   "metadata": {},
   "outputs": [
    {
     "data": {
      "text/plain": [
       "0                              for medium inquiry call\n",
       "1    the federal reserve board and the federal open...\n",
       "2    minute of the federal open market committee de...\n",
       "3    fomc minute can be viewed on the board website...\n",
       "4    the minute for each regularly scheduled meetin...\n",
       "Name: text, dtype: object"
      ]
     },
     "execution_count": 692,
     "metadata": {},
     "output_type": "execute_result"
    }
   ],
   "source": [
    "df_encoded['text'].head()"
   ]
  },
  {
   "cell_type": "markdown",
   "id": "dc73567d-20b2-453e-9fac-85cfa911da24",
   "metadata": {},
   "source": [
    "## Baseline Model"
   ]
  },
  {
   "cell_type": "code",
   "execution_count": 708,
   "id": "f5e66e59-9c07-42e3-b67c-97ca0737d2cb",
   "metadata": {},
   "outputs": [],
   "source": [
    "from sklearn.model_selection import train_test_split, GridSearchCV\n",
    "from sklearn.feature_extraction.text import TfidfVectorizer\n",
    "from sklearn.naive_bayes import MultinomialNB\n",
    "from sklearn.pipeline import make_pipeline\n",
    "from sklearn.metrics import f1_score"
   ]
  },
  {
   "cell_type": "markdown",
   "id": "465f750f-1c40-4acd-bf03-d78815de2000",
   "metadata": {},
   "source": [
    "### Train test split"
   ]
  },
  {
   "cell_type": "code",
   "execution_count": 694,
   "id": "e45de115-c466-4b3f-b089-4554afe0a7f6",
   "metadata": {},
   "outputs": [],
   "source": [
    "X_train, X_test, y_train, y_test = train_test_split(df_final['text'], df_final['rate_decision_encoded'], test_size=0.3, random_state=42)"
   ]
  },
  {
   "cell_type": "code",
   "execution_count": 695,
   "id": "5f8f34fc-8756-4c27-9fd3-db25e77d3490",
   "metadata": {},
   "outputs": [
    {
     "data": {
      "text/plain": [
       "5991    with respect to the business sector participan...\n",
       "5860    ii undertake intraday repo transaction in elig...\n",
       "6022    at the conclusion of the discussion the commit...\n",
       "9061    with respect to the business sector participan...\n",
       "5156                                                     \n",
       "Name: text, dtype: object"
      ]
     },
     "execution_count": 695,
     "metadata": {},
     "output_type": "execute_result"
    }
   ],
   "source": [
    "X_train.head()"
   ]
  },
  {
   "cell_type": "code",
   "execution_count": 696,
   "id": "1a61ac95-2c09-4508-98d2-c4c615c3445b",
   "metadata": {},
   "outputs": [
    {
     "data": {
      "text/plain": [
       "5991    2\n",
       "5860    2\n",
       "6022    2\n",
       "9061    0\n",
       "5156    1\n",
       "Name: rate_decision_encoded, dtype: int64"
      ]
     },
     "execution_count": 696,
     "metadata": {},
     "output_type": "execute_result"
    }
   ],
   "source": [
    "y_train.head()"
   ]
  },
  {
   "cell_type": "markdown",
   "id": "f7f71ad9-a5b1-4691-b85d-73c403341c80",
   "metadata": {},
   "source": [
    "### Pipeline: vectorization and modeling"
   ]
  },
  {
   "cell_type": "code",
   "execution_count": 697,
   "id": "51447aa9-6068-46c9-b913-8b4a8d076441",
   "metadata": {},
   "outputs": [],
   "source": [
    "# converting raw text into a numerical representation\n",
    "# TfidfVectorizer is the vectorizer of choice. It takes into account the importance of words within the corpus\n",
    "# Naive Bayes Algorithm is the algorithm of choice. It's simple and quick. Can provide an adequate base score\n",
    "\n",
    "tf_idf_vectorizer = TfidfVectorizer()\n",
    "\n",
    "model = make_pipeline(TfidfVectorizer(), MultinomialNB())"
   ]
  },
  {
   "cell_type": "code",
   "execution_count": 698,
   "id": "2825d210-bd4c-4d00-bd87-b4adf2935cad",
   "metadata": {},
   "outputs": [
    {
     "data": {
      "text/html": [
       "<style>#sk-container-id-2 {\n",
       "  /* Definition of color scheme common for light and dark mode */\n",
       "  --sklearn-color-text: black;\n",
       "  --sklearn-color-line: gray;\n",
       "  /* Definition of color scheme for unfitted estimators */\n",
       "  --sklearn-color-unfitted-level-0: #fff5e6;\n",
       "  --sklearn-color-unfitted-level-1: #f6e4d2;\n",
       "  --sklearn-color-unfitted-level-2: #ffe0b3;\n",
       "  --sklearn-color-unfitted-level-3: chocolate;\n",
       "  /* Definition of color scheme for fitted estimators */\n",
       "  --sklearn-color-fitted-level-0: #f0f8ff;\n",
       "  --sklearn-color-fitted-level-1: #d4ebff;\n",
       "  --sklearn-color-fitted-level-2: #b3dbfd;\n",
       "  --sklearn-color-fitted-level-3: cornflowerblue;\n",
       "\n",
       "  /* Specific color for light theme */\n",
       "  --sklearn-color-text-on-default-background: var(--sg-text-color, var(--theme-code-foreground, var(--jp-content-font-color1, black)));\n",
       "  --sklearn-color-background: var(--sg-background-color, var(--theme-background, var(--jp-layout-color0, white)));\n",
       "  --sklearn-color-border-box: var(--sg-text-color, var(--theme-code-foreground, var(--jp-content-font-color1, black)));\n",
       "  --sklearn-color-icon: #696969;\n",
       "\n",
       "  @media (prefers-color-scheme: dark) {\n",
       "    /* Redefinition of color scheme for dark theme */\n",
       "    --sklearn-color-text-on-default-background: var(--sg-text-color, var(--theme-code-foreground, var(--jp-content-font-color1, white)));\n",
       "    --sklearn-color-background: var(--sg-background-color, var(--theme-background, var(--jp-layout-color0, #111)));\n",
       "    --sklearn-color-border-box: var(--sg-text-color, var(--theme-code-foreground, var(--jp-content-font-color1, white)));\n",
       "    --sklearn-color-icon: #878787;\n",
       "  }\n",
       "}\n",
       "\n",
       "#sk-container-id-2 {\n",
       "  color: var(--sklearn-color-text);\n",
       "}\n",
       "\n",
       "#sk-container-id-2 pre {\n",
       "  padding: 0;\n",
       "}\n",
       "\n",
       "#sk-container-id-2 input.sk-hidden--visually {\n",
       "  border: 0;\n",
       "  clip: rect(1px 1px 1px 1px);\n",
       "  clip: rect(1px, 1px, 1px, 1px);\n",
       "  height: 1px;\n",
       "  margin: -1px;\n",
       "  overflow: hidden;\n",
       "  padding: 0;\n",
       "  position: absolute;\n",
       "  width: 1px;\n",
       "}\n",
       "\n",
       "#sk-container-id-2 div.sk-dashed-wrapped {\n",
       "  border: 1px dashed var(--sklearn-color-line);\n",
       "  margin: 0 0.4em 0.5em 0.4em;\n",
       "  box-sizing: border-box;\n",
       "  padding-bottom: 0.4em;\n",
       "  background-color: var(--sklearn-color-background);\n",
       "}\n",
       "\n",
       "#sk-container-id-2 div.sk-container {\n",
       "  /* jupyter's `normalize.less` sets `[hidden] { display: none; }`\n",
       "     but bootstrap.min.css set `[hidden] { display: none !important; }`\n",
       "     so we also need the `!important` here to be able to override the\n",
       "     default hidden behavior on the sphinx rendered scikit-learn.org.\n",
       "     See: https://github.com/scikit-learn/scikit-learn/issues/21755 */\n",
       "  display: inline-block !important;\n",
       "  position: relative;\n",
       "}\n",
       "\n",
       "#sk-container-id-2 div.sk-text-repr-fallback {\n",
       "  display: none;\n",
       "}\n",
       "\n",
       "div.sk-parallel-item,\n",
       "div.sk-serial,\n",
       "div.sk-item {\n",
       "  /* draw centered vertical line to link estimators */\n",
       "  background-image: linear-gradient(var(--sklearn-color-text-on-default-background), var(--sklearn-color-text-on-default-background));\n",
       "  background-size: 2px 100%;\n",
       "  background-repeat: no-repeat;\n",
       "  background-position: center center;\n",
       "}\n",
       "\n",
       "/* Parallel-specific style estimator block */\n",
       "\n",
       "#sk-container-id-2 div.sk-parallel-item::after {\n",
       "  content: \"\";\n",
       "  width: 100%;\n",
       "  border-bottom: 2px solid var(--sklearn-color-text-on-default-background);\n",
       "  flex-grow: 1;\n",
       "}\n",
       "\n",
       "#sk-container-id-2 div.sk-parallel {\n",
       "  display: flex;\n",
       "  align-items: stretch;\n",
       "  justify-content: center;\n",
       "  background-color: var(--sklearn-color-background);\n",
       "  position: relative;\n",
       "}\n",
       "\n",
       "#sk-container-id-2 div.sk-parallel-item {\n",
       "  display: flex;\n",
       "  flex-direction: column;\n",
       "}\n",
       "\n",
       "#sk-container-id-2 div.sk-parallel-item:first-child::after {\n",
       "  align-self: flex-end;\n",
       "  width: 50%;\n",
       "}\n",
       "\n",
       "#sk-container-id-2 div.sk-parallel-item:last-child::after {\n",
       "  align-self: flex-start;\n",
       "  width: 50%;\n",
       "}\n",
       "\n",
       "#sk-container-id-2 div.sk-parallel-item:only-child::after {\n",
       "  width: 0;\n",
       "}\n",
       "\n",
       "/* Serial-specific style estimator block */\n",
       "\n",
       "#sk-container-id-2 div.sk-serial {\n",
       "  display: flex;\n",
       "  flex-direction: column;\n",
       "  align-items: center;\n",
       "  background-color: var(--sklearn-color-background);\n",
       "  padding-right: 1em;\n",
       "  padding-left: 1em;\n",
       "}\n",
       "\n",
       "\n",
       "/* Toggleable style: style used for estimator/Pipeline/ColumnTransformer box that is\n",
       "clickable and can be expanded/collapsed.\n",
       "- Pipeline and ColumnTransformer use this feature and define the default style\n",
       "- Estimators will overwrite some part of the style using the `sk-estimator` class\n",
       "*/\n",
       "\n",
       "/* Pipeline and ColumnTransformer style (default) */\n",
       "\n",
       "#sk-container-id-2 div.sk-toggleable {\n",
       "  /* Default theme specific background. It is overwritten whether we have a\n",
       "  specific estimator or a Pipeline/ColumnTransformer */\n",
       "  background-color: var(--sklearn-color-background);\n",
       "}\n",
       "\n",
       "/* Toggleable label */\n",
       "#sk-container-id-2 label.sk-toggleable__label {\n",
       "  cursor: pointer;\n",
       "  display: block;\n",
       "  width: 100%;\n",
       "  margin-bottom: 0;\n",
       "  padding: 0.5em;\n",
       "  box-sizing: border-box;\n",
       "  text-align: center;\n",
       "}\n",
       "\n",
       "#sk-container-id-2 label.sk-toggleable__label-arrow:before {\n",
       "  /* Arrow on the left of the label */\n",
       "  content: \"▸\";\n",
       "  float: left;\n",
       "  margin-right: 0.25em;\n",
       "  color: var(--sklearn-color-icon);\n",
       "}\n",
       "\n",
       "#sk-container-id-2 label.sk-toggleable__label-arrow:hover:before {\n",
       "  color: var(--sklearn-color-text);\n",
       "}\n",
       "\n",
       "/* Toggleable content - dropdown */\n",
       "\n",
       "#sk-container-id-2 div.sk-toggleable__content {\n",
       "  max-height: 0;\n",
       "  max-width: 0;\n",
       "  overflow: hidden;\n",
       "  text-align: left;\n",
       "  /* unfitted */\n",
       "  background-color: var(--sklearn-color-unfitted-level-0);\n",
       "}\n",
       "\n",
       "#sk-container-id-2 div.sk-toggleable__content.fitted {\n",
       "  /* fitted */\n",
       "  background-color: var(--sklearn-color-fitted-level-0);\n",
       "}\n",
       "\n",
       "#sk-container-id-2 div.sk-toggleable__content pre {\n",
       "  margin: 0.2em;\n",
       "  border-radius: 0.25em;\n",
       "  color: var(--sklearn-color-text);\n",
       "  /* unfitted */\n",
       "  background-color: var(--sklearn-color-unfitted-level-0);\n",
       "}\n",
       "\n",
       "#sk-container-id-2 div.sk-toggleable__content.fitted pre {\n",
       "  /* unfitted */\n",
       "  background-color: var(--sklearn-color-fitted-level-0);\n",
       "}\n",
       "\n",
       "#sk-container-id-2 input.sk-toggleable__control:checked~div.sk-toggleable__content {\n",
       "  /* Expand drop-down */\n",
       "  max-height: 200px;\n",
       "  max-width: 100%;\n",
       "  overflow: auto;\n",
       "}\n",
       "\n",
       "#sk-container-id-2 input.sk-toggleable__control:checked~label.sk-toggleable__label-arrow:before {\n",
       "  content: \"▾\";\n",
       "}\n",
       "\n",
       "/* Pipeline/ColumnTransformer-specific style */\n",
       "\n",
       "#sk-container-id-2 div.sk-label input.sk-toggleable__control:checked~label.sk-toggleable__label {\n",
       "  color: var(--sklearn-color-text);\n",
       "  background-color: var(--sklearn-color-unfitted-level-2);\n",
       "}\n",
       "\n",
       "#sk-container-id-2 div.sk-label.fitted input.sk-toggleable__control:checked~label.sk-toggleable__label {\n",
       "  background-color: var(--sklearn-color-fitted-level-2);\n",
       "}\n",
       "\n",
       "/* Estimator-specific style */\n",
       "\n",
       "/* Colorize estimator box */\n",
       "#sk-container-id-2 div.sk-estimator input.sk-toggleable__control:checked~label.sk-toggleable__label {\n",
       "  /* unfitted */\n",
       "  background-color: var(--sklearn-color-unfitted-level-2);\n",
       "}\n",
       "\n",
       "#sk-container-id-2 div.sk-estimator.fitted input.sk-toggleable__control:checked~label.sk-toggleable__label {\n",
       "  /* fitted */\n",
       "  background-color: var(--sklearn-color-fitted-level-2);\n",
       "}\n",
       "\n",
       "#sk-container-id-2 div.sk-label label.sk-toggleable__label,\n",
       "#sk-container-id-2 div.sk-label label {\n",
       "  /* The background is the default theme color */\n",
       "  color: var(--sklearn-color-text-on-default-background);\n",
       "}\n",
       "\n",
       "/* On hover, darken the color of the background */\n",
       "#sk-container-id-2 div.sk-label:hover label.sk-toggleable__label {\n",
       "  color: var(--sklearn-color-text);\n",
       "  background-color: var(--sklearn-color-unfitted-level-2);\n",
       "}\n",
       "\n",
       "/* Label box, darken color on hover, fitted */\n",
       "#sk-container-id-2 div.sk-label.fitted:hover label.sk-toggleable__label.fitted {\n",
       "  color: var(--sklearn-color-text);\n",
       "  background-color: var(--sklearn-color-fitted-level-2);\n",
       "}\n",
       "\n",
       "/* Estimator label */\n",
       "\n",
       "#sk-container-id-2 div.sk-label label {\n",
       "  font-family: monospace;\n",
       "  font-weight: bold;\n",
       "  display: inline-block;\n",
       "  line-height: 1.2em;\n",
       "}\n",
       "\n",
       "#sk-container-id-2 div.sk-label-container {\n",
       "  text-align: center;\n",
       "}\n",
       "\n",
       "/* Estimator-specific */\n",
       "#sk-container-id-2 div.sk-estimator {\n",
       "  font-family: monospace;\n",
       "  border: 1px dotted var(--sklearn-color-border-box);\n",
       "  border-radius: 0.25em;\n",
       "  box-sizing: border-box;\n",
       "  margin-bottom: 0.5em;\n",
       "  /* unfitted */\n",
       "  background-color: var(--sklearn-color-unfitted-level-0);\n",
       "}\n",
       "\n",
       "#sk-container-id-2 div.sk-estimator.fitted {\n",
       "  /* fitted */\n",
       "  background-color: var(--sklearn-color-fitted-level-0);\n",
       "}\n",
       "\n",
       "/* on hover */\n",
       "#sk-container-id-2 div.sk-estimator:hover {\n",
       "  /* unfitted */\n",
       "  background-color: var(--sklearn-color-unfitted-level-2);\n",
       "}\n",
       "\n",
       "#sk-container-id-2 div.sk-estimator.fitted:hover {\n",
       "  /* fitted */\n",
       "  background-color: var(--sklearn-color-fitted-level-2);\n",
       "}\n",
       "\n",
       "/* Specification for estimator info (e.g. \"i\" and \"?\") */\n",
       "\n",
       "/* Common style for \"i\" and \"?\" */\n",
       "\n",
       ".sk-estimator-doc-link,\n",
       "a:link.sk-estimator-doc-link,\n",
       "a:visited.sk-estimator-doc-link {\n",
       "  float: right;\n",
       "  font-size: smaller;\n",
       "  line-height: 1em;\n",
       "  font-family: monospace;\n",
       "  background-color: var(--sklearn-color-background);\n",
       "  border-radius: 1em;\n",
       "  height: 1em;\n",
       "  width: 1em;\n",
       "  text-decoration: none !important;\n",
       "  margin-left: 1ex;\n",
       "  /* unfitted */\n",
       "  border: var(--sklearn-color-unfitted-level-1) 1pt solid;\n",
       "  color: var(--sklearn-color-unfitted-level-1);\n",
       "}\n",
       "\n",
       ".sk-estimator-doc-link.fitted,\n",
       "a:link.sk-estimator-doc-link.fitted,\n",
       "a:visited.sk-estimator-doc-link.fitted {\n",
       "  /* fitted */\n",
       "  border: var(--sklearn-color-fitted-level-1) 1pt solid;\n",
       "  color: var(--sklearn-color-fitted-level-1);\n",
       "}\n",
       "\n",
       "/* On hover */\n",
       "div.sk-estimator:hover .sk-estimator-doc-link:hover,\n",
       ".sk-estimator-doc-link:hover,\n",
       "div.sk-label-container:hover .sk-estimator-doc-link:hover,\n",
       ".sk-estimator-doc-link:hover {\n",
       "  /* unfitted */\n",
       "  background-color: var(--sklearn-color-unfitted-level-3);\n",
       "  color: var(--sklearn-color-background);\n",
       "  text-decoration: none;\n",
       "}\n",
       "\n",
       "div.sk-estimator.fitted:hover .sk-estimator-doc-link.fitted:hover,\n",
       ".sk-estimator-doc-link.fitted:hover,\n",
       "div.sk-label-container:hover .sk-estimator-doc-link.fitted:hover,\n",
       ".sk-estimator-doc-link.fitted:hover {\n",
       "  /* fitted */\n",
       "  background-color: var(--sklearn-color-fitted-level-3);\n",
       "  color: var(--sklearn-color-background);\n",
       "  text-decoration: none;\n",
       "}\n",
       "\n",
       "/* Span, style for the box shown on hovering the info icon */\n",
       ".sk-estimator-doc-link span {\n",
       "  display: none;\n",
       "  z-index: 9999;\n",
       "  position: relative;\n",
       "  font-weight: normal;\n",
       "  right: .2ex;\n",
       "  padding: .5ex;\n",
       "  margin: .5ex;\n",
       "  width: min-content;\n",
       "  min-width: 20ex;\n",
       "  max-width: 50ex;\n",
       "  color: var(--sklearn-color-text);\n",
       "  box-shadow: 2pt 2pt 4pt #999;\n",
       "  /* unfitted */\n",
       "  background: var(--sklearn-color-unfitted-level-0);\n",
       "  border: .5pt solid var(--sklearn-color-unfitted-level-3);\n",
       "}\n",
       "\n",
       ".sk-estimator-doc-link.fitted span {\n",
       "  /* fitted */\n",
       "  background: var(--sklearn-color-fitted-level-0);\n",
       "  border: var(--sklearn-color-fitted-level-3);\n",
       "}\n",
       "\n",
       ".sk-estimator-doc-link:hover span {\n",
       "  display: block;\n",
       "}\n",
       "\n",
       "/* \"?\"-specific style due to the `<a>` HTML tag */\n",
       "\n",
       "#sk-container-id-2 a.estimator_doc_link {\n",
       "  float: right;\n",
       "  font-size: 1rem;\n",
       "  line-height: 1em;\n",
       "  font-family: monospace;\n",
       "  background-color: var(--sklearn-color-background);\n",
       "  border-radius: 1rem;\n",
       "  height: 1rem;\n",
       "  width: 1rem;\n",
       "  text-decoration: none;\n",
       "  /* unfitted */\n",
       "  color: var(--sklearn-color-unfitted-level-1);\n",
       "  border: var(--sklearn-color-unfitted-level-1) 1pt solid;\n",
       "}\n",
       "\n",
       "#sk-container-id-2 a.estimator_doc_link.fitted {\n",
       "  /* fitted */\n",
       "  border: var(--sklearn-color-fitted-level-1) 1pt solid;\n",
       "  color: var(--sklearn-color-fitted-level-1);\n",
       "}\n",
       "\n",
       "/* On hover */\n",
       "#sk-container-id-2 a.estimator_doc_link:hover {\n",
       "  /* unfitted */\n",
       "  background-color: var(--sklearn-color-unfitted-level-3);\n",
       "  color: var(--sklearn-color-background);\n",
       "  text-decoration: none;\n",
       "}\n",
       "\n",
       "#sk-container-id-2 a.estimator_doc_link.fitted:hover {\n",
       "  /* fitted */\n",
       "  background-color: var(--sklearn-color-fitted-level-3);\n",
       "}\n",
       "</style><div id=\"sk-container-id-2\" class=\"sk-top-container\"><div class=\"sk-text-repr-fallback\"><pre>Pipeline(steps=[(&#x27;tfidfvectorizer&#x27;, TfidfVectorizer()),\n",
       "                (&#x27;multinomialnb&#x27;, MultinomialNB())])</pre><b>In a Jupyter environment, please rerun this cell to show the HTML representation or trust the notebook. <br />On GitHub, the HTML representation is unable to render, please try loading this page with nbviewer.org.</b></div><div class=\"sk-container\" hidden><div class=\"sk-item sk-dashed-wrapped\"><div class=\"sk-label-container\"><div class=\"sk-label fitted sk-toggleable\"><input class=\"sk-toggleable__control sk-hidden--visually\" id=\"sk-estimator-id-2\" type=\"checkbox\" ><label for=\"sk-estimator-id-2\" class=\"sk-toggleable__label fitted sk-toggleable__label-arrow fitted\">&nbsp;&nbsp;Pipeline<a class=\"sk-estimator-doc-link fitted\" rel=\"noreferrer\" target=\"_blank\" href=\"https://scikit-learn.org/1.5/modules/generated/sklearn.pipeline.Pipeline.html\">?<span>Documentation for Pipeline</span></a><span class=\"sk-estimator-doc-link fitted\">i<span>Fitted</span></span></label><div class=\"sk-toggleable__content fitted\"><pre>Pipeline(steps=[(&#x27;tfidfvectorizer&#x27;, TfidfVectorizer()),\n",
       "                (&#x27;multinomialnb&#x27;, MultinomialNB())])</pre></div> </div></div><div class=\"sk-serial\"><div class=\"sk-item\"><div class=\"sk-estimator fitted sk-toggleable\"><input class=\"sk-toggleable__control sk-hidden--visually\" id=\"sk-estimator-id-3\" type=\"checkbox\" ><label for=\"sk-estimator-id-3\" class=\"sk-toggleable__label fitted sk-toggleable__label-arrow fitted\">&nbsp;TfidfVectorizer<a class=\"sk-estimator-doc-link fitted\" rel=\"noreferrer\" target=\"_blank\" href=\"https://scikit-learn.org/1.5/modules/generated/sklearn.feature_extraction.text.TfidfVectorizer.html\">?<span>Documentation for TfidfVectorizer</span></a></label><div class=\"sk-toggleable__content fitted\"><pre>TfidfVectorizer()</pre></div> </div></div><div class=\"sk-item\"><div class=\"sk-estimator fitted sk-toggleable\"><input class=\"sk-toggleable__control sk-hidden--visually\" id=\"sk-estimator-id-4\" type=\"checkbox\" ><label for=\"sk-estimator-id-4\" class=\"sk-toggleable__label fitted sk-toggleable__label-arrow fitted\">&nbsp;MultinomialNB<a class=\"sk-estimator-doc-link fitted\" rel=\"noreferrer\" target=\"_blank\" href=\"https://scikit-learn.org/1.5/modules/generated/sklearn.naive_bayes.MultinomialNB.html\">?<span>Documentation for MultinomialNB</span></a></label><div class=\"sk-toggleable__content fitted\"><pre>MultinomialNB()</pre></div> </div></div></div></div></div></div>"
      ],
      "text/plain": [
       "Pipeline(steps=[('tfidfvectorizer', TfidfVectorizer()),\n",
       "                ('multinomialnb', MultinomialNB())])"
      ]
     },
     "execution_count": 698,
     "metadata": {},
     "output_type": "execute_result"
    }
   ],
   "source": [
    "model.fit(X_train, y_train)"
   ]
  },
  {
   "cell_type": "code",
   "execution_count": 710,
   "id": "d515e419-7478-4f9d-9d89-cf0b66a34ccb",
   "metadata": {},
   "outputs": [
    {
     "name": "stdout",
     "output_type": "stream",
     "text": [
      "Model Accuracy: 0.6538590043434681\n"
     ]
    }
   ],
   "source": [
    "# unbalanced classes. need to \n",
    "accuracy = model.score(X_test, y_test)\n",
    "print(\"Model Accuracy:\", accuracy)"
   ]
  },
  {
   "cell_type": "code",
   "execution_count": 711,
   "id": "6f4a7811-8c2e-4508-a914-f37ef134b650",
   "metadata": {},
   "outputs": [],
   "source": [
    "y_pred = model.predict(X_test)"
   ]
  },
  {
   "cell_type": "code",
   "execution_count": 712,
   "id": "eed7cc68-b7d6-40fe-bfe9-9e20a327e74c",
   "metadata": {},
   "outputs": [
    {
     "name": "stdout",
     "output_type": "stream",
     "text": [
      "F1-weighted score: 0.5377960016406653\n"
     ]
    }
   ],
   "source": [
    "# unbalanced classes. better use f1-weighted\n",
    "f1_weighted = f1_score(y_test, y_pred, average='weighted')\n",
    "print(f\"F1-weighted score: {f1_weighted}\")"
   ]
  },
  {
   "cell_type": "markdown",
   "id": "2ea8d5a5-d373-4c26-a0c9-1ed99b646f8f",
   "metadata": {},
   "source": [
    "### Cross Validation"
   ]
  },
  {
   "cell_type": "code",
   "execution_count": 713,
   "id": "9de6ea85-bba4-4814-b9a0-8ba895c6304d",
   "metadata": {},
   "outputs": [],
   "source": [
    "# classes are heavily unbalanced. there are only 669 occurrences of up so f1_weighted is better for GS\n",
    "# this computes the F1-score for each class, but it will weight each class's score by its frequency in the data\n",
    "# AKA, more forgiving towards 'up' occurrences\n",
    "\n",
    "param_grid = {\n",
    "    'tfidfvectorizer__ngram_range': [(1, 1), (1, 2)],  # Unigrams or bigrams\n",
    "    'multinomialnb__alpha': [0.1, 0.5, 1.0]  # Alpha values for smoothing\n",
    "}\n",
    "\n",
    "grid_search = GridSearchCV(model, param_grid, cv=5, scoring='f1_weighted')"
   ]
  },
  {
   "cell_type": "code",
   "execution_count": 706,
   "id": "7520c946-3ab0-4c47-a351-b0858eb12647",
   "metadata": {},
   "outputs": [
    {
     "name": "stdout",
     "output_type": "stream",
     "text": [
      "Best parameters: {'multinomialnb__alpha': 0.1, 'tfidfvectorizer__ngram_range': (1, 2)}\n",
      "Best F1 score (macro): 0.602634107928488\n"
     ]
    }
   ],
   "source": [
    "grid_search.fit(X_train, y_train)\n",
    "\n",
    "print(f\"Best parameters: {grid_search.best_params_}\")\n",
    "print(f\"Best F1 score (macro): {grid_search.best_score_}\")"
   ]
  }
 ],
 "metadata": {
  "kernelspec": {
   "display_name": "FED-Predictor",
   "language": "python",
   "name": "fed-predictor"
  },
  "language_info": {
   "codemirror_mode": {
    "name": "ipython",
    "version": 3
   },
   "file_extension": ".py",
   "mimetype": "text/x-python",
   "name": "python",
   "nbconvert_exporter": "python",
   "pygments_lexer": "ipython3",
   "version": "3.10.6"
  },
  "widgets": {
   "application/vnd.jupyter.widget-state+json": {
    "state": {},
    "version_major": 2,
    "version_minor": 0
   }
  }
 },
 "nbformat": 4,
 "nbformat_minor": 5
}
