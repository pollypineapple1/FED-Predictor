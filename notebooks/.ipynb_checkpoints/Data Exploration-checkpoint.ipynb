{
 "cells": [
  {
   "cell_type": "markdown",
   "id": "5dd23c08-e49f-41b2-a00d-c5271d6f2e43",
   "metadata": {},
   "source": [
    "## Dataset preaparation"
   ]
  },
  {
   "cell_type": "markdown",
   "id": "57c68993-aa1a-4514-bd41-040fc845bcb6",
   "metadata": {},
   "source": [
    "#### Import necessary packages"
   ]
  },
  {
   "cell_type": "code",
   "execution_count": 575,
   "id": "7725f047-c8f5-4266-8fc8-2bb93afc002a",
   "metadata": {},
   "outputs": [],
   "source": [
    "import numpy as np\n",
    "import pandas as pd"
   ]
  },
  {
   "cell_type": "markdown",
   "id": "8fb884b7-c4f4-450e-b050-4661855dcf69",
   "metadata": {
    "editable": true,
    "slideshow": {
     "slide_type": ""
    },
    "tags": []
   },
   "source": [
    "#### Import Data form csv"
   ]
  },
  {
   "cell_type": "code",
   "execution_count": 576,
   "id": "9a35a97a-b002-4fbb-bf33-62b8a7cb8b14",
   "metadata": {},
   "outputs": [],
   "source": [
    "# Define the paths to the files to import\n",
    "text='/home/antonio/code/pollypineapple1/FED-Predictor/raw_data/Fed_Scrape-2015-2023.csv'\n",
    "rates='/home/antonio/code/pollypineapple1/FED-Predictor/raw_data/US Fed Rate.csv'"
   ]
  },
  {
   "cell_type": "code",
   "execution_count": 577,
   "id": "85569552-8e17-4780-975b-2eb507bd46dc",
   "metadata": {},
   "outputs": [],
   "source": [
    "# Import files\n",
    "text_df=pd.read_csv(text)\n",
    "rates_df=pd.read_csv(rates)"
   ]
  },
  {
   "cell_type": "markdown",
   "id": "2874cbf3-b413-45fe-bb90-87f69b4ab216",
   "metadata": {},
   "source": [
    "#### Check the data"
   ]
  },
  {
   "cell_type": "code",
   "execution_count": 578,
   "id": "20618670-2c0b-4245-a9f2-683a0c444001",
   "metadata": {},
   "outputs": [
    {
     "data": {
      "text/html": [
       "<div>\n",
       "<style scoped>\n",
       "    .dataframe tbody tr th:only-of-type {\n",
       "        vertical-align: middle;\n",
       "    }\n",
       "\n",
       "    .dataframe tbody tr th {\n",
       "        vertical-align: top;\n",
       "    }\n",
       "\n",
       "    .dataframe thead th {\n",
       "        text-align: right;\n",
       "    }\n",
       "</style>\n",
       "<table border=\"1\" class=\"dataframe\">\n",
       "  <thead>\n",
       "    <tr style=\"text-align: right;\">\n",
       "      <th></th>\n",
       "      <th>Unnamed: 0</th>\n",
       "      <th>Date</th>\n",
       "      <th>Type</th>\n",
       "      <th>Text</th>\n",
       "    </tr>\n",
       "  </thead>\n",
       "  <tbody>\n",
       "    <tr>\n",
       "      <th>0</th>\n",
       "      <td>0</td>\n",
       "      <td>20230412</td>\n",
       "      <td>0</td>\n",
       "      <td>The Federal Reserve on Wednesday released the ...</td>\n",
       "    </tr>\n",
       "    <tr>\n",
       "      <th>1</th>\n",
       "      <td>1</td>\n",
       "      <td>20230412</td>\n",
       "      <td>0</td>\n",
       "      <td>The minutes for each regularly scheduled meeti...</td>\n",
       "    </tr>\n",
       "    <tr>\n",
       "      <th>2</th>\n",
       "      <td>2</td>\n",
       "      <td>20230412</td>\n",
       "      <td>0</td>\n",
       "      <td>The minutes can be viewed on the Board's website.</td>\n",
       "    </tr>\n",
       "    <tr>\n",
       "      <th>3</th>\n",
       "      <td>3</td>\n",
       "      <td>20230412</td>\n",
       "      <td>0</td>\n",
       "      <td>For media inquiries, e-mail [email protected] ...</td>\n",
       "    </tr>\n",
       "    <tr>\n",
       "      <th>4</th>\n",
       "      <td>4</td>\n",
       "      <td>20230412</td>\n",
       "      <td>0</td>\n",
       "      <td>Minutes of the Federal Open Market Committee\\r...</td>\n",
       "    </tr>\n",
       "  </tbody>\n",
       "</table>\n",
       "</div>"
      ],
      "text/plain": [
       "   Unnamed: 0      Date  Type  \\\n",
       "0           0  20230412     0   \n",
       "1           1  20230412     0   \n",
       "2           2  20230412     0   \n",
       "3           3  20230412     0   \n",
       "4           4  20230412     0   \n",
       "\n",
       "                                                Text  \n",
       "0  The Federal Reserve on Wednesday released the ...  \n",
       "1  The minutes for each regularly scheduled meeti...  \n",
       "2  The minutes can be viewed on the Board's website.  \n",
       "3  For media inquiries, e-mail [email protected] ...  \n",
       "4  Minutes of the Federal Open Market Committee\\r...  "
      ]
     },
     "execution_count": 578,
     "metadata": {},
     "output_type": "execute_result"
    }
   ],
   "source": [
    "text_df.head()"
   ]
  },
  {
   "cell_type": "code",
   "execution_count": 579,
   "id": "27712944-04bf-49bf-a7d6-4aa08b3941f7",
   "metadata": {},
   "outputs": [
    {
     "data": {
      "text/html": [
       "<div>\n",
       "<style scoped>\n",
       "    .dataframe tbody tr th:only-of-type {\n",
       "        vertical-align: middle;\n",
       "    }\n",
       "\n",
       "    .dataframe tbody tr th {\n",
       "        vertical-align: top;\n",
       "    }\n",
       "\n",
       "    .dataframe thead th {\n",
       "        text-align: right;\n",
       "    }\n",
       "</style>\n",
       "<table border=\"1\" class=\"dataframe\">\n",
       "  <thead>\n",
       "    <tr style=\"text-align: right;\">\n",
       "      <th></th>\n",
       "      <th>Release Date</th>\n",
       "      <th>Time</th>\n",
       "      <th>Actual</th>\n",
       "      <th>Forecast</th>\n",
       "      <th>Previous</th>\n",
       "    </tr>\n",
       "  </thead>\n",
       "  <tbody>\n",
       "    <tr>\n",
       "      <th>0</th>\n",
       "      <td>Nov 01, 2023</td>\n",
       "      <td>13:00</td>\n",
       "      <td>5.50%</td>\n",
       "      <td>5.50%</td>\n",
       "      <td>5.50%</td>\n",
       "    </tr>\n",
       "    <tr>\n",
       "      <th>1</th>\n",
       "      <td>Sep 20, 2023</td>\n",
       "      <td>13:00</td>\n",
       "      <td>5.50%</td>\n",
       "      <td>5.50%</td>\n",
       "      <td>5.50%</td>\n",
       "    </tr>\n",
       "    <tr>\n",
       "      <th>2</th>\n",
       "      <td>Jul 26, 2023</td>\n",
       "      <td>13:00</td>\n",
       "      <td>5.50%</td>\n",
       "      <td>5.50%</td>\n",
       "      <td>5.25%</td>\n",
       "    </tr>\n",
       "    <tr>\n",
       "      <th>3</th>\n",
       "      <td>Jun 14, 2023</td>\n",
       "      <td>13:00</td>\n",
       "      <td>5.25%</td>\n",
       "      <td>5.25%</td>\n",
       "      <td>5.25%</td>\n",
       "    </tr>\n",
       "    <tr>\n",
       "      <th>4</th>\n",
       "      <td>May 03, 2023</td>\n",
       "      <td>13:00</td>\n",
       "      <td>5.25%</td>\n",
       "      <td>5.25%</td>\n",
       "      <td>5.00%</td>\n",
       "    </tr>\n",
       "  </tbody>\n",
       "</table>\n",
       "</div>"
      ],
      "text/plain": [
       "   Release Date   Time Actual Forecast Previous\n",
       "0  Nov 01, 2023  13:00  5.50%    5.50%    5.50%\n",
       "1  Sep 20, 2023  13:00  5.50%    5.50%    5.50%\n",
       "2  Jul 26, 2023  13:00  5.50%    5.50%    5.25%\n",
       "3  Jun 14, 2023  13:00  5.25%    5.25%    5.25%\n",
       "4  May 03, 2023  13:00  5.25%    5.25%    5.00%"
      ]
     },
     "execution_count": 579,
     "metadata": {},
     "output_type": "execute_result"
    }
   ],
   "source": [
    "rates_df.head()"
   ]
  },
  {
   "cell_type": "code",
   "execution_count": 580,
   "id": "71154992-70f7-449c-8653-ec6c0dbf0e3a",
   "metadata": {},
   "outputs": [
    {
     "name": "stdout",
     "output_type": "stream",
     "text": [
      "<class 'pandas.core.frame.DataFrame'>\n",
      "RangeIndex: 9974 entries, 0 to 9973\n",
      "Data columns (total 4 columns):\n",
      " #   Column      Non-Null Count  Dtype \n",
      "---  ------      --------------  ----- \n",
      " 0   Unnamed: 0  9974 non-null   int64 \n",
      " 1   Date        9974 non-null   int64 \n",
      " 2   Type        9974 non-null   int64 \n",
      " 3   Text        9974 non-null   object\n",
      "dtypes: int64(3), object(1)\n",
      "memory usage: 311.8+ KB\n"
     ]
    }
   ],
   "source": [
    "text_df.info()"
   ]
  },
  {
   "cell_type": "code",
   "execution_count": 581,
   "id": "4eb64682-f82f-453d-9a9b-4abfc8d3b471",
   "metadata": {},
   "outputs": [
    {
     "name": "stdout",
     "output_type": "stream",
     "text": [
      "<class 'pandas.core.frame.DataFrame'>\n",
      "RangeIndex: 201 entries, 0 to 200\n",
      "Data columns (total 5 columns):\n",
      " #   Column        Non-Null Count  Dtype \n",
      "---  ------        --------------  ----- \n",
      " 0   Release Date  201 non-null    object\n",
      " 1   Time          201 non-null    object\n",
      " 2   Actual        201 non-null    object\n",
      " 3   Forecast      201 non-null    object\n",
      " 4   Previous      201 non-null    object\n",
      "dtypes: object(5)\n",
      "memory usage: 8.0+ KB\n"
     ]
    }
   ],
   "source": [
    "rates_df.info()"
   ]
  },
  {
   "cell_type": "markdown",
   "id": "49deb4a1-7419-45c9-aa50-619cfa81796f",
   "metadata": {},
   "source": [
    "#### Remove useless columns and format relevant ones"
   ]
  },
  {
   "cell_type": "code",
   "execution_count": 582,
   "id": "e453eff8-208f-481d-bca0-dc7d6882156e",
   "metadata": {},
   "outputs": [],
   "source": [
    "columns_to_keep = ['Release Date', 'Actual']\n",
    "rates_df=rates_df[columns_to_keep]\n",
    "rates_df=rates_df.rename(columns = {'Release Date' : 'date'})"
   ]
  },
  {
   "cell_type": "code",
   "execution_count": 583,
   "id": "0321c597-6e29-4ab8-92d8-ead4300b86c7",
   "metadata": {},
   "outputs": [],
   "source": [
    "rates_df['date'] = rates_df['date'].astype(str)"
   ]
  },
  {
   "cell_type": "code",
   "execution_count": 584,
   "id": "0bc109f3-4321-47e0-8ea6-0a0bf397a765",
   "metadata": {},
   "outputs": [
    {
     "data": {
      "text/html": [
       "<div>\n",
       "<style scoped>\n",
       "    .dataframe tbody tr th:only-of-type {\n",
       "        vertical-align: middle;\n",
       "    }\n",
       "\n",
       "    .dataframe tbody tr th {\n",
       "        vertical-align: top;\n",
       "    }\n",
       "\n",
       "    .dataframe thead th {\n",
       "        text-align: right;\n",
       "    }\n",
       "</style>\n",
       "<table border=\"1\" class=\"dataframe\">\n",
       "  <thead>\n",
       "    <tr style=\"text-align: right;\">\n",
       "      <th></th>\n",
       "      <th>date</th>\n",
       "      <th>Actual</th>\n",
       "    </tr>\n",
       "  </thead>\n",
       "  <tbody>\n",
       "    <tr>\n",
       "      <th>0</th>\n",
       "      <td>Nov 01, 2023</td>\n",
       "      <td>5.50%</td>\n",
       "    </tr>\n",
       "    <tr>\n",
       "      <th>1</th>\n",
       "      <td>Sep 20, 2023</td>\n",
       "      <td>5.50%</td>\n",
       "    </tr>\n",
       "    <tr>\n",
       "      <th>2</th>\n",
       "      <td>Jul 26, 2023</td>\n",
       "      <td>5.50%</td>\n",
       "    </tr>\n",
       "    <tr>\n",
       "      <th>3</th>\n",
       "      <td>Jun 14, 2023</td>\n",
       "      <td>5.25%</td>\n",
       "    </tr>\n",
       "    <tr>\n",
       "      <th>4</th>\n",
       "      <td>May 03, 2023</td>\n",
       "      <td>5.25%</td>\n",
       "    </tr>\n",
       "  </tbody>\n",
       "</table>\n",
       "</div>"
      ],
      "text/plain": [
       "           date Actual\n",
       "0  Nov 01, 2023  5.50%\n",
       "1  Sep 20, 2023  5.50%\n",
       "2  Jul 26, 2023  5.50%\n",
       "3  Jun 14, 2023  5.25%\n",
       "4  May 03, 2023  5.25%"
      ]
     },
     "execution_count": 584,
     "metadata": {},
     "output_type": "execute_result"
    }
   ],
   "source": [
    "rates_df.head()"
   ]
  },
  {
   "cell_type": "markdown",
   "id": "c1dd9378-ed7d-44c2-b253-d49f413a8349",
   "metadata": {},
   "source": [
    "Conversion to datetime"
   ]
  },
  {
   "cell_type": "code",
   "execution_count": 585,
   "id": "8b227b34-9cd2-4e23-b3ef-2cb00239bbd7",
   "metadata": {},
   "outputs": [],
   "source": [
    "rates_df['date'] = pd.to_datetime(rates_df['date'], format = '%b %d, %Y')"
   ]
  },
  {
   "cell_type": "code",
   "execution_count": 586,
   "id": "34995b17-7201-4487-80dc-83d3fc7b004d",
   "metadata": {},
   "outputs": [
    {
     "name": "stdout",
     "output_type": "stream",
     "text": [
      "<class 'pandas.core.frame.DataFrame'>\n",
      "RangeIndex: 201 entries, 0 to 200\n",
      "Data columns (total 2 columns):\n",
      " #   Column  Non-Null Count  Dtype         \n",
      "---  ------  --------------  -----         \n",
      " 0   date    201 non-null    datetime64[ns]\n",
      " 1   Actual  201 non-null    object        \n",
      "dtypes: datetime64[ns](1), object(1)\n",
      "memory usage: 3.3+ KB\n"
     ]
    }
   ],
   "source": [
    "rates_df.info()"
   ]
  },
  {
   "cell_type": "code",
   "execution_count": 587,
   "id": "8e2f8d0d-d520-43a6-a328-1d63f0812096",
   "metadata": {},
   "outputs": [],
   "source": [
    "rates_df=rates_df.rename(columns={'Actual': 'rate'})"
   ]
  },
  {
   "cell_type": "code",
   "execution_count": 588,
   "id": "69eb1bf3-75d5-4f36-9b91-882300300517",
   "metadata": {},
   "outputs": [
    {
     "name": "stdout",
     "output_type": "stream",
     "text": [
      "<class 'pandas.core.frame.DataFrame'>\n",
      "RangeIndex: 201 entries, 0 to 200\n",
      "Data columns (total 2 columns):\n",
      " #   Column  Non-Null Count  Dtype         \n",
      "---  ------  --------------  -----         \n",
      " 0   date    201 non-null    datetime64[ns]\n",
      " 1   rate    201 non-null    object        \n",
      "dtypes: datetime64[ns](1), object(1)\n",
      "memory usage: 3.3+ KB\n"
     ]
    }
   ],
   "source": [
    "rates_df.info()"
   ]
  },
  {
   "cell_type": "code",
   "execution_count": 589,
   "id": "8cc31017-b82e-43a0-8f3c-c1dd002b7086",
   "metadata": {},
   "outputs": [
    {
     "data": {
      "text/html": [
       "<div>\n",
       "<style scoped>\n",
       "    .dataframe tbody tr th:only-of-type {\n",
       "        vertical-align: middle;\n",
       "    }\n",
       "\n",
       "    .dataframe tbody tr th {\n",
       "        vertical-align: top;\n",
       "    }\n",
       "\n",
       "    .dataframe thead th {\n",
       "        text-align: right;\n",
       "    }\n",
       "</style>\n",
       "<table border=\"1\" class=\"dataframe\">\n",
       "  <thead>\n",
       "    <tr style=\"text-align: right;\">\n",
       "      <th></th>\n",
       "      <th>date</th>\n",
       "      <th>rate</th>\n",
       "    </tr>\n",
       "  </thead>\n",
       "  <tbody>\n",
       "    <tr>\n",
       "      <th>0</th>\n",
       "      <td>2023-11-01</td>\n",
       "      <td>5.50%</td>\n",
       "    </tr>\n",
       "    <tr>\n",
       "      <th>1</th>\n",
       "      <td>2023-09-20</td>\n",
       "      <td>5.50%</td>\n",
       "    </tr>\n",
       "    <tr>\n",
       "      <th>2</th>\n",
       "      <td>2023-07-26</td>\n",
       "      <td>5.50%</td>\n",
       "    </tr>\n",
       "    <tr>\n",
       "      <th>3</th>\n",
       "      <td>2023-06-14</td>\n",
       "      <td>5.25%</td>\n",
       "    </tr>\n",
       "    <tr>\n",
       "      <th>4</th>\n",
       "      <td>2023-05-03</td>\n",
       "      <td>5.25%</td>\n",
       "    </tr>\n",
       "  </tbody>\n",
       "</table>\n",
       "</div>"
      ],
      "text/plain": [
       "        date   rate\n",
       "0 2023-11-01  5.50%\n",
       "1 2023-09-20  5.50%\n",
       "2 2023-07-26  5.50%\n",
       "3 2023-06-14  5.25%\n",
       "4 2023-05-03  5.25%"
      ]
     },
     "execution_count": 589,
     "metadata": {},
     "output_type": "execute_result"
    }
   ],
   "source": [
    "rates_df.head()"
   ]
  },
  {
   "cell_type": "code",
   "execution_count": 590,
   "id": "d6225f3b-8a18-494b-8b6e-3b8275883528",
   "metadata": {},
   "outputs": [],
   "source": [
    "text_df['Date']=pd.to_datetime(text_df['Date'], format='%Y%m%d')\n",
    "text_df=text_df.rename(columns={'Date': 'date'})"
   ]
  },
  {
   "cell_type": "code",
   "execution_count": 591,
   "id": "15cf8675-52fa-4aa4-9ee9-8677ca89f931",
   "metadata": {},
   "outputs": [],
   "source": [
    "text_df.drop(['Unnamed: 0'], axis=1, inplace=True)"
   ]
  },
  {
   "cell_type": "code",
   "execution_count": 592,
   "id": "df01cea3-bec3-46c5-9e74-ea00d1bbfa88",
   "metadata": {},
   "outputs": [
    {
     "name": "stdout",
     "output_type": "stream",
     "text": [
      "<class 'pandas.core.frame.DataFrame'>\n",
      "RangeIndex: 9974 entries, 0 to 9973\n",
      "Data columns (total 3 columns):\n",
      " #   Column  Non-Null Count  Dtype         \n",
      "---  ------  --------------  -----         \n",
      " 0   date    9974 non-null   datetime64[ns]\n",
      " 1   Type    9974 non-null   int64         \n",
      " 2   Text    9974 non-null   object        \n",
      "dtypes: datetime64[ns](1), int64(1), object(1)\n",
      "memory usage: 233.9+ KB\n"
     ]
    }
   ],
   "source": [
    "text_df.info()"
   ]
  },
  {
   "cell_type": "markdown",
   "id": "2f68821d-bf9a-45bf-83ef-fdb788da9ed9",
   "metadata": {},
   "source": [
    "#### Merge the two dataframes based on Date"
   ]
  },
  {
   "cell_type": "markdown",
   "id": "34803ae9-d4f6-4d4d-ab72-195dd8798d68",
   "metadata": {},
   "source": [
    "Sort by dates"
   ]
  },
  {
   "cell_type": "code",
   "execution_count": 593,
   "id": "5c7c3200-88f5-4415-b930-177fb27de3ce",
   "metadata": {},
   "outputs": [],
   "source": [
    "sorted_rates=rates_df.sort_values(by='date')\n",
    "sorted_text=text_df.sort_values(by='date')"
   ]
  },
  {
   "cell_type": "code",
   "execution_count": 594,
   "id": "f70c5cec-728c-4287-b866-d961965a7610",
   "metadata": {},
   "outputs": [
    {
     "data": {
      "text/html": [
       "<div>\n",
       "<style scoped>\n",
       "    .dataframe tbody tr th:only-of-type {\n",
       "        vertical-align: middle;\n",
       "    }\n",
       "\n",
       "    .dataframe tbody tr th {\n",
       "        vertical-align: top;\n",
       "    }\n",
       "\n",
       "    .dataframe thead th {\n",
       "        text-align: right;\n",
       "    }\n",
       "</style>\n",
       "<table border=\"1\" class=\"dataframe\">\n",
       "  <thead>\n",
       "    <tr style=\"text-align: right;\">\n",
       "      <th></th>\n",
       "      <th>date</th>\n",
       "      <th>rate</th>\n",
       "    </tr>\n",
       "  </thead>\n",
       "  <tbody>\n",
       "    <tr>\n",
       "      <th>200</th>\n",
       "      <td>1990-07-13</td>\n",
       "      <td>8.00%</td>\n",
       "    </tr>\n",
       "    <tr>\n",
       "      <th>199</th>\n",
       "      <td>1990-10-29</td>\n",
       "      <td>7.75%</td>\n",
       "    </tr>\n",
       "    <tr>\n",
       "      <th>198</th>\n",
       "      <td>1990-11-14</td>\n",
       "      <td>7.50%</td>\n",
       "    </tr>\n",
       "    <tr>\n",
       "      <th>197</th>\n",
       "      <td>1990-12-07</td>\n",
       "      <td>7.25%</td>\n",
       "    </tr>\n",
       "    <tr>\n",
       "      <th>196</th>\n",
       "      <td>1990-12-19</td>\n",
       "      <td>7.00%</td>\n",
       "    </tr>\n",
       "  </tbody>\n",
       "</table>\n",
       "</div>"
      ],
      "text/plain": [
       "          date   rate\n",
       "200 1990-07-13  8.00%\n",
       "199 1990-10-29  7.75%\n",
       "198 1990-11-14  7.50%\n",
       "197 1990-12-07  7.25%\n",
       "196 1990-12-19  7.00%"
      ]
     },
     "execution_count": 594,
     "metadata": {},
     "output_type": "execute_result"
    }
   ],
   "source": [
    "sorted_rates.head()"
   ]
  },
  {
   "cell_type": "code",
   "execution_count": 595,
   "id": "31725cb4-a0ed-4685-b43c-0c4b7c98b1f6",
   "metadata": {},
   "outputs": [
    {
     "data": {
      "text/html": [
       "<div>\n",
       "<style scoped>\n",
       "    .dataframe tbody tr th:only-of-type {\n",
       "        vertical-align: middle;\n",
       "    }\n",
       "\n",
       "    .dataframe tbody tr th {\n",
       "        vertical-align: top;\n",
       "    }\n",
       "\n",
       "    .dataframe thead th {\n",
       "        text-align: right;\n",
       "    }\n",
       "</style>\n",
       "<table border=\"1\" class=\"dataframe\">\n",
       "  <thead>\n",
       "    <tr style=\"text-align: right;\">\n",
       "      <th></th>\n",
       "      <th>date</th>\n",
       "      <th>Type</th>\n",
       "      <th>Text</th>\n",
       "    </tr>\n",
       "  </thead>\n",
       "  <tbody>\n",
       "    <tr>\n",
       "      <th>9973</th>\n",
       "      <td>2015-01-07</td>\n",
       "      <td>0</td>\n",
       "      <td>\\r\\n       For media inquiries, call 202-452-2...</td>\n",
       "    </tr>\n",
       "    <tr>\n",
       "      <th>9969</th>\n",
       "      <td>2015-01-07</td>\n",
       "      <td>0</td>\n",
       "      <td>\\r\\n       The Federal Reserve Board and the F...</td>\n",
       "    </tr>\n",
       "    <tr>\n",
       "      <th>9972</th>\n",
       "      <td>2015-01-07</td>\n",
       "      <td>0</td>\n",
       "      <td>\\nMinutes of the Federal Open Market Committee...</td>\n",
       "    </tr>\n",
       "    <tr>\n",
       "      <th>9971</th>\n",
       "      <td>2015-01-07</td>\n",
       "      <td>0</td>\n",
       "      <td>\\r\\n       FOMC minutes can be viewed on the B...</td>\n",
       "    </tr>\n",
       "    <tr>\n",
       "      <th>9970</th>\n",
       "      <td>2015-01-07</td>\n",
       "      <td>0</td>\n",
       "      <td>\\r\\n       The minutes for each regularly sche...</td>\n",
       "    </tr>\n",
       "  </tbody>\n",
       "</table>\n",
       "</div>"
      ],
      "text/plain": [
       "           date  Type                                               Text\n",
       "9973 2015-01-07     0  \\r\\n       For media inquiries, call 202-452-2...\n",
       "9969 2015-01-07     0  \\r\\n       The Federal Reserve Board and the F...\n",
       "9972 2015-01-07     0  \\nMinutes of the Federal Open Market Committee...\n",
       "9971 2015-01-07     0  \\r\\n       FOMC minutes can be viewed on the B...\n",
       "9970 2015-01-07     0  \\r\\n       The minutes for each regularly sche..."
      ]
     },
     "execution_count": 595,
     "metadata": {},
     "output_type": "execute_result"
    }
   ],
   "source": [
    "sorted_text.head()"
   ]
  },
  {
   "cell_type": "markdown",
   "id": "93b5fc45-8068-430c-bb5b-fe8202c5eb24",
   "metadata": {},
   "source": [
    "Merge based on date. >> Direction backward << to ensure rates decisions are paired with previous text"
   ]
  },
  {
   "cell_type": "code",
   "execution_count": 596,
   "id": "5b456351-207b-4e64-8875-c2ebc4d59056",
   "metadata": {},
   "outputs": [
    {
     "data": {
      "text/html": [
       "<div>\n",
       "<style scoped>\n",
       "    .dataframe tbody tr th:only-of-type {\n",
       "        vertical-align: middle;\n",
       "    }\n",
       "\n",
       "    .dataframe tbody tr th {\n",
       "        vertical-align: top;\n",
       "    }\n",
       "\n",
       "    .dataframe thead th {\n",
       "        text-align: right;\n",
       "    }\n",
       "</style>\n",
       "<table border=\"1\" class=\"dataframe\">\n",
       "  <thead>\n",
       "    <tr style=\"text-align: right;\">\n",
       "      <th></th>\n",
       "      <th>date</th>\n",
       "      <th>Type</th>\n",
       "      <th>Text</th>\n",
       "      <th>rate</th>\n",
       "    </tr>\n",
       "  </thead>\n",
       "  <tbody>\n",
       "    <tr>\n",
       "      <th>0</th>\n",
       "      <td>2015-01-07</td>\n",
       "      <td>0</td>\n",
       "      <td>\\r\\n       For media inquiries, call 202-452-2...</td>\n",
       "      <td>0.25%</td>\n",
       "    </tr>\n",
       "    <tr>\n",
       "      <th>1</th>\n",
       "      <td>2015-01-07</td>\n",
       "      <td>0</td>\n",
       "      <td>\\r\\n       The Federal Reserve Board and the F...</td>\n",
       "      <td>0.25%</td>\n",
       "    </tr>\n",
       "    <tr>\n",
       "      <th>2</th>\n",
       "      <td>2015-01-07</td>\n",
       "      <td>0</td>\n",
       "      <td>\\nMinutes of the Federal Open Market Committee...</td>\n",
       "      <td>0.25%</td>\n",
       "    </tr>\n",
       "    <tr>\n",
       "      <th>3</th>\n",
       "      <td>2015-01-07</td>\n",
       "      <td>0</td>\n",
       "      <td>\\r\\n       FOMC minutes can be viewed on the B...</td>\n",
       "      <td>0.25%</td>\n",
       "    </tr>\n",
       "    <tr>\n",
       "      <th>4</th>\n",
       "      <td>2015-01-07</td>\n",
       "      <td>0</td>\n",
       "      <td>\\r\\n       The minutes for each regularly sche...</td>\n",
       "      <td>0.25%</td>\n",
       "    </tr>\n",
       "  </tbody>\n",
       "</table>\n",
       "</div>"
      ],
      "text/plain": [
       "        date  Type                                               Text   rate\n",
       "0 2015-01-07     0  \\r\\n       For media inquiries, call 202-452-2...  0.25%\n",
       "1 2015-01-07     0  \\r\\n       The Federal Reserve Board and the F...  0.25%\n",
       "2 2015-01-07     0  \\nMinutes of the Federal Open Market Committee...  0.25%\n",
       "3 2015-01-07     0  \\r\\n       FOMC minutes can be viewed on the B...  0.25%\n",
       "4 2015-01-07     0  \\r\\n       The minutes for each regularly sche...  0.25%"
      ]
     },
     "execution_count": 596,
     "metadata": {},
     "output_type": "execute_result"
    }
   ],
   "source": [
    "df_merged = pd.merge_asof(sorted_text, sorted_rates, on='date')\n",
    "df_merged.head()"
   ]
  },
  {
   "cell_type": "code",
   "execution_count": 597,
   "id": "5a397a5e-039c-49dc-ba42-9905eeb2611b",
   "metadata": {},
   "outputs": [
    {
     "name": "stdout",
     "output_type": "stream",
     "text": [
      "<class 'pandas.core.frame.DataFrame'>\n",
      "RangeIndex: 9974 entries, 0 to 9973\n",
      "Data columns (total 4 columns):\n",
      " #   Column  Non-Null Count  Dtype         \n",
      "---  ------  --------------  -----         \n",
      " 0   date    9974 non-null   datetime64[ns]\n",
      " 1   Type    9974 non-null   int64         \n",
      " 2   Text    9974 non-null   object        \n",
      " 3   rate    9974 non-null   object        \n",
      "dtypes: datetime64[ns](1), int64(1), object(2)\n",
      "memory usage: 311.8+ KB\n"
     ]
    }
   ],
   "source": [
    "df_merged.info()"
   ]
  }
 ],
 "metadata": {
  "kernelspec": {
   "display_name": "FED-Predictor",
   "language": "python",
   "name": "fed-predictor"
  },
  "language_info": {
   "codemirror_mode": {
    "name": "ipython",
    "version": 3
   },
   "file_extension": ".py",
   "mimetype": "text/x-python",
   "name": "python",
   "nbconvert_exporter": "python",
   "pygments_lexer": "ipython3",
   "version": "3.10.6"
  },
  "widgets": {
   "application/vnd.jupyter.widget-state+json": {
    "state": {},
    "version_major": 2,
    "version_minor": 0
   }
  }
 },
 "nbformat": 4,
 "nbformat_minor": 5
}
