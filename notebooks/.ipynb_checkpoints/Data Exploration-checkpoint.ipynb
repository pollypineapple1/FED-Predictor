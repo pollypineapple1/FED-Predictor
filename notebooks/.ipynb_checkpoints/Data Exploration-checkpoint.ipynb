{
 "cells": [
  {
   "cell_type": "markdown",
   "id": "5dd23c08-e49f-41b2-a00d-c5271d6f2e43",
   "metadata": {},
   "source": [
    "## Dataset preaparation"
   ]
  },
  {
   "cell_type": "markdown",
   "id": "57c68993-aa1a-4514-bd41-040fc845bcb6",
   "metadata": {},
   "source": [
    "#### Import necessary packages"
   ]
  },
  {
   "cell_type": "code",
   "execution_count": 179,
   "id": "7725f047-c8f5-4266-8fc8-2bb93afc002a",
   "metadata": {},
   "outputs": [],
   "source": [
    "import numpy as np\n",
    "import pandas as pd"
   ]
  },
  {
   "cell_type": "markdown",
   "id": "8fb884b7-c4f4-450e-b050-4661855dcf69",
   "metadata": {
    "editable": true,
    "slideshow": {
     "slide_type": ""
    },
    "tags": []
   },
   "source": [
    "#### Import Data form csv"
   ]
  },
  {
   "cell_type": "code",
   "execution_count": 180,
   "id": "9a35a97a-b002-4fbb-bf33-62b8a7cb8b14",
   "metadata": {},
   "outputs": [],
   "source": [
    "# Define the paths to the files to import\n",
    "text='/home/antonio/code/pollypineapple1/FED-Predictor/raw_data/Fed_Scrape-2015-2023.csv'\n",
    "rates='/home/antonio/code/pollypineapple1/FED-Predictor/raw_data/US Fed Rate.csv'"
   ]
  },
  {
   "cell_type": "code",
   "execution_count": 181,
   "id": "85569552-8e17-4780-975b-2eb507bd46dc",
   "metadata": {},
   "outputs": [],
   "source": [
    "# Import files\n",
    "text_df=pd.read_csv(text)\n",
    "rates_df=pd.read_csv(rates)"
   ]
  },
  {
   "cell_type": "markdown",
   "id": "2874cbf3-b413-45fe-bb90-87f69b4ab216",
   "metadata": {},
   "source": [
    "#### Check the data"
   ]
  },
  {
   "cell_type": "code",
   "execution_count": 182,
   "id": "20618670-2c0b-4245-a9f2-683a0c444001",
   "metadata": {},
   "outputs": [
    {
     "data": {
      "text/html": [
       "<div>\n",
       "<style scoped>\n",
       "    .dataframe tbody tr th:only-of-type {\n",
       "        vertical-align: middle;\n",
       "    }\n",
       "\n",
       "    .dataframe tbody tr th {\n",
       "        vertical-align: top;\n",
       "    }\n",
       "\n",
       "    .dataframe thead th {\n",
       "        text-align: right;\n",
       "    }\n",
       "</style>\n",
       "<table border=\"1\" class=\"dataframe\">\n",
       "  <thead>\n",
       "    <tr style=\"text-align: right;\">\n",
       "      <th></th>\n",
       "      <th>Unnamed: 0</th>\n",
       "      <th>Date</th>\n",
       "      <th>Type</th>\n",
       "      <th>Text</th>\n",
       "    </tr>\n",
       "  </thead>\n",
       "  <tbody>\n",
       "    <tr>\n",
       "      <th>0</th>\n",
       "      <td>0</td>\n",
       "      <td>20230412</td>\n",
       "      <td>0</td>\n",
       "      <td>The Federal Reserve on Wednesday released the ...</td>\n",
       "    </tr>\n",
       "    <tr>\n",
       "      <th>1</th>\n",
       "      <td>1</td>\n",
       "      <td>20230412</td>\n",
       "      <td>0</td>\n",
       "      <td>The minutes for each regularly scheduled meeti...</td>\n",
       "    </tr>\n",
       "    <tr>\n",
       "      <th>2</th>\n",
       "      <td>2</td>\n",
       "      <td>20230412</td>\n",
       "      <td>0</td>\n",
       "      <td>The minutes can be viewed on the Board's website.</td>\n",
       "    </tr>\n",
       "    <tr>\n",
       "      <th>3</th>\n",
       "      <td>3</td>\n",
       "      <td>20230412</td>\n",
       "      <td>0</td>\n",
       "      <td>For media inquiries, e-mail [email protected] ...</td>\n",
       "    </tr>\n",
       "    <tr>\n",
       "      <th>4</th>\n",
       "      <td>4</td>\n",
       "      <td>20230412</td>\n",
       "      <td>0</td>\n",
       "      <td>Minutes of the Federal Open Market Committee\\r...</td>\n",
       "    </tr>\n",
       "  </tbody>\n",
       "</table>\n",
       "</div>"
      ],
      "text/plain": [
       "   Unnamed: 0      Date  Type  \\\n",
       "0           0  20230412     0   \n",
       "1           1  20230412     0   \n",
       "2           2  20230412     0   \n",
       "3           3  20230412     0   \n",
       "4           4  20230412     0   \n",
       "\n",
       "                                                Text  \n",
       "0  The Federal Reserve on Wednesday released the ...  \n",
       "1  The minutes for each regularly scheduled meeti...  \n",
       "2  The minutes can be viewed on the Board's website.  \n",
       "3  For media inquiries, e-mail [email protected] ...  \n",
       "4  Minutes of the Federal Open Market Committee\\r...  "
      ]
     },
     "execution_count": 182,
     "metadata": {},
     "output_type": "execute_result"
    }
   ],
   "source": [
    "text_df.head()"
   ]
  },
  {
   "cell_type": "code",
   "execution_count": 183,
   "id": "27712944-04bf-49bf-a7d6-4aa08b3941f7",
   "metadata": {},
   "outputs": [
    {
     "data": {
      "text/html": [
       "<div>\n",
       "<style scoped>\n",
       "    .dataframe tbody tr th:only-of-type {\n",
       "        vertical-align: middle;\n",
       "    }\n",
       "\n",
       "    .dataframe tbody tr th {\n",
       "        vertical-align: top;\n",
       "    }\n",
       "\n",
       "    .dataframe thead th {\n",
       "        text-align: right;\n",
       "    }\n",
       "</style>\n",
       "<table border=\"1\" class=\"dataframe\">\n",
       "  <thead>\n",
       "    <tr style=\"text-align: right;\">\n",
       "      <th></th>\n",
       "      <th>Release Date</th>\n",
       "      <th>Time</th>\n",
       "      <th>Actual</th>\n",
       "      <th>Forecast</th>\n",
       "      <th>Previous</th>\n",
       "    </tr>\n",
       "  </thead>\n",
       "  <tbody>\n",
       "    <tr>\n",
       "      <th>0</th>\n",
       "      <td>Nov 01, 2023</td>\n",
       "      <td>13:00</td>\n",
       "      <td>5.50%</td>\n",
       "      <td>5.50%</td>\n",
       "      <td>5.50%</td>\n",
       "    </tr>\n",
       "    <tr>\n",
       "      <th>1</th>\n",
       "      <td>Sep 20, 2023</td>\n",
       "      <td>13:00</td>\n",
       "      <td>5.50%</td>\n",
       "      <td>5.50%</td>\n",
       "      <td>5.50%</td>\n",
       "    </tr>\n",
       "    <tr>\n",
       "      <th>2</th>\n",
       "      <td>Jul 26, 2023</td>\n",
       "      <td>13:00</td>\n",
       "      <td>5.50%</td>\n",
       "      <td>5.50%</td>\n",
       "      <td>5.25%</td>\n",
       "    </tr>\n",
       "    <tr>\n",
       "      <th>3</th>\n",
       "      <td>Jun 14, 2023</td>\n",
       "      <td>13:00</td>\n",
       "      <td>5.25%</td>\n",
       "      <td>5.25%</td>\n",
       "      <td>5.25%</td>\n",
       "    </tr>\n",
       "    <tr>\n",
       "      <th>4</th>\n",
       "      <td>May 03, 2023</td>\n",
       "      <td>13:00</td>\n",
       "      <td>5.25%</td>\n",
       "      <td>5.25%</td>\n",
       "      <td>5.00%</td>\n",
       "    </tr>\n",
       "  </tbody>\n",
       "</table>\n",
       "</div>"
      ],
      "text/plain": [
       "   Release Date   Time Actual Forecast Previous\n",
       "0  Nov 01, 2023  13:00  5.50%    5.50%    5.50%\n",
       "1  Sep 20, 2023  13:00  5.50%    5.50%    5.50%\n",
       "2  Jul 26, 2023  13:00  5.50%    5.50%    5.25%\n",
       "3  Jun 14, 2023  13:00  5.25%    5.25%    5.25%\n",
       "4  May 03, 2023  13:00  5.25%    5.25%    5.00%"
      ]
     },
     "execution_count": 183,
     "metadata": {},
     "output_type": "execute_result"
    }
   ],
   "source": [
    "rates_df.head()"
   ]
  },
  {
   "cell_type": "code",
   "execution_count": 184,
   "id": "71154992-70f7-449c-8653-ec6c0dbf0e3a",
   "metadata": {},
   "outputs": [
    {
     "name": "stdout",
     "output_type": "stream",
     "text": [
      "<class 'pandas.core.frame.DataFrame'>\n",
      "RangeIndex: 9974 entries, 0 to 9973\n",
      "Data columns (total 4 columns):\n",
      " #   Column      Non-Null Count  Dtype \n",
      "---  ------      --------------  ----- \n",
      " 0   Unnamed: 0  9974 non-null   int64 \n",
      " 1   Date        9974 non-null   int64 \n",
      " 2   Type        9974 non-null   int64 \n",
      " 3   Text        9974 non-null   object\n",
      "dtypes: int64(3), object(1)\n",
      "memory usage: 311.8+ KB\n"
     ]
    }
   ],
   "source": [
    "text_df.info()"
   ]
  },
  {
   "cell_type": "code",
   "execution_count": 185,
   "id": "4eb64682-f82f-453d-9a9b-4abfc8d3b471",
   "metadata": {},
   "outputs": [
    {
     "name": "stdout",
     "output_type": "stream",
     "text": [
      "<class 'pandas.core.frame.DataFrame'>\n",
      "RangeIndex: 201 entries, 0 to 200\n",
      "Data columns (total 5 columns):\n",
      " #   Column        Non-Null Count  Dtype \n",
      "---  ------        --------------  ----- \n",
      " 0   Release Date  201 non-null    object\n",
      " 1   Time          201 non-null    object\n",
      " 2   Actual        201 non-null    object\n",
      " 3   Forecast      201 non-null    object\n",
      " 4   Previous      201 non-null    object\n",
      "dtypes: object(5)\n",
      "memory usage: 8.0+ KB\n"
     ]
    }
   ],
   "source": [
    "rates_df.info()"
   ]
  },
  {
   "cell_type": "markdown",
   "id": "49deb4a1-7419-45c9-aa50-619cfa81796f",
   "metadata": {},
   "source": [
    "#### Remove useless columns and format relevant ones"
   ]
  },
  {
   "cell_type": "code",
   "execution_count": 186,
   "id": "e453eff8-208f-481d-bca0-dc7d6882156e",
   "metadata": {},
   "outputs": [],
   "source": [
    "columns_to_keep = ['Release Date', 'Actual']\n",
    "rates_df=rates_df[columns_to_keep]\n",
    "rates_df=rates_df.rename(columns = {'Release Date' : 'date'})"
   ]
  },
  {
   "cell_type": "code",
   "execution_count": 187,
   "id": "0321c597-6e29-4ab8-92d8-ead4300b86c7",
   "metadata": {},
   "outputs": [],
   "source": [
    "rates_df['date'] = rates_df['date'].astype(str)"
   ]
  },
  {
   "cell_type": "code",
   "execution_count": 188,
   "id": "0bc109f3-4321-47e0-8ea6-0a0bf397a765",
   "metadata": {},
   "outputs": [
    {
     "data": {
      "text/html": [
       "<div>\n",
       "<style scoped>\n",
       "    .dataframe tbody tr th:only-of-type {\n",
       "        vertical-align: middle;\n",
       "    }\n",
       "\n",
       "    .dataframe tbody tr th {\n",
       "        vertical-align: top;\n",
       "    }\n",
       "\n",
       "    .dataframe thead th {\n",
       "        text-align: right;\n",
       "    }\n",
       "</style>\n",
       "<table border=\"1\" class=\"dataframe\">\n",
       "  <thead>\n",
       "    <tr style=\"text-align: right;\">\n",
       "      <th></th>\n",
       "      <th>date</th>\n",
       "      <th>Actual</th>\n",
       "    </tr>\n",
       "  </thead>\n",
       "  <tbody>\n",
       "    <tr>\n",
       "      <th>0</th>\n",
       "      <td>Nov 01, 2023</td>\n",
       "      <td>5.50%</td>\n",
       "    </tr>\n",
       "    <tr>\n",
       "      <th>1</th>\n",
       "      <td>Sep 20, 2023</td>\n",
       "      <td>5.50%</td>\n",
       "    </tr>\n",
       "    <tr>\n",
       "      <th>2</th>\n",
       "      <td>Jul 26, 2023</td>\n",
       "      <td>5.50%</td>\n",
       "    </tr>\n",
       "    <tr>\n",
       "      <th>3</th>\n",
       "      <td>Jun 14, 2023</td>\n",
       "      <td>5.25%</td>\n",
       "    </tr>\n",
       "    <tr>\n",
       "      <th>4</th>\n",
       "      <td>May 03, 2023</td>\n",
       "      <td>5.25%</td>\n",
       "    </tr>\n",
       "  </tbody>\n",
       "</table>\n",
       "</div>"
      ],
      "text/plain": [
       "           date Actual\n",
       "0  Nov 01, 2023  5.50%\n",
       "1  Sep 20, 2023  5.50%\n",
       "2  Jul 26, 2023  5.50%\n",
       "3  Jun 14, 2023  5.25%\n",
       "4  May 03, 2023  5.25%"
      ]
     },
     "execution_count": 188,
     "metadata": {},
     "output_type": "execute_result"
    }
   ],
   "source": [
    "rates_df.head()"
   ]
  },
  {
   "cell_type": "markdown",
   "id": "c1dd9378-ed7d-44c2-b253-d49f413a8349",
   "metadata": {},
   "source": [
    "Conversion to datetime"
   ]
  },
  {
   "cell_type": "code",
   "execution_count": 189,
   "id": "8b227b34-9cd2-4e23-b3ef-2cb00239bbd7",
   "metadata": {},
   "outputs": [],
   "source": [
    "rates_df['date'] = pd.to_datetime(rates_df['date'], format = '%b %d, %Y')"
   ]
  },
  {
   "cell_type": "code",
   "execution_count": 190,
   "id": "34995b17-7201-4487-80dc-83d3fc7b004d",
   "metadata": {},
   "outputs": [
    {
     "name": "stdout",
     "output_type": "stream",
     "text": [
      "<class 'pandas.core.frame.DataFrame'>\n",
      "RangeIndex: 201 entries, 0 to 200\n",
      "Data columns (total 2 columns):\n",
      " #   Column  Non-Null Count  Dtype         \n",
      "---  ------  --------------  -----         \n",
      " 0   date    201 non-null    datetime64[ns]\n",
      " 1   Actual  201 non-null    object        \n",
      "dtypes: datetime64[ns](1), object(1)\n",
      "memory usage: 3.3+ KB\n"
     ]
    }
   ],
   "source": [
    "rates_df.info()"
   ]
  },
  {
   "cell_type": "code",
   "execution_count": 191,
   "id": "8e2f8d0d-d520-43a6-a328-1d63f0812096",
   "metadata": {},
   "outputs": [],
   "source": [
    "rates_df=rates_df.rename(columns={'Actual': 'rate'})"
   ]
  },
  {
   "cell_type": "code",
   "execution_count": 192,
   "id": "69eb1bf3-75d5-4f36-9b91-882300300517",
   "metadata": {},
   "outputs": [
    {
     "name": "stdout",
     "output_type": "stream",
     "text": [
      "<class 'pandas.core.frame.DataFrame'>\n",
      "RangeIndex: 201 entries, 0 to 200\n",
      "Data columns (total 2 columns):\n",
      " #   Column  Non-Null Count  Dtype         \n",
      "---  ------  --------------  -----         \n",
      " 0   date    201 non-null    datetime64[ns]\n",
      " 1   rate    201 non-null    object        \n",
      "dtypes: datetime64[ns](1), object(1)\n",
      "memory usage: 3.3+ KB\n"
     ]
    }
   ],
   "source": [
    "rates_df.info()"
   ]
  },
  {
   "cell_type": "code",
   "execution_count": 193,
   "id": "8cc31017-b82e-43a0-8f3c-c1dd002b7086",
   "metadata": {},
   "outputs": [
    {
     "data": {
      "text/html": [
       "<div>\n",
       "<style scoped>\n",
       "    .dataframe tbody tr th:only-of-type {\n",
       "        vertical-align: middle;\n",
       "    }\n",
       "\n",
       "    .dataframe tbody tr th {\n",
       "        vertical-align: top;\n",
       "    }\n",
       "\n",
       "    .dataframe thead th {\n",
       "        text-align: right;\n",
       "    }\n",
       "</style>\n",
       "<table border=\"1\" class=\"dataframe\">\n",
       "  <thead>\n",
       "    <tr style=\"text-align: right;\">\n",
       "      <th></th>\n",
       "      <th>date</th>\n",
       "      <th>rate</th>\n",
       "    </tr>\n",
       "  </thead>\n",
       "  <tbody>\n",
       "    <tr>\n",
       "      <th>0</th>\n",
       "      <td>2023-11-01</td>\n",
       "      <td>5.50%</td>\n",
       "    </tr>\n",
       "    <tr>\n",
       "      <th>1</th>\n",
       "      <td>2023-09-20</td>\n",
       "      <td>5.50%</td>\n",
       "    </tr>\n",
       "    <tr>\n",
       "      <th>2</th>\n",
       "      <td>2023-07-26</td>\n",
       "      <td>5.50%</td>\n",
       "    </tr>\n",
       "    <tr>\n",
       "      <th>3</th>\n",
       "      <td>2023-06-14</td>\n",
       "      <td>5.25%</td>\n",
       "    </tr>\n",
       "    <tr>\n",
       "      <th>4</th>\n",
       "      <td>2023-05-03</td>\n",
       "      <td>5.25%</td>\n",
       "    </tr>\n",
       "  </tbody>\n",
       "</table>\n",
       "</div>"
      ],
      "text/plain": [
       "        date   rate\n",
       "0 2023-11-01  5.50%\n",
       "1 2023-09-20  5.50%\n",
       "2 2023-07-26  5.50%\n",
       "3 2023-06-14  5.25%\n",
       "4 2023-05-03  5.25%"
      ]
     },
     "execution_count": 193,
     "metadata": {},
     "output_type": "execute_result"
    }
   ],
   "source": [
    "rates_df.head()"
   ]
  },
  {
   "cell_type": "code",
   "execution_count": 194,
   "id": "d6225f3b-8a18-494b-8b6e-3b8275883528",
   "metadata": {},
   "outputs": [],
   "source": [
    "text_df['Date']=pd.to_datetime(text_df['Date'], format='%Y%m%d')\n",
    "text_df=text_df.rename(columns={'Date': 'date'})\n",
    "text_df=text_df.rename(columns={'Text': 'text'})"
   ]
  },
  {
   "cell_type": "code",
   "execution_count": 195,
   "id": "15cf8675-52fa-4aa4-9ee9-8677ca89f931",
   "metadata": {},
   "outputs": [],
   "source": [
    "text_df.drop(['Unnamed: 0'], axis=1, inplace=True)"
   ]
  },
  {
   "cell_type": "code",
   "execution_count": 196,
   "id": "df01cea3-bec3-46c5-9e74-ea00d1bbfa88",
   "metadata": {},
   "outputs": [
    {
     "name": "stdout",
     "output_type": "stream",
     "text": [
      "<class 'pandas.core.frame.DataFrame'>\n",
      "RangeIndex: 9974 entries, 0 to 9973\n",
      "Data columns (total 3 columns):\n",
      " #   Column  Non-Null Count  Dtype         \n",
      "---  ------  --------------  -----         \n",
      " 0   date    9974 non-null   datetime64[ns]\n",
      " 1   Type    9974 non-null   int64         \n",
      " 2   text    9974 non-null   object        \n",
      "dtypes: datetime64[ns](1), int64(1), object(1)\n",
      "memory usage: 233.9+ KB\n"
     ]
    }
   ],
   "source": [
    "text_df.info()"
   ]
  },
  {
   "cell_type": "markdown",
   "id": "2f68821d-bf9a-45bf-83ef-fdb788da9ed9",
   "metadata": {},
   "source": [
    "#### Merge the two dataframes based on Date"
   ]
  },
  {
   "cell_type": "markdown",
   "id": "34803ae9-d4f6-4d4d-ab72-195dd8798d68",
   "metadata": {},
   "source": [
    "Sort by dates"
   ]
  },
  {
   "cell_type": "code",
   "execution_count": 197,
   "id": "5c7c3200-88f5-4415-b930-177fb27de3ce",
   "metadata": {},
   "outputs": [],
   "source": [
    "sorted_rates=rates_df.sort_values(by='date')\n",
    "sorted_text=text_df.sort_values(by='date')"
   ]
  },
  {
   "cell_type": "code",
   "execution_count": 198,
   "id": "f70c5cec-728c-4287-b866-d961965a7610",
   "metadata": {},
   "outputs": [
    {
     "data": {
      "text/html": [
       "<div>\n",
       "<style scoped>\n",
       "    .dataframe tbody tr th:only-of-type {\n",
       "        vertical-align: middle;\n",
       "    }\n",
       "\n",
       "    .dataframe tbody tr th {\n",
       "        vertical-align: top;\n",
       "    }\n",
       "\n",
       "    .dataframe thead th {\n",
       "        text-align: right;\n",
       "    }\n",
       "</style>\n",
       "<table border=\"1\" class=\"dataframe\">\n",
       "  <thead>\n",
       "    <tr style=\"text-align: right;\">\n",
       "      <th></th>\n",
       "      <th>date</th>\n",
       "      <th>rate</th>\n",
       "    </tr>\n",
       "  </thead>\n",
       "  <tbody>\n",
       "    <tr>\n",
       "      <th>200</th>\n",
       "      <td>1990-07-13</td>\n",
       "      <td>8.00%</td>\n",
       "    </tr>\n",
       "    <tr>\n",
       "      <th>199</th>\n",
       "      <td>1990-10-29</td>\n",
       "      <td>7.75%</td>\n",
       "    </tr>\n",
       "    <tr>\n",
       "      <th>198</th>\n",
       "      <td>1990-11-14</td>\n",
       "      <td>7.50%</td>\n",
       "    </tr>\n",
       "    <tr>\n",
       "      <th>197</th>\n",
       "      <td>1990-12-07</td>\n",
       "      <td>7.25%</td>\n",
       "    </tr>\n",
       "    <tr>\n",
       "      <th>196</th>\n",
       "      <td>1990-12-19</td>\n",
       "      <td>7.00%</td>\n",
       "    </tr>\n",
       "  </tbody>\n",
       "</table>\n",
       "</div>"
      ],
      "text/plain": [
       "          date   rate\n",
       "200 1990-07-13  8.00%\n",
       "199 1990-10-29  7.75%\n",
       "198 1990-11-14  7.50%\n",
       "197 1990-12-07  7.25%\n",
       "196 1990-12-19  7.00%"
      ]
     },
     "execution_count": 198,
     "metadata": {},
     "output_type": "execute_result"
    }
   ],
   "source": [
    "sorted_rates.head()"
   ]
  },
  {
   "cell_type": "code",
   "execution_count": 199,
   "id": "31725cb4-a0ed-4685-b43c-0c4b7c98b1f6",
   "metadata": {},
   "outputs": [
    {
     "data": {
      "text/html": [
       "<div>\n",
       "<style scoped>\n",
       "    .dataframe tbody tr th:only-of-type {\n",
       "        vertical-align: middle;\n",
       "    }\n",
       "\n",
       "    .dataframe tbody tr th {\n",
       "        vertical-align: top;\n",
       "    }\n",
       "\n",
       "    .dataframe thead th {\n",
       "        text-align: right;\n",
       "    }\n",
       "</style>\n",
       "<table border=\"1\" class=\"dataframe\">\n",
       "  <thead>\n",
       "    <tr style=\"text-align: right;\">\n",
       "      <th></th>\n",
       "      <th>date</th>\n",
       "      <th>Type</th>\n",
       "      <th>text</th>\n",
       "    </tr>\n",
       "  </thead>\n",
       "  <tbody>\n",
       "    <tr>\n",
       "      <th>9973</th>\n",
       "      <td>2015-01-07</td>\n",
       "      <td>0</td>\n",
       "      <td>\\r\\n       For media inquiries, call 202-452-2...</td>\n",
       "    </tr>\n",
       "    <tr>\n",
       "      <th>9969</th>\n",
       "      <td>2015-01-07</td>\n",
       "      <td>0</td>\n",
       "      <td>\\r\\n       The Federal Reserve Board and the F...</td>\n",
       "    </tr>\n",
       "    <tr>\n",
       "      <th>9972</th>\n",
       "      <td>2015-01-07</td>\n",
       "      <td>0</td>\n",
       "      <td>\\nMinutes of the Federal Open Market Committee...</td>\n",
       "    </tr>\n",
       "    <tr>\n",
       "      <th>9971</th>\n",
       "      <td>2015-01-07</td>\n",
       "      <td>0</td>\n",
       "      <td>\\r\\n       FOMC minutes can be viewed on the B...</td>\n",
       "    </tr>\n",
       "    <tr>\n",
       "      <th>9970</th>\n",
       "      <td>2015-01-07</td>\n",
       "      <td>0</td>\n",
       "      <td>\\r\\n       The minutes for each regularly sche...</td>\n",
       "    </tr>\n",
       "  </tbody>\n",
       "</table>\n",
       "</div>"
      ],
      "text/plain": [
       "           date  Type                                               text\n",
       "9973 2015-01-07     0  \\r\\n       For media inquiries, call 202-452-2...\n",
       "9969 2015-01-07     0  \\r\\n       The Federal Reserve Board and the F...\n",
       "9972 2015-01-07     0  \\nMinutes of the Federal Open Market Committee...\n",
       "9971 2015-01-07     0  \\r\\n       FOMC minutes can be viewed on the B...\n",
       "9970 2015-01-07     0  \\r\\n       The minutes for each regularly sche..."
      ]
     },
     "execution_count": 199,
     "metadata": {},
     "output_type": "execute_result"
    }
   ],
   "source": [
    "sorted_text.head()"
   ]
  },
  {
   "cell_type": "markdown",
   "id": "93b5fc45-8068-430c-bb5b-fe8202c5eb24",
   "metadata": {},
   "source": [
    "Merge based on date. >> Direction backward << to ensure rates decisions are paired with previous text"
   ]
  },
  {
   "cell_type": "code",
   "execution_count": 200,
   "id": "5b456351-207b-4e64-8875-c2ebc4d59056",
   "metadata": {},
   "outputs": [
    {
     "data": {
      "text/html": [
       "<div>\n",
       "<style scoped>\n",
       "    .dataframe tbody tr th:only-of-type {\n",
       "        vertical-align: middle;\n",
       "    }\n",
       "\n",
       "    .dataframe tbody tr th {\n",
       "        vertical-align: top;\n",
       "    }\n",
       "\n",
       "    .dataframe thead th {\n",
       "        text-align: right;\n",
       "    }\n",
       "</style>\n",
       "<table border=\"1\" class=\"dataframe\">\n",
       "  <thead>\n",
       "    <tr style=\"text-align: right;\">\n",
       "      <th></th>\n",
       "      <th>date</th>\n",
       "      <th>Type</th>\n",
       "      <th>text</th>\n",
       "      <th>rate</th>\n",
       "    </tr>\n",
       "  </thead>\n",
       "  <tbody>\n",
       "    <tr>\n",
       "      <th>0</th>\n",
       "      <td>2015-01-07</td>\n",
       "      <td>0</td>\n",
       "      <td>\\r\\n       For media inquiries, call 202-452-2...</td>\n",
       "      <td>0.25%</td>\n",
       "    </tr>\n",
       "    <tr>\n",
       "      <th>1</th>\n",
       "      <td>2015-01-07</td>\n",
       "      <td>0</td>\n",
       "      <td>\\r\\n       The Federal Reserve Board and the F...</td>\n",
       "      <td>0.25%</td>\n",
       "    </tr>\n",
       "    <tr>\n",
       "      <th>2</th>\n",
       "      <td>2015-01-07</td>\n",
       "      <td>0</td>\n",
       "      <td>\\nMinutes of the Federal Open Market Committee...</td>\n",
       "      <td>0.25%</td>\n",
       "    </tr>\n",
       "    <tr>\n",
       "      <th>3</th>\n",
       "      <td>2015-01-07</td>\n",
       "      <td>0</td>\n",
       "      <td>\\r\\n       FOMC minutes can be viewed on the B...</td>\n",
       "      <td>0.25%</td>\n",
       "    </tr>\n",
       "    <tr>\n",
       "      <th>4</th>\n",
       "      <td>2015-01-07</td>\n",
       "      <td>0</td>\n",
       "      <td>\\r\\n       The minutes for each regularly sche...</td>\n",
       "      <td>0.25%</td>\n",
       "    </tr>\n",
       "  </tbody>\n",
       "</table>\n",
       "</div>"
      ],
      "text/plain": [
       "        date  Type                                               text   rate\n",
       "0 2015-01-07     0  \\r\\n       For media inquiries, call 202-452-2...  0.25%\n",
       "1 2015-01-07     0  \\r\\n       The Federal Reserve Board and the F...  0.25%\n",
       "2 2015-01-07     0  \\nMinutes of the Federal Open Market Committee...  0.25%\n",
       "3 2015-01-07     0  \\r\\n       FOMC minutes can be viewed on the B...  0.25%\n",
       "4 2015-01-07     0  \\r\\n       The minutes for each regularly sche...  0.25%"
      ]
     },
     "execution_count": 200,
     "metadata": {},
     "output_type": "execute_result"
    }
   ],
   "source": [
    "df_merged = pd.merge_asof(sorted_text, sorted_rates, on='date')\n",
    "df_merged.head()"
   ]
  },
  {
   "cell_type": "code",
   "execution_count": 201,
   "id": "5a397a5e-039c-49dc-ba42-9905eeb2611b",
   "metadata": {},
   "outputs": [
    {
     "name": "stdout",
     "output_type": "stream",
     "text": [
      "<class 'pandas.core.frame.DataFrame'>\n",
      "RangeIndex: 9974 entries, 0 to 9973\n",
      "Data columns (total 4 columns):\n",
      " #   Column  Non-Null Count  Dtype         \n",
      "---  ------  --------------  -----         \n",
      " 0   date    9974 non-null   datetime64[ns]\n",
      " 1   Type    9974 non-null   int64         \n",
      " 2   text    9974 non-null   object        \n",
      " 3   rate    9974 non-null   object        \n",
      "dtypes: datetime64[ns](1), int64(1), object(2)\n",
      "memory usage: 311.8+ KB\n"
     ]
    }
   ],
   "source": [
    "df_merged.info()"
   ]
  },
  {
   "cell_type": "markdown",
   "id": "1704df33-eb27-4208-9a38-aef297850683",
   "metadata": {},
   "source": [
    "## Data Preprocessing"
   ]
  },
  {
   "cell_type": "markdown",
   "id": "fb70ea2d-59f9-4a0f-8c91-b23ca3204e58",
   "metadata": {},
   "source": [
    "#### Import necessary packages"
   ]
  },
  {
   "cell_type": "code",
   "execution_count": 202,
   "id": "e51d8d1c-0d8a-4fc7-a3b9-74973c7efdbb",
   "metadata": {},
   "outputs": [
    {
     "name": "stderr",
     "output_type": "stream",
     "text": [
      "[nltk_data] Downloading package punkt_tab to\n",
      "[nltk_data]     /home/antonio/nltk_data...\n",
      "[nltk_data]   Package punkt_tab is already up-to-date!\n"
     ]
    }
   ],
   "source": [
    "import string\n",
    "import re\n",
    "\n",
    "import nltk\n",
    "#punkt_tab is needed over punkt because of working with tabular data (dataframe)\n",
    "nltk.download('punkt_tab')\n",
    "from nltk.tokenize import word_tokenize\n",
    "\n",
    "from nltk.corpus import stopwords\n",
    "from nltk.stem import WordNetLemmatizer"
   ]
  },
  {
   "cell_type": "markdown",
   "id": "1ed4202a-b9be-46c2-b489-8a588234234e",
   "metadata": {},
   "source": [
    "### Text Processing"
   ]
  },
  {
   "cell_type": "markdown",
   "id": "7801c922-3b25-4faf-8f42-914a3f974863",
   "metadata": {},
   "source": [
    "#### Cleaning"
   ]
  },
  {
   "cell_type": "code",
   "execution_count": 203,
   "id": "c275386d-d932-4a6b-87f5-91d23abf80f1",
   "metadata": {},
   "outputs": [],
   "source": [
    "# Remove all the whitespaces at the beginning and the end of a string\n",
    "# strip()\n",
    "df_cleaned = df_merged.copy()\n",
    "df_cleaned['text']=df_merged['text'].str.strip()"
   ]
  },
  {
   "cell_type": "code",
   "execution_count": 204,
   "id": "55f0b9ff-81ef-4df6-93f5-5a4535db9d06",
   "metadata": {},
   "outputs": [],
   "source": [
    "# Text modeling algorithms are case-sensitive\n",
    "# lower()\n",
    "df_cleaned['text']=df_cleaned['text'].str.lower()"
   ]
  },
  {
   "cell_type": "code",
   "execution_count": 205,
   "id": "807756e4-d682-4d4f-a082-84f68197d15c",
   "metadata": {},
   "outputs": [],
   "source": [
    "# Remove numbers and symbols to ensure better text clustering and keyphrases collection\n",
    "# replace(r'[^a-zA-Z\\s]')\n",
    "# a-zA-Z: Matches all lowercase (a-z) and uppercase (A-Z) alphabetic characters\n",
    "# \\s: Matches any whitespace character (space, tab, newline)\n",
    "# [^...]: Matches anything NOT included in the brackets. This removes everything that isn't a letter or whitespace\n",
    "df_cleaned['text'] = df_cleaned['text'].str.replace(r'[^a-zA-Z\\s]', \"\", regex=True)"
   ]
  },
  {
   "cell_type": "code",
   "execution_count": 206,
   "id": "11a3f05a-8c90-41fd-a6a2-e2b4fb381d24",
   "metadata": {},
   "outputs": [
    {
     "data": {
      "text/plain": [
       "0                             for media inquiries call \n",
       "1     the federal reserve board and the federal open...\n",
       "2     minutes of the federal open market committee\\r...\n",
       "3     fomc minutes can be viewed on the boards websi...\n",
       "4     the minutes for each regularly scheduled meeti...\n",
       "5                             for media inquiries call \n",
       "6                              the minutes are attached\n",
       "7     the federal reserve board on tuesday released ...\n",
       "8     iv subject to reasonable limitations on the am...\n",
       "9                               b the selected bank may\n",
       "10    i reject bids that as determined in its sole d...\n",
       "11    ii accept treasury securities or cash as colla...\n",
       "12    iii accept agency securities as collateral onl...\n",
       "13    a the selected bank for the soma to undertake ...\n",
       "14    iii subject to reasonable limitations on the t...\n",
       "15    b any federal reserve bank that maintains cust...\n",
       "16    i undertake repo transactions in eligible secu...\n",
       "17    ii undertake intraday reverse repo transaction...\n",
       "18     in order to ensure the effective conduct of o...\n",
       "19    ii at a minimum lending fee consistent with th...\n",
       "Name: text, dtype: object"
      ]
     },
     "execution_count": 206,
     "metadata": {},
     "output_type": "execute_result"
    }
   ],
   "source": [
    "df_cleaned['text'].head(20)"
   ]
  },
  {
   "cell_type": "markdown",
   "id": "6831b3fd-afde-4b1d-ad3a-ddb34b28d099",
   "metadata": {},
   "source": [
    "#### Tokenizing"
   ]
  },
  {
   "cell_type": "code",
   "execution_count": 207,
   "id": "27135965-b5b3-4b8c-bf24-4de52b002dbe",
   "metadata": {},
   "outputs": [],
   "source": [
    "df_tokenized=df_cleaned.copy()"
   ]
  },
  {
   "cell_type": "code",
   "execution_count": 208,
   "id": "3f1d4eb7-7806-41b3-9bc6-18e5685f7c9d",
   "metadata": {},
   "outputs": [],
   "source": [
    "df_tokenized['text']=df_tokenized['text'].apply(word_tokenize)"
   ]
  },
  {
   "cell_type": "code",
   "execution_count": 209,
   "id": "a79839ec-c623-4d7d-a622-564ab9043679",
   "metadata": {},
   "outputs": [
    {
     "data": {
      "text/plain": [
       "0                        [for, media, inquiries, call]\n",
       "1    [the, federal, reserve, board, and, the, feder...\n",
       "2    [minutes, of, the, federal, open, market, comm...\n",
       "3    [fomc, minutes, can, be, viewed, on, the, boar...\n",
       "4    [the, minutes, for, each, regularly, scheduled...\n",
       "Name: text, dtype: object"
      ]
     },
     "execution_count": 209,
     "metadata": {},
     "output_type": "execute_result"
    }
   ],
   "source": [
    "df_tokenized['text'].head()"
   ]
  },
  {
   "cell_type": "markdown",
   "id": "11d9f992-5006-442a-b2f5-b6146ab926b9",
   "metadata": {},
   "source": [
    "#### Stopwords"
   ]
  },
  {
   "cell_type": "markdown",
   "id": "4b4390d3-c363-427d-acea-c4b9caaa7320",
   "metadata": {},
   "source": [
    "### Do i remove stopwords in this case?"
   ]
  },
  {
   "cell_type": "code",
   "execution_count": 210,
   "id": "6bb8ddd3-3ba6-45d1-b969-4049dfb613a6",
   "metadata": {},
   "outputs": [],
   "source": [
    "# removes defined stopwords\n",
    "#   uses nltk.corpus to define stopwords\n",
    "#   iterates over each word (alredy tokenized) to filter out stopwords\n",
    "\n",
    "def remove_stopwords(tokens):\n",
    "    stop_words = set(stopwords.words('english'))\n",
    "    return [word for word in tokens if word.lower() not in stop_words]"
   ]
  },
  {
   "cell_type": "code",
   "execution_count": 211,
   "id": "eecc7368-3adf-4e7b-bebd-6e1c2f758e40",
   "metadata": {},
   "outputs": [],
   "source": [
    "df_stopwords = df_tokenized.copy()"
   ]
  },
  {
   "cell_type": "code",
   "execution_count": 212,
   "id": "4067f5f5-7428-4df8-ae17-fbe92c5c2451",
   "metadata": {},
   "outputs": [],
   "source": [
    "df_stopwords['text'] = df_stopwords['text'].apply(remove_stopwords)"
   ]
  },
  {
   "cell_type": "code",
   "execution_count": 213,
   "id": "3535a79e-6264-4aa0-9f56-4e21ad0a5d29",
   "metadata": {},
   "outputs": [
    {
     "name": "stdout",
     "output_type": "stream",
     "text": [
      "Tokenized Lenght:  647423\n",
      "Stopwords Lenght:  408075\n"
     ]
    }
   ],
   "source": [
    "# Check for lenght differences\n",
    "tokenized_lenght = df_tokenized['text'].apply(len)\n",
    "stopwords_lenght = df_stopwords['text'].apply(len)\n",
    "\n",
    "print('Tokenized Lenght: ', tokenized_lenght.sum())\n",
    "print('Stopwords Lenght: ', stopwords_lenght.sum())"
   ]
  },
  {
   "cell_type": "markdown",
   "id": "1672333c-e2a4-4e4c-9f7c-0b0bcc9dff2e",
   "metadata": {},
   "source": [
    "#### Lemmatizing"
   ]
  },
  {
   "cell_type": "code",
   "execution_count": 214,
   "id": "f6a26171-cd4d-4933-b9a1-1422e250fed3",
   "metadata": {},
   "outputs": [],
   "source": [
    "# lemmatizes tokenized words in a list\n",
    "#   uses nltk.corpus to define stopwords\n",
    "#   iterates over each word (alredy tokenized) to filter out stopwords\n",
    "\n",
    "def lemmatize_tokens(tokens):\n",
    "    lemmatizer = WordNetLemmatizer()\n",
    "    return [WordNetLemmatizer().lemmatize(word) for word in tokens]"
   ]
  },
  {
   "cell_type": "code",
   "execution_count": 215,
   "id": "1cb5499e-630c-48b3-80bd-09722d98ca57",
   "metadata": {},
   "outputs": [],
   "source": [
    "df_lemmatized=df_tokenized.copy()\n",
    "df_lemmatized['text'] = df_lemmatized['text'].apply(lemmatize_tokens)"
   ]
  },
  {
   "cell_type": "code",
   "execution_count": 216,
   "id": "0bfe2f2f-f184-4aab-ab21-a9fc717ff83b",
   "metadata": {},
   "outputs": [
    {
     "name": "stdout",
     "output_type": "stream",
     "text": [
      "Original Lenght:  647423\n",
      "Lemmatized Lenght:  647423\n"
     ]
    }
   ],
   "source": [
    "stopwords_lenght = df_tokenized['text'].apply(len)\n",
    "lemmatized_length = df_lemmatized['text'].apply(len)\n",
    "\n",
    "print('Original Lenght: ', stopwords_lenght.sum())\n",
    "print('Lemmatized Lenght: ', lemmatized_length.sum())"
   ]
  },
  {
   "cell_type": "code",
   "execution_count": 217,
   "id": "14bab4d6-94e1-4283-afe9-eb7504efc3ca",
   "metadata": {},
   "outputs": [
    {
     "name": "stdout",
     "output_type": "stream",
     "text": [
      "Original Tokens (First Row): ['for', 'media', 'inquiries', 'call']\n",
      "Lemmatized Tokens (First Row): ['for', 'medium', 'inquiry', 'call']\n"
     ]
    }
   ],
   "source": [
    "# Check if lemmatization actually changed any tokens by comparing original and lemmatized text for the first row\n",
    "print(f\"Original Tokens (First Row): {df_tokenized['text'].iloc[0]}\")\n",
    "print(f\"Lemmatized Tokens (First Row): {df_lemmatized['text'].iloc[0]}\")"
   ]
  },
  {
   "cell_type": "markdown",
   "id": "f7f71ad9-a5b1-4691-b85d-73c403341c80",
   "metadata": {},
   "source": [
    "### Vectorizing"
   ]
  },
  {
   "cell_type": "code",
   "execution_count": null,
   "id": "51447aa9-6068-46c9-b913-8b4a8d076441",
   "metadata": {},
   "outputs": [],
   "source": []
  }
 ],
 "metadata": {
  "kernelspec": {
   "display_name": "FED-Predictor",
   "language": "python",
   "name": "fed-predictor"
  },
  "language_info": {
   "codemirror_mode": {
    "name": "ipython",
    "version": 3
   },
   "file_extension": ".py",
   "mimetype": "text/x-python",
   "name": "python",
   "nbconvert_exporter": "python",
   "pygments_lexer": "ipython3",
   "version": "3.10.6"
  },
  "widgets": {
   "application/vnd.jupyter.widget-state+json": {
    "state": {},
    "version_major": 2,
    "version_minor": 0
   }
  }
 },
 "nbformat": 4,
 "nbformat_minor": 5
}
